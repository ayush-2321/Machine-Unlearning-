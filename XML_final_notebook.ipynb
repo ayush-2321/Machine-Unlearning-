{
  "nbformat": 4,
  "nbformat_minor": 0,
  "metadata": {
    "colab": {
      "provenance": [],
      "gpuType": "T4"
    },
    "kernelspec": {
      "name": "python3",
      "display_name": "Python 3"
    },
    "language_info": {
      "name": "python"
    },
    "accelerator": "GPU",
    "widgets": {
      "application/vnd.jupyter.widget-state+json": {
        "3faffb85173a4d7da99869d7d7037e33": {
          "model_module": "@jupyter-widgets/controls",
          "model_name": "HBoxModel",
          "model_module_version": "1.5.0",
          "state": {
            "_dom_classes": [],
            "_model_module": "@jupyter-widgets/controls",
            "_model_module_version": "1.5.0",
            "_model_name": "HBoxModel",
            "_view_count": null,
            "_view_module": "@jupyter-widgets/controls",
            "_view_module_version": "1.5.0",
            "_view_name": "HBoxView",
            "box_style": "",
            "children": [
              "IPY_MODEL_563b5491d4424290a57e9d99655f5ad7",
              "IPY_MODEL_4612f41069ce491f8d8d5892373b79e0",
              "IPY_MODEL_978784337ce14907b10b92b3888632c1"
            ],
            "layout": "IPY_MODEL_a72729d710a144b2b58829fadc9b79b4"
          }
        },
        "563b5491d4424290a57e9d99655f5ad7": {
          "model_module": "@jupyter-widgets/controls",
          "model_name": "HTMLModel",
          "model_module_version": "1.5.0",
          "state": {
            "_dom_classes": [],
            "_model_module": "@jupyter-widgets/controls",
            "_model_module_version": "1.5.0",
            "_model_name": "HTMLModel",
            "_view_count": null,
            "_view_module": "@jupyter-widgets/controls",
            "_view_module_version": "1.5.0",
            "_view_name": "HTMLView",
            "description": "",
            "description_tooltip": null,
            "layout": "IPY_MODEL_f1ccb10395b0443ca1aaffae7510a49a",
            "placeholder": "​",
            "style": "IPY_MODEL_a6a2e1edf8d64353b5a7a0b15d09e044",
            "value": ""
          }
        },
        "4612f41069ce491f8d8d5892373b79e0": {
          "model_module": "@jupyter-widgets/controls",
          "model_name": "FloatProgressModel",
          "model_module_version": "1.5.0",
          "state": {
            "_dom_classes": [],
            "_model_module": "@jupyter-widgets/controls",
            "_model_module_version": "1.5.0",
            "_model_name": "FloatProgressModel",
            "_view_count": null,
            "_view_module": "@jupyter-widgets/controls",
            "_view_module_version": "1.5.0",
            "_view_name": "ProgressView",
            "bar_style": "info",
            "description": "",
            "description_tooltip": null,
            "layout": "IPY_MODEL_8249533c831c44aaae34c8114f641bfb",
            "max": 1,
            "min": 0,
            "orientation": "horizontal",
            "style": "IPY_MODEL_b5602ac2864e4a0abea9fa6a76bcab7f",
            "value": 1
          }
        },
        "978784337ce14907b10b92b3888632c1": {
          "model_module": "@jupyter-widgets/controls",
          "model_name": "HTMLModel",
          "model_module_version": "1.5.0",
          "state": {
            "_dom_classes": [],
            "_model_module": "@jupyter-widgets/controls",
            "_model_module_version": "1.5.0",
            "_model_name": "HTMLModel",
            "_view_count": null,
            "_view_module": "@jupyter-widgets/controls",
            "_view_module_version": "1.5.0",
            "_view_name": "HTMLView",
            "description": "",
            "description_tooltip": null,
            "layout": "IPY_MODEL_f8424c9f82c842a4b3ec719895b3f82f",
            "placeholder": "​",
            "style": "IPY_MODEL_a5e361ddd3e743a19d2ed01b11b71d74",
            "value": " 75/? [00:03&lt;00:00, 25.74it/s]"
          }
        },
        "a72729d710a144b2b58829fadc9b79b4": {
          "model_module": "@jupyter-widgets/base",
          "model_name": "LayoutModel",
          "model_module_version": "1.2.0",
          "state": {
            "_model_module": "@jupyter-widgets/base",
            "_model_module_version": "1.2.0",
            "_model_name": "LayoutModel",
            "_view_count": null,
            "_view_module": "@jupyter-widgets/base",
            "_view_module_version": "1.2.0",
            "_view_name": "LayoutView",
            "align_content": null,
            "align_items": null,
            "align_self": null,
            "border": null,
            "bottom": null,
            "display": null,
            "flex": null,
            "flex_flow": null,
            "grid_area": null,
            "grid_auto_columns": null,
            "grid_auto_flow": null,
            "grid_auto_rows": null,
            "grid_column": null,
            "grid_gap": null,
            "grid_row": null,
            "grid_template_areas": null,
            "grid_template_columns": null,
            "grid_template_rows": null,
            "height": null,
            "justify_content": null,
            "justify_items": null,
            "left": null,
            "margin": null,
            "max_height": null,
            "max_width": null,
            "min_height": null,
            "min_width": null,
            "object_fit": null,
            "object_position": null,
            "order": null,
            "overflow": null,
            "overflow_x": null,
            "overflow_y": null,
            "padding": null,
            "right": null,
            "top": null,
            "visibility": "hidden",
            "width": null
          }
        },
        "f1ccb10395b0443ca1aaffae7510a49a": {
          "model_module": "@jupyter-widgets/base",
          "model_name": "LayoutModel",
          "model_module_version": "1.2.0",
          "state": {
            "_model_module": "@jupyter-widgets/base",
            "_model_module_version": "1.2.0",
            "_model_name": "LayoutModel",
            "_view_count": null,
            "_view_module": "@jupyter-widgets/base",
            "_view_module_version": "1.2.0",
            "_view_name": "LayoutView",
            "align_content": null,
            "align_items": null,
            "align_self": null,
            "border": null,
            "bottom": null,
            "display": null,
            "flex": null,
            "flex_flow": null,
            "grid_area": null,
            "grid_auto_columns": null,
            "grid_auto_flow": null,
            "grid_auto_rows": null,
            "grid_column": null,
            "grid_gap": null,
            "grid_row": null,
            "grid_template_areas": null,
            "grid_template_columns": null,
            "grid_template_rows": null,
            "height": null,
            "justify_content": null,
            "justify_items": null,
            "left": null,
            "margin": null,
            "max_height": null,
            "max_width": null,
            "min_height": null,
            "min_width": null,
            "object_fit": null,
            "object_position": null,
            "order": null,
            "overflow": null,
            "overflow_x": null,
            "overflow_y": null,
            "padding": null,
            "right": null,
            "top": null,
            "visibility": null,
            "width": null
          }
        },
        "a6a2e1edf8d64353b5a7a0b15d09e044": {
          "model_module": "@jupyter-widgets/controls",
          "model_name": "DescriptionStyleModel",
          "model_module_version": "1.5.0",
          "state": {
            "_model_module": "@jupyter-widgets/controls",
            "_model_module_version": "1.5.0",
            "_model_name": "DescriptionStyleModel",
            "_view_count": null,
            "_view_module": "@jupyter-widgets/base",
            "_view_module_version": "1.2.0",
            "_view_name": "StyleView",
            "description_width": ""
          }
        },
        "8249533c831c44aaae34c8114f641bfb": {
          "model_module": "@jupyter-widgets/base",
          "model_name": "LayoutModel",
          "model_module_version": "1.2.0",
          "state": {
            "_model_module": "@jupyter-widgets/base",
            "_model_module_version": "1.2.0",
            "_model_name": "LayoutModel",
            "_view_count": null,
            "_view_module": "@jupyter-widgets/base",
            "_view_module_version": "1.2.0",
            "_view_name": "LayoutView",
            "align_content": null,
            "align_items": null,
            "align_self": null,
            "border": null,
            "bottom": null,
            "display": null,
            "flex": null,
            "flex_flow": null,
            "grid_area": null,
            "grid_auto_columns": null,
            "grid_auto_flow": null,
            "grid_auto_rows": null,
            "grid_column": null,
            "grid_gap": null,
            "grid_row": null,
            "grid_template_areas": null,
            "grid_template_columns": null,
            "grid_template_rows": null,
            "height": null,
            "justify_content": null,
            "justify_items": null,
            "left": null,
            "margin": null,
            "max_height": null,
            "max_width": null,
            "min_height": null,
            "min_width": null,
            "object_fit": null,
            "object_position": null,
            "order": null,
            "overflow": null,
            "overflow_x": null,
            "overflow_y": null,
            "padding": null,
            "right": null,
            "top": null,
            "visibility": null,
            "width": "20px"
          }
        },
        "b5602ac2864e4a0abea9fa6a76bcab7f": {
          "model_module": "@jupyter-widgets/controls",
          "model_name": "ProgressStyleModel",
          "model_module_version": "1.5.0",
          "state": {
            "_model_module": "@jupyter-widgets/controls",
            "_model_module_version": "1.5.0",
            "_model_name": "ProgressStyleModel",
            "_view_count": null,
            "_view_module": "@jupyter-widgets/base",
            "_view_module_version": "1.2.0",
            "_view_name": "StyleView",
            "bar_color": null,
            "description_width": ""
          }
        },
        "f8424c9f82c842a4b3ec719895b3f82f": {
          "model_module": "@jupyter-widgets/base",
          "model_name": "LayoutModel",
          "model_module_version": "1.2.0",
          "state": {
            "_model_module": "@jupyter-widgets/base",
            "_model_module_version": "1.2.0",
            "_model_name": "LayoutModel",
            "_view_count": null,
            "_view_module": "@jupyter-widgets/base",
            "_view_module_version": "1.2.0",
            "_view_name": "LayoutView",
            "align_content": null,
            "align_items": null,
            "align_self": null,
            "border": null,
            "bottom": null,
            "display": null,
            "flex": null,
            "flex_flow": null,
            "grid_area": null,
            "grid_auto_columns": null,
            "grid_auto_flow": null,
            "grid_auto_rows": null,
            "grid_column": null,
            "grid_gap": null,
            "grid_row": null,
            "grid_template_areas": null,
            "grid_template_columns": null,
            "grid_template_rows": null,
            "height": null,
            "justify_content": null,
            "justify_items": null,
            "left": null,
            "margin": null,
            "max_height": null,
            "max_width": null,
            "min_height": null,
            "min_width": null,
            "object_fit": null,
            "object_position": null,
            "order": null,
            "overflow": null,
            "overflow_x": null,
            "overflow_y": null,
            "padding": null,
            "right": null,
            "top": null,
            "visibility": null,
            "width": null
          }
        },
        "a5e361ddd3e743a19d2ed01b11b71d74": {
          "model_module": "@jupyter-widgets/controls",
          "model_name": "DescriptionStyleModel",
          "model_module_version": "1.5.0",
          "state": {
            "_model_module": "@jupyter-widgets/controls",
            "_model_module_version": "1.5.0",
            "_model_name": "DescriptionStyleModel",
            "_view_count": null,
            "_view_module": "@jupyter-widgets/base",
            "_view_module_version": "1.2.0",
            "_view_name": "StyleView",
            "description_width": ""
          }
        },
        "76f781dc81004cc894f4632d396b8020": {
          "model_module": "@jupyter-widgets/controls",
          "model_name": "HBoxModel",
          "model_module_version": "1.5.0",
          "state": {
            "_dom_classes": [],
            "_model_module": "@jupyter-widgets/controls",
            "_model_module_version": "1.5.0",
            "_model_name": "HBoxModel",
            "_view_count": null,
            "_view_module": "@jupyter-widgets/controls",
            "_view_module_version": "1.5.0",
            "_view_name": "HBoxView",
            "box_style": "",
            "children": [
              "IPY_MODEL_f728587910154159bfa3477ceaef89d8",
              "IPY_MODEL_3a181100c1d645a0b23613205884fe1d",
              "IPY_MODEL_3fc48ee8ab8247d5b3821dac690f5c4a"
            ],
            "layout": "IPY_MODEL_7a982bdc096f45918047311a154eaf4f"
          }
        },
        "f728587910154159bfa3477ceaef89d8": {
          "model_module": "@jupyter-widgets/controls",
          "model_name": "HTMLModel",
          "model_module_version": "1.5.0",
          "state": {
            "_dom_classes": [],
            "_model_module": "@jupyter-widgets/controls",
            "_model_module_version": "1.5.0",
            "_model_name": "HTMLModel",
            "_view_count": null,
            "_view_module": "@jupyter-widgets/controls",
            "_view_module_version": "1.5.0",
            "_view_name": "HTMLView",
            "description": "",
            "description_tooltip": null,
            "layout": "IPY_MODEL_366c95f2845b4dabb9d31c7a94785a46",
            "placeholder": "​",
            "style": "IPY_MODEL_21e73a586187489ba5a5e9d2677792e6",
            "value": ""
          }
        },
        "3a181100c1d645a0b23613205884fe1d": {
          "model_module": "@jupyter-widgets/controls",
          "model_name": "FloatProgressModel",
          "model_module_version": "1.5.0",
          "state": {
            "_dom_classes": [],
            "_model_module": "@jupyter-widgets/controls",
            "_model_module_version": "1.5.0",
            "_model_name": "FloatProgressModel",
            "_view_count": null,
            "_view_module": "@jupyter-widgets/controls",
            "_view_module_version": "1.5.0",
            "_view_name": "ProgressView",
            "bar_style": "info",
            "description": "",
            "description_tooltip": null,
            "layout": "IPY_MODEL_dead22db99ae4632ab73f0d6f29f8aa7",
            "max": 1,
            "min": 0,
            "orientation": "horizontal",
            "style": "IPY_MODEL_488b1106699c43dba16b01ff84db2d74",
            "value": 1
          }
        },
        "3fc48ee8ab8247d5b3821dac690f5c4a": {
          "model_module": "@jupyter-widgets/controls",
          "model_name": "HTMLModel",
          "model_module_version": "1.5.0",
          "state": {
            "_dom_classes": [],
            "_model_module": "@jupyter-widgets/controls",
            "_model_module_version": "1.5.0",
            "_model_name": "HTMLModel",
            "_view_count": null,
            "_view_module": "@jupyter-widgets/controls",
            "_view_module_version": "1.5.0",
            "_view_name": "HTMLView",
            "description": "",
            "description_tooltip": null,
            "layout": "IPY_MODEL_60ea1abb34394fe9bc927421a39d4d8f",
            "placeholder": "​",
            "style": "IPY_MODEL_fe73548e98aa4cda85fe18e6fe8c8d7a",
            "value": " 73/? [00:02&lt;00:00, 26.30it/s]"
          }
        },
        "7a982bdc096f45918047311a154eaf4f": {
          "model_module": "@jupyter-widgets/base",
          "model_name": "LayoutModel",
          "model_module_version": "1.2.0",
          "state": {
            "_model_module": "@jupyter-widgets/base",
            "_model_module_version": "1.2.0",
            "_model_name": "LayoutModel",
            "_view_count": null,
            "_view_module": "@jupyter-widgets/base",
            "_view_module_version": "1.2.0",
            "_view_name": "LayoutView",
            "align_content": null,
            "align_items": null,
            "align_self": null,
            "border": null,
            "bottom": null,
            "display": null,
            "flex": null,
            "flex_flow": null,
            "grid_area": null,
            "grid_auto_columns": null,
            "grid_auto_flow": null,
            "grid_auto_rows": null,
            "grid_column": null,
            "grid_gap": null,
            "grid_row": null,
            "grid_template_areas": null,
            "grid_template_columns": null,
            "grid_template_rows": null,
            "height": null,
            "justify_content": null,
            "justify_items": null,
            "left": null,
            "margin": null,
            "max_height": null,
            "max_width": null,
            "min_height": null,
            "min_width": null,
            "object_fit": null,
            "object_position": null,
            "order": null,
            "overflow": null,
            "overflow_x": null,
            "overflow_y": null,
            "padding": null,
            "right": null,
            "top": null,
            "visibility": "hidden",
            "width": null
          }
        },
        "366c95f2845b4dabb9d31c7a94785a46": {
          "model_module": "@jupyter-widgets/base",
          "model_name": "LayoutModel",
          "model_module_version": "1.2.0",
          "state": {
            "_model_module": "@jupyter-widgets/base",
            "_model_module_version": "1.2.0",
            "_model_name": "LayoutModel",
            "_view_count": null,
            "_view_module": "@jupyter-widgets/base",
            "_view_module_version": "1.2.0",
            "_view_name": "LayoutView",
            "align_content": null,
            "align_items": null,
            "align_self": null,
            "border": null,
            "bottom": null,
            "display": null,
            "flex": null,
            "flex_flow": null,
            "grid_area": null,
            "grid_auto_columns": null,
            "grid_auto_flow": null,
            "grid_auto_rows": null,
            "grid_column": null,
            "grid_gap": null,
            "grid_row": null,
            "grid_template_areas": null,
            "grid_template_columns": null,
            "grid_template_rows": null,
            "height": null,
            "justify_content": null,
            "justify_items": null,
            "left": null,
            "margin": null,
            "max_height": null,
            "max_width": null,
            "min_height": null,
            "min_width": null,
            "object_fit": null,
            "object_position": null,
            "order": null,
            "overflow": null,
            "overflow_x": null,
            "overflow_y": null,
            "padding": null,
            "right": null,
            "top": null,
            "visibility": null,
            "width": null
          }
        },
        "21e73a586187489ba5a5e9d2677792e6": {
          "model_module": "@jupyter-widgets/controls",
          "model_name": "DescriptionStyleModel",
          "model_module_version": "1.5.0",
          "state": {
            "_model_module": "@jupyter-widgets/controls",
            "_model_module_version": "1.5.0",
            "_model_name": "DescriptionStyleModel",
            "_view_count": null,
            "_view_module": "@jupyter-widgets/base",
            "_view_module_version": "1.2.0",
            "_view_name": "StyleView",
            "description_width": ""
          }
        },
        "dead22db99ae4632ab73f0d6f29f8aa7": {
          "model_module": "@jupyter-widgets/base",
          "model_name": "LayoutModel",
          "model_module_version": "1.2.0",
          "state": {
            "_model_module": "@jupyter-widgets/base",
            "_model_module_version": "1.2.0",
            "_model_name": "LayoutModel",
            "_view_count": null,
            "_view_module": "@jupyter-widgets/base",
            "_view_module_version": "1.2.0",
            "_view_name": "LayoutView",
            "align_content": null,
            "align_items": null,
            "align_self": null,
            "border": null,
            "bottom": null,
            "display": null,
            "flex": null,
            "flex_flow": null,
            "grid_area": null,
            "grid_auto_columns": null,
            "grid_auto_flow": null,
            "grid_auto_rows": null,
            "grid_column": null,
            "grid_gap": null,
            "grid_row": null,
            "grid_template_areas": null,
            "grid_template_columns": null,
            "grid_template_rows": null,
            "height": null,
            "justify_content": null,
            "justify_items": null,
            "left": null,
            "margin": null,
            "max_height": null,
            "max_width": null,
            "min_height": null,
            "min_width": null,
            "object_fit": null,
            "object_position": null,
            "order": null,
            "overflow": null,
            "overflow_x": null,
            "overflow_y": null,
            "padding": null,
            "right": null,
            "top": null,
            "visibility": null,
            "width": "20px"
          }
        },
        "488b1106699c43dba16b01ff84db2d74": {
          "model_module": "@jupyter-widgets/controls",
          "model_name": "ProgressStyleModel",
          "model_module_version": "1.5.0",
          "state": {
            "_model_module": "@jupyter-widgets/controls",
            "_model_module_version": "1.5.0",
            "_model_name": "ProgressStyleModel",
            "_view_count": null,
            "_view_module": "@jupyter-widgets/base",
            "_view_module_version": "1.2.0",
            "_view_name": "StyleView",
            "bar_color": null,
            "description_width": ""
          }
        },
        "60ea1abb34394fe9bc927421a39d4d8f": {
          "model_module": "@jupyter-widgets/base",
          "model_name": "LayoutModel",
          "model_module_version": "1.2.0",
          "state": {
            "_model_module": "@jupyter-widgets/base",
            "_model_module_version": "1.2.0",
            "_model_name": "LayoutModel",
            "_view_count": null,
            "_view_module": "@jupyter-widgets/base",
            "_view_module_version": "1.2.0",
            "_view_name": "LayoutView",
            "align_content": null,
            "align_items": null,
            "align_self": null,
            "border": null,
            "bottom": null,
            "display": null,
            "flex": null,
            "flex_flow": null,
            "grid_area": null,
            "grid_auto_columns": null,
            "grid_auto_flow": null,
            "grid_auto_rows": null,
            "grid_column": null,
            "grid_gap": null,
            "grid_row": null,
            "grid_template_areas": null,
            "grid_template_columns": null,
            "grid_template_rows": null,
            "height": null,
            "justify_content": null,
            "justify_items": null,
            "left": null,
            "margin": null,
            "max_height": null,
            "max_width": null,
            "min_height": null,
            "min_width": null,
            "object_fit": null,
            "object_position": null,
            "order": null,
            "overflow": null,
            "overflow_x": null,
            "overflow_y": null,
            "padding": null,
            "right": null,
            "top": null,
            "visibility": null,
            "width": null
          }
        },
        "fe73548e98aa4cda85fe18e6fe8c8d7a": {
          "model_module": "@jupyter-widgets/controls",
          "model_name": "DescriptionStyleModel",
          "model_module_version": "1.5.0",
          "state": {
            "_model_module": "@jupyter-widgets/controls",
            "_model_module_version": "1.5.0",
            "_model_name": "DescriptionStyleModel",
            "_view_count": null,
            "_view_module": "@jupyter-widgets/base",
            "_view_module_version": "1.2.0",
            "_view_name": "StyleView",
            "description_width": ""
          }
        },
        "5bd4273973fb40a2887efe8dd52b8baf": {
          "model_module": "@jupyter-widgets/controls",
          "model_name": "HBoxModel",
          "model_module_version": "1.5.0",
          "state": {
            "_dom_classes": [],
            "_model_module": "@jupyter-widgets/controls",
            "_model_module_version": "1.5.0",
            "_model_name": "HBoxModel",
            "_view_count": null,
            "_view_module": "@jupyter-widgets/controls",
            "_view_module_version": "1.5.0",
            "_view_name": "HBoxView",
            "box_style": "",
            "children": [
              "IPY_MODEL_338427a5ff1e4f77a6c659325cf96d4b",
              "IPY_MODEL_b78e02b34d14495ead1edd85d5527c23",
              "IPY_MODEL_daef9b156c2940be8b14180bb1ba729f"
            ],
            "layout": "IPY_MODEL_31c5a96ad753432e80afcfe7cb7a95a5"
          }
        },
        "338427a5ff1e4f77a6c659325cf96d4b": {
          "model_module": "@jupyter-widgets/controls",
          "model_name": "HTMLModel",
          "model_module_version": "1.5.0",
          "state": {
            "_dom_classes": [],
            "_model_module": "@jupyter-widgets/controls",
            "_model_module_version": "1.5.0",
            "_model_name": "HTMLModel",
            "_view_count": null,
            "_view_module": "@jupyter-widgets/controls",
            "_view_module_version": "1.5.0",
            "_view_name": "HTMLView",
            "description": "",
            "description_tooltip": null,
            "layout": "IPY_MODEL_2d7a3efa33e14e08ae2c72ed246f938d",
            "placeholder": "​",
            "style": "IPY_MODEL_9f5f3739e2154f41ace3b747eac47939",
            "value": ""
          }
        },
        "b78e02b34d14495ead1edd85d5527c23": {
          "model_module": "@jupyter-widgets/controls",
          "model_name": "FloatProgressModel",
          "model_module_version": "1.5.0",
          "state": {
            "_dom_classes": [],
            "_model_module": "@jupyter-widgets/controls",
            "_model_module_version": "1.5.0",
            "_model_name": "FloatProgressModel",
            "_view_count": null,
            "_view_module": "@jupyter-widgets/controls",
            "_view_module_version": "1.5.0",
            "_view_name": "ProgressView",
            "bar_style": "info",
            "description": "",
            "description_tooltip": null,
            "layout": "IPY_MODEL_28bbee1a053a484b8b8c2428ed0bd545",
            "max": 1,
            "min": 0,
            "orientation": "horizontal",
            "style": "IPY_MODEL_41ec4b80a7334bc084bc8fb6528d63a0",
            "value": 1
          }
        },
        "daef9b156c2940be8b14180bb1ba729f": {
          "model_module": "@jupyter-widgets/controls",
          "model_name": "HTMLModel",
          "model_module_version": "1.5.0",
          "state": {
            "_dom_classes": [],
            "_model_module": "@jupyter-widgets/controls",
            "_model_module_version": "1.5.0",
            "_model_name": "HTMLModel",
            "_view_count": null,
            "_view_module": "@jupyter-widgets/controls",
            "_view_module_version": "1.5.0",
            "_view_name": "HTMLView",
            "description": "",
            "description_tooltip": null,
            "layout": "IPY_MODEL_c851f066ee3e4d0d8a9ebc1d611b2430",
            "placeholder": "​",
            "style": "IPY_MODEL_08f1bbedfb144086b7e292d83ad819f5",
            "value": " 75/? [00:02&lt;00:00, 25.62it/s]"
          }
        },
        "31c5a96ad753432e80afcfe7cb7a95a5": {
          "model_module": "@jupyter-widgets/base",
          "model_name": "LayoutModel",
          "model_module_version": "1.2.0",
          "state": {
            "_model_module": "@jupyter-widgets/base",
            "_model_module_version": "1.2.0",
            "_model_name": "LayoutModel",
            "_view_count": null,
            "_view_module": "@jupyter-widgets/base",
            "_view_module_version": "1.2.0",
            "_view_name": "LayoutView",
            "align_content": null,
            "align_items": null,
            "align_self": null,
            "border": null,
            "bottom": null,
            "display": null,
            "flex": null,
            "flex_flow": null,
            "grid_area": null,
            "grid_auto_columns": null,
            "grid_auto_flow": null,
            "grid_auto_rows": null,
            "grid_column": null,
            "grid_gap": null,
            "grid_row": null,
            "grid_template_areas": null,
            "grid_template_columns": null,
            "grid_template_rows": null,
            "height": null,
            "justify_content": null,
            "justify_items": null,
            "left": null,
            "margin": null,
            "max_height": null,
            "max_width": null,
            "min_height": null,
            "min_width": null,
            "object_fit": null,
            "object_position": null,
            "order": null,
            "overflow": null,
            "overflow_x": null,
            "overflow_y": null,
            "padding": null,
            "right": null,
            "top": null,
            "visibility": "hidden",
            "width": null
          }
        },
        "2d7a3efa33e14e08ae2c72ed246f938d": {
          "model_module": "@jupyter-widgets/base",
          "model_name": "LayoutModel",
          "model_module_version": "1.2.0",
          "state": {
            "_model_module": "@jupyter-widgets/base",
            "_model_module_version": "1.2.0",
            "_model_name": "LayoutModel",
            "_view_count": null,
            "_view_module": "@jupyter-widgets/base",
            "_view_module_version": "1.2.0",
            "_view_name": "LayoutView",
            "align_content": null,
            "align_items": null,
            "align_self": null,
            "border": null,
            "bottom": null,
            "display": null,
            "flex": null,
            "flex_flow": null,
            "grid_area": null,
            "grid_auto_columns": null,
            "grid_auto_flow": null,
            "grid_auto_rows": null,
            "grid_column": null,
            "grid_gap": null,
            "grid_row": null,
            "grid_template_areas": null,
            "grid_template_columns": null,
            "grid_template_rows": null,
            "height": null,
            "justify_content": null,
            "justify_items": null,
            "left": null,
            "margin": null,
            "max_height": null,
            "max_width": null,
            "min_height": null,
            "min_width": null,
            "object_fit": null,
            "object_position": null,
            "order": null,
            "overflow": null,
            "overflow_x": null,
            "overflow_y": null,
            "padding": null,
            "right": null,
            "top": null,
            "visibility": null,
            "width": null
          }
        },
        "9f5f3739e2154f41ace3b747eac47939": {
          "model_module": "@jupyter-widgets/controls",
          "model_name": "DescriptionStyleModel",
          "model_module_version": "1.5.0",
          "state": {
            "_model_module": "@jupyter-widgets/controls",
            "_model_module_version": "1.5.0",
            "_model_name": "DescriptionStyleModel",
            "_view_count": null,
            "_view_module": "@jupyter-widgets/base",
            "_view_module_version": "1.2.0",
            "_view_name": "StyleView",
            "description_width": ""
          }
        },
        "28bbee1a053a484b8b8c2428ed0bd545": {
          "model_module": "@jupyter-widgets/base",
          "model_name": "LayoutModel",
          "model_module_version": "1.2.0",
          "state": {
            "_model_module": "@jupyter-widgets/base",
            "_model_module_version": "1.2.0",
            "_model_name": "LayoutModel",
            "_view_count": null,
            "_view_module": "@jupyter-widgets/base",
            "_view_module_version": "1.2.0",
            "_view_name": "LayoutView",
            "align_content": null,
            "align_items": null,
            "align_self": null,
            "border": null,
            "bottom": null,
            "display": null,
            "flex": null,
            "flex_flow": null,
            "grid_area": null,
            "grid_auto_columns": null,
            "grid_auto_flow": null,
            "grid_auto_rows": null,
            "grid_column": null,
            "grid_gap": null,
            "grid_row": null,
            "grid_template_areas": null,
            "grid_template_columns": null,
            "grid_template_rows": null,
            "height": null,
            "justify_content": null,
            "justify_items": null,
            "left": null,
            "margin": null,
            "max_height": null,
            "max_width": null,
            "min_height": null,
            "min_width": null,
            "object_fit": null,
            "object_position": null,
            "order": null,
            "overflow": null,
            "overflow_x": null,
            "overflow_y": null,
            "padding": null,
            "right": null,
            "top": null,
            "visibility": null,
            "width": "20px"
          }
        },
        "41ec4b80a7334bc084bc8fb6528d63a0": {
          "model_module": "@jupyter-widgets/controls",
          "model_name": "ProgressStyleModel",
          "model_module_version": "1.5.0",
          "state": {
            "_model_module": "@jupyter-widgets/controls",
            "_model_module_version": "1.5.0",
            "_model_name": "ProgressStyleModel",
            "_view_count": null,
            "_view_module": "@jupyter-widgets/base",
            "_view_module_version": "1.2.0",
            "_view_name": "StyleView",
            "bar_color": null,
            "description_width": ""
          }
        },
        "c851f066ee3e4d0d8a9ebc1d611b2430": {
          "model_module": "@jupyter-widgets/base",
          "model_name": "LayoutModel",
          "model_module_version": "1.2.0",
          "state": {
            "_model_module": "@jupyter-widgets/base",
            "_model_module_version": "1.2.0",
            "_model_name": "LayoutModel",
            "_view_count": null,
            "_view_module": "@jupyter-widgets/base",
            "_view_module_version": "1.2.0",
            "_view_name": "LayoutView",
            "align_content": null,
            "align_items": null,
            "align_self": null,
            "border": null,
            "bottom": null,
            "display": null,
            "flex": null,
            "flex_flow": null,
            "grid_area": null,
            "grid_auto_columns": null,
            "grid_auto_flow": null,
            "grid_auto_rows": null,
            "grid_column": null,
            "grid_gap": null,
            "grid_row": null,
            "grid_template_areas": null,
            "grid_template_columns": null,
            "grid_template_rows": null,
            "height": null,
            "justify_content": null,
            "justify_items": null,
            "left": null,
            "margin": null,
            "max_height": null,
            "max_width": null,
            "min_height": null,
            "min_width": null,
            "object_fit": null,
            "object_position": null,
            "order": null,
            "overflow": null,
            "overflow_x": null,
            "overflow_y": null,
            "padding": null,
            "right": null,
            "top": null,
            "visibility": null,
            "width": null
          }
        },
        "08f1bbedfb144086b7e292d83ad819f5": {
          "model_module": "@jupyter-widgets/controls",
          "model_name": "DescriptionStyleModel",
          "model_module_version": "1.5.0",
          "state": {
            "_model_module": "@jupyter-widgets/controls",
            "_model_module_version": "1.5.0",
            "_model_name": "DescriptionStyleModel",
            "_view_count": null,
            "_view_module": "@jupyter-widgets/base",
            "_view_module_version": "1.2.0",
            "_view_name": "StyleView",
            "description_width": ""
          }
        },
        "499ec8054e754bafadc9d01b46165f99": {
          "model_module": "@jupyter-widgets/controls",
          "model_name": "HBoxModel",
          "model_module_version": "1.5.0",
          "state": {
            "_dom_classes": [],
            "_model_module": "@jupyter-widgets/controls",
            "_model_module_version": "1.5.0",
            "_model_name": "HBoxModel",
            "_view_count": null,
            "_view_module": "@jupyter-widgets/controls",
            "_view_module_version": "1.5.0",
            "_view_name": "HBoxView",
            "box_style": "",
            "children": [
              "IPY_MODEL_012777eb800a43b4aa47fa58bc06f609",
              "IPY_MODEL_18f7a7da7806459da6f83d2b4083dbe0",
              "IPY_MODEL_fe6884fa11ab4528b10840996e5ab8db"
            ],
            "layout": "IPY_MODEL_4f2ff46c04c143d9bf25753ac46b5126"
          }
        },
        "012777eb800a43b4aa47fa58bc06f609": {
          "model_module": "@jupyter-widgets/controls",
          "model_name": "HTMLModel",
          "model_module_version": "1.5.0",
          "state": {
            "_dom_classes": [],
            "_model_module": "@jupyter-widgets/controls",
            "_model_module_version": "1.5.0",
            "_model_name": "HTMLModel",
            "_view_count": null,
            "_view_module": "@jupyter-widgets/controls",
            "_view_module_version": "1.5.0",
            "_view_name": "HTMLView",
            "description": "",
            "description_tooltip": null,
            "layout": "IPY_MODEL_65ab16ca8f84440eb2e3e1308f2e8cf4",
            "placeholder": "​",
            "style": "IPY_MODEL_f8fe91f9bd334675909c965e9c2b9bc1",
            "value": ""
          }
        },
        "18f7a7da7806459da6f83d2b4083dbe0": {
          "model_module": "@jupyter-widgets/controls",
          "model_name": "FloatProgressModel",
          "model_module_version": "1.5.0",
          "state": {
            "_dom_classes": [],
            "_model_module": "@jupyter-widgets/controls",
            "_model_module_version": "1.5.0",
            "_model_name": "FloatProgressModel",
            "_view_count": null,
            "_view_module": "@jupyter-widgets/controls",
            "_view_module_version": "1.5.0",
            "_view_name": "ProgressView",
            "bar_style": "info",
            "description": "",
            "description_tooltip": null,
            "layout": "IPY_MODEL_ba750fa2efd249f78d39b4979955df06",
            "max": 1,
            "min": 0,
            "orientation": "horizontal",
            "style": "IPY_MODEL_59394ad30f8d4266b0a3feda7f533ccc",
            "value": 1
          }
        },
        "fe6884fa11ab4528b10840996e5ab8db": {
          "model_module": "@jupyter-widgets/controls",
          "model_name": "HTMLModel",
          "model_module_version": "1.5.0",
          "state": {
            "_dom_classes": [],
            "_model_module": "@jupyter-widgets/controls",
            "_model_module_version": "1.5.0",
            "_model_name": "HTMLModel",
            "_view_count": null,
            "_view_module": "@jupyter-widgets/controls",
            "_view_module_version": "1.5.0",
            "_view_name": "HTMLView",
            "description": "",
            "description_tooltip": null,
            "layout": "IPY_MODEL_ffabda1314b84cb7a841168964c63bd3",
            "placeholder": "​",
            "style": "IPY_MODEL_c1d808fe5aa24d068e4a42adc8b0789b",
            "value": " 75/? [00:02&lt;00:00, 26.48it/s]"
          }
        },
        "4f2ff46c04c143d9bf25753ac46b5126": {
          "model_module": "@jupyter-widgets/base",
          "model_name": "LayoutModel",
          "model_module_version": "1.2.0",
          "state": {
            "_model_module": "@jupyter-widgets/base",
            "_model_module_version": "1.2.0",
            "_model_name": "LayoutModel",
            "_view_count": null,
            "_view_module": "@jupyter-widgets/base",
            "_view_module_version": "1.2.0",
            "_view_name": "LayoutView",
            "align_content": null,
            "align_items": null,
            "align_self": null,
            "border": null,
            "bottom": null,
            "display": null,
            "flex": null,
            "flex_flow": null,
            "grid_area": null,
            "grid_auto_columns": null,
            "grid_auto_flow": null,
            "grid_auto_rows": null,
            "grid_column": null,
            "grid_gap": null,
            "grid_row": null,
            "grid_template_areas": null,
            "grid_template_columns": null,
            "grid_template_rows": null,
            "height": null,
            "justify_content": null,
            "justify_items": null,
            "left": null,
            "margin": null,
            "max_height": null,
            "max_width": null,
            "min_height": null,
            "min_width": null,
            "object_fit": null,
            "object_position": null,
            "order": null,
            "overflow": null,
            "overflow_x": null,
            "overflow_y": null,
            "padding": null,
            "right": null,
            "top": null,
            "visibility": "hidden",
            "width": null
          }
        },
        "65ab16ca8f84440eb2e3e1308f2e8cf4": {
          "model_module": "@jupyter-widgets/base",
          "model_name": "LayoutModel",
          "model_module_version": "1.2.0",
          "state": {
            "_model_module": "@jupyter-widgets/base",
            "_model_module_version": "1.2.0",
            "_model_name": "LayoutModel",
            "_view_count": null,
            "_view_module": "@jupyter-widgets/base",
            "_view_module_version": "1.2.0",
            "_view_name": "LayoutView",
            "align_content": null,
            "align_items": null,
            "align_self": null,
            "border": null,
            "bottom": null,
            "display": null,
            "flex": null,
            "flex_flow": null,
            "grid_area": null,
            "grid_auto_columns": null,
            "grid_auto_flow": null,
            "grid_auto_rows": null,
            "grid_column": null,
            "grid_gap": null,
            "grid_row": null,
            "grid_template_areas": null,
            "grid_template_columns": null,
            "grid_template_rows": null,
            "height": null,
            "justify_content": null,
            "justify_items": null,
            "left": null,
            "margin": null,
            "max_height": null,
            "max_width": null,
            "min_height": null,
            "min_width": null,
            "object_fit": null,
            "object_position": null,
            "order": null,
            "overflow": null,
            "overflow_x": null,
            "overflow_y": null,
            "padding": null,
            "right": null,
            "top": null,
            "visibility": null,
            "width": null
          }
        },
        "f8fe91f9bd334675909c965e9c2b9bc1": {
          "model_module": "@jupyter-widgets/controls",
          "model_name": "DescriptionStyleModel",
          "model_module_version": "1.5.0",
          "state": {
            "_model_module": "@jupyter-widgets/controls",
            "_model_module_version": "1.5.0",
            "_model_name": "DescriptionStyleModel",
            "_view_count": null,
            "_view_module": "@jupyter-widgets/base",
            "_view_module_version": "1.2.0",
            "_view_name": "StyleView",
            "description_width": ""
          }
        },
        "ba750fa2efd249f78d39b4979955df06": {
          "model_module": "@jupyter-widgets/base",
          "model_name": "LayoutModel",
          "model_module_version": "1.2.0",
          "state": {
            "_model_module": "@jupyter-widgets/base",
            "_model_module_version": "1.2.0",
            "_model_name": "LayoutModel",
            "_view_count": null,
            "_view_module": "@jupyter-widgets/base",
            "_view_module_version": "1.2.0",
            "_view_name": "LayoutView",
            "align_content": null,
            "align_items": null,
            "align_self": null,
            "border": null,
            "bottom": null,
            "display": null,
            "flex": null,
            "flex_flow": null,
            "grid_area": null,
            "grid_auto_columns": null,
            "grid_auto_flow": null,
            "grid_auto_rows": null,
            "grid_column": null,
            "grid_gap": null,
            "grid_row": null,
            "grid_template_areas": null,
            "grid_template_columns": null,
            "grid_template_rows": null,
            "height": null,
            "justify_content": null,
            "justify_items": null,
            "left": null,
            "margin": null,
            "max_height": null,
            "max_width": null,
            "min_height": null,
            "min_width": null,
            "object_fit": null,
            "object_position": null,
            "order": null,
            "overflow": null,
            "overflow_x": null,
            "overflow_y": null,
            "padding": null,
            "right": null,
            "top": null,
            "visibility": null,
            "width": "20px"
          }
        },
        "59394ad30f8d4266b0a3feda7f533ccc": {
          "model_module": "@jupyter-widgets/controls",
          "model_name": "ProgressStyleModel",
          "model_module_version": "1.5.0",
          "state": {
            "_model_module": "@jupyter-widgets/controls",
            "_model_module_version": "1.5.0",
            "_model_name": "ProgressStyleModel",
            "_view_count": null,
            "_view_module": "@jupyter-widgets/base",
            "_view_module_version": "1.2.0",
            "_view_name": "StyleView",
            "bar_color": null,
            "description_width": ""
          }
        },
        "ffabda1314b84cb7a841168964c63bd3": {
          "model_module": "@jupyter-widgets/base",
          "model_name": "LayoutModel",
          "model_module_version": "1.2.0",
          "state": {
            "_model_module": "@jupyter-widgets/base",
            "_model_module_version": "1.2.0",
            "_model_name": "LayoutModel",
            "_view_count": null,
            "_view_module": "@jupyter-widgets/base",
            "_view_module_version": "1.2.0",
            "_view_name": "LayoutView",
            "align_content": null,
            "align_items": null,
            "align_self": null,
            "border": null,
            "bottom": null,
            "display": null,
            "flex": null,
            "flex_flow": null,
            "grid_area": null,
            "grid_auto_columns": null,
            "grid_auto_flow": null,
            "grid_auto_rows": null,
            "grid_column": null,
            "grid_gap": null,
            "grid_row": null,
            "grid_template_areas": null,
            "grid_template_columns": null,
            "grid_template_rows": null,
            "height": null,
            "justify_content": null,
            "justify_items": null,
            "left": null,
            "margin": null,
            "max_height": null,
            "max_width": null,
            "min_height": null,
            "min_width": null,
            "object_fit": null,
            "object_position": null,
            "order": null,
            "overflow": null,
            "overflow_x": null,
            "overflow_y": null,
            "padding": null,
            "right": null,
            "top": null,
            "visibility": null,
            "width": null
          }
        },
        "c1d808fe5aa24d068e4a42adc8b0789b": {
          "model_module": "@jupyter-widgets/controls",
          "model_name": "DescriptionStyleModel",
          "model_module_version": "1.5.0",
          "state": {
            "_model_module": "@jupyter-widgets/controls",
            "_model_module_version": "1.5.0",
            "_model_name": "DescriptionStyleModel",
            "_view_count": null,
            "_view_module": "@jupyter-widgets/base",
            "_view_module_version": "1.2.0",
            "_view_name": "StyleView",
            "description_width": ""
          }
        },
        "26e3fe11e1aa4489901a5190553e4391": {
          "model_module": "@jupyter-widgets/controls",
          "model_name": "HBoxModel",
          "model_module_version": "1.5.0",
          "state": {
            "_dom_classes": [],
            "_model_module": "@jupyter-widgets/controls",
            "_model_module_version": "1.5.0",
            "_model_name": "HBoxModel",
            "_view_count": null,
            "_view_module": "@jupyter-widgets/controls",
            "_view_module_version": "1.5.0",
            "_view_name": "HBoxView",
            "box_style": "",
            "children": [
              "IPY_MODEL_22c6b73a0d614a3099875a57d1bb68e8",
              "IPY_MODEL_f38f0bc79071492f8388e79c3d58d97b",
              "IPY_MODEL_e318072409ce4f1587813b2f4be51b32"
            ],
            "layout": "IPY_MODEL_171b5509fe0a48c69b948f27672b01aa"
          }
        },
        "22c6b73a0d614a3099875a57d1bb68e8": {
          "model_module": "@jupyter-widgets/controls",
          "model_name": "HTMLModel",
          "model_module_version": "1.5.0",
          "state": {
            "_dom_classes": [],
            "_model_module": "@jupyter-widgets/controls",
            "_model_module_version": "1.5.0",
            "_model_name": "HTMLModel",
            "_view_count": null,
            "_view_module": "@jupyter-widgets/controls",
            "_view_module_version": "1.5.0",
            "_view_name": "HTMLView",
            "description": "",
            "description_tooltip": null,
            "layout": "IPY_MODEL_88d29abb52794066ba5679ba57446d9e",
            "placeholder": "​",
            "style": "IPY_MODEL_db139fdab8124e58beb933f9953fc582",
            "value": ""
          }
        },
        "f38f0bc79071492f8388e79c3d58d97b": {
          "model_module": "@jupyter-widgets/controls",
          "model_name": "FloatProgressModel",
          "model_module_version": "1.5.0",
          "state": {
            "_dom_classes": [],
            "_model_module": "@jupyter-widgets/controls",
            "_model_module_version": "1.5.0",
            "_model_name": "FloatProgressModel",
            "_view_count": null,
            "_view_module": "@jupyter-widgets/controls",
            "_view_module_version": "1.5.0",
            "_view_name": "ProgressView",
            "bar_style": "info",
            "description": "",
            "description_tooltip": null,
            "layout": "IPY_MODEL_3dcd38b091e14b75878d115738dda9d1",
            "max": 1,
            "min": 0,
            "orientation": "horizontal",
            "style": "IPY_MODEL_cf368d3792ff458aa734021a5619bc4e",
            "value": 1
          }
        },
        "e318072409ce4f1587813b2f4be51b32": {
          "model_module": "@jupyter-widgets/controls",
          "model_name": "HTMLModel",
          "model_module_version": "1.5.0",
          "state": {
            "_dom_classes": [],
            "_model_module": "@jupyter-widgets/controls",
            "_model_module_version": "1.5.0",
            "_model_name": "HTMLModel",
            "_view_count": null,
            "_view_module": "@jupyter-widgets/controls",
            "_view_module_version": "1.5.0",
            "_view_name": "HTMLView",
            "description": "",
            "description_tooltip": null,
            "layout": "IPY_MODEL_c71814f5a8c74c26af5af3fd82a720b4",
            "placeholder": "​",
            "style": "IPY_MODEL_0765891b04414df89e224fc5e771da3c",
            "value": " 73/? [00:03&lt;00:00, 17.73it/s]"
          }
        },
        "171b5509fe0a48c69b948f27672b01aa": {
          "model_module": "@jupyter-widgets/base",
          "model_name": "LayoutModel",
          "model_module_version": "1.2.0",
          "state": {
            "_model_module": "@jupyter-widgets/base",
            "_model_module_version": "1.2.0",
            "_model_name": "LayoutModel",
            "_view_count": null,
            "_view_module": "@jupyter-widgets/base",
            "_view_module_version": "1.2.0",
            "_view_name": "LayoutView",
            "align_content": null,
            "align_items": null,
            "align_self": null,
            "border": null,
            "bottom": null,
            "display": null,
            "flex": null,
            "flex_flow": null,
            "grid_area": null,
            "grid_auto_columns": null,
            "grid_auto_flow": null,
            "grid_auto_rows": null,
            "grid_column": null,
            "grid_gap": null,
            "grid_row": null,
            "grid_template_areas": null,
            "grid_template_columns": null,
            "grid_template_rows": null,
            "height": null,
            "justify_content": null,
            "justify_items": null,
            "left": null,
            "margin": null,
            "max_height": null,
            "max_width": null,
            "min_height": null,
            "min_width": null,
            "object_fit": null,
            "object_position": null,
            "order": null,
            "overflow": null,
            "overflow_x": null,
            "overflow_y": null,
            "padding": null,
            "right": null,
            "top": null,
            "visibility": "hidden",
            "width": null
          }
        },
        "88d29abb52794066ba5679ba57446d9e": {
          "model_module": "@jupyter-widgets/base",
          "model_name": "LayoutModel",
          "model_module_version": "1.2.0",
          "state": {
            "_model_module": "@jupyter-widgets/base",
            "_model_module_version": "1.2.0",
            "_model_name": "LayoutModel",
            "_view_count": null,
            "_view_module": "@jupyter-widgets/base",
            "_view_module_version": "1.2.0",
            "_view_name": "LayoutView",
            "align_content": null,
            "align_items": null,
            "align_self": null,
            "border": null,
            "bottom": null,
            "display": null,
            "flex": null,
            "flex_flow": null,
            "grid_area": null,
            "grid_auto_columns": null,
            "grid_auto_flow": null,
            "grid_auto_rows": null,
            "grid_column": null,
            "grid_gap": null,
            "grid_row": null,
            "grid_template_areas": null,
            "grid_template_columns": null,
            "grid_template_rows": null,
            "height": null,
            "justify_content": null,
            "justify_items": null,
            "left": null,
            "margin": null,
            "max_height": null,
            "max_width": null,
            "min_height": null,
            "min_width": null,
            "object_fit": null,
            "object_position": null,
            "order": null,
            "overflow": null,
            "overflow_x": null,
            "overflow_y": null,
            "padding": null,
            "right": null,
            "top": null,
            "visibility": null,
            "width": null
          }
        },
        "db139fdab8124e58beb933f9953fc582": {
          "model_module": "@jupyter-widgets/controls",
          "model_name": "DescriptionStyleModel",
          "model_module_version": "1.5.0",
          "state": {
            "_model_module": "@jupyter-widgets/controls",
            "_model_module_version": "1.5.0",
            "_model_name": "DescriptionStyleModel",
            "_view_count": null,
            "_view_module": "@jupyter-widgets/base",
            "_view_module_version": "1.2.0",
            "_view_name": "StyleView",
            "description_width": ""
          }
        },
        "3dcd38b091e14b75878d115738dda9d1": {
          "model_module": "@jupyter-widgets/base",
          "model_name": "LayoutModel",
          "model_module_version": "1.2.0",
          "state": {
            "_model_module": "@jupyter-widgets/base",
            "_model_module_version": "1.2.0",
            "_model_name": "LayoutModel",
            "_view_count": null,
            "_view_module": "@jupyter-widgets/base",
            "_view_module_version": "1.2.0",
            "_view_name": "LayoutView",
            "align_content": null,
            "align_items": null,
            "align_self": null,
            "border": null,
            "bottom": null,
            "display": null,
            "flex": null,
            "flex_flow": null,
            "grid_area": null,
            "grid_auto_columns": null,
            "grid_auto_flow": null,
            "grid_auto_rows": null,
            "grid_column": null,
            "grid_gap": null,
            "grid_row": null,
            "grid_template_areas": null,
            "grid_template_columns": null,
            "grid_template_rows": null,
            "height": null,
            "justify_content": null,
            "justify_items": null,
            "left": null,
            "margin": null,
            "max_height": null,
            "max_width": null,
            "min_height": null,
            "min_width": null,
            "object_fit": null,
            "object_position": null,
            "order": null,
            "overflow": null,
            "overflow_x": null,
            "overflow_y": null,
            "padding": null,
            "right": null,
            "top": null,
            "visibility": null,
            "width": "20px"
          }
        },
        "cf368d3792ff458aa734021a5619bc4e": {
          "model_module": "@jupyter-widgets/controls",
          "model_name": "ProgressStyleModel",
          "model_module_version": "1.5.0",
          "state": {
            "_model_module": "@jupyter-widgets/controls",
            "_model_module_version": "1.5.0",
            "_model_name": "ProgressStyleModel",
            "_view_count": null,
            "_view_module": "@jupyter-widgets/base",
            "_view_module_version": "1.2.0",
            "_view_name": "StyleView",
            "bar_color": null,
            "description_width": ""
          }
        },
        "c71814f5a8c74c26af5af3fd82a720b4": {
          "model_module": "@jupyter-widgets/base",
          "model_name": "LayoutModel",
          "model_module_version": "1.2.0",
          "state": {
            "_model_module": "@jupyter-widgets/base",
            "_model_module_version": "1.2.0",
            "_model_name": "LayoutModel",
            "_view_count": null,
            "_view_module": "@jupyter-widgets/base",
            "_view_module_version": "1.2.0",
            "_view_name": "LayoutView",
            "align_content": null,
            "align_items": null,
            "align_self": null,
            "border": null,
            "bottom": null,
            "display": null,
            "flex": null,
            "flex_flow": null,
            "grid_area": null,
            "grid_auto_columns": null,
            "grid_auto_flow": null,
            "grid_auto_rows": null,
            "grid_column": null,
            "grid_gap": null,
            "grid_row": null,
            "grid_template_areas": null,
            "grid_template_columns": null,
            "grid_template_rows": null,
            "height": null,
            "justify_content": null,
            "justify_items": null,
            "left": null,
            "margin": null,
            "max_height": null,
            "max_width": null,
            "min_height": null,
            "min_width": null,
            "object_fit": null,
            "object_position": null,
            "order": null,
            "overflow": null,
            "overflow_x": null,
            "overflow_y": null,
            "padding": null,
            "right": null,
            "top": null,
            "visibility": null,
            "width": null
          }
        },
        "0765891b04414df89e224fc5e771da3c": {
          "model_module": "@jupyter-widgets/controls",
          "model_name": "DescriptionStyleModel",
          "model_module_version": "1.5.0",
          "state": {
            "_model_module": "@jupyter-widgets/controls",
            "_model_module_version": "1.5.0",
            "_model_name": "DescriptionStyleModel",
            "_view_count": null,
            "_view_module": "@jupyter-widgets/base",
            "_view_module_version": "1.2.0",
            "_view_name": "StyleView",
            "description_width": ""
          }
        },
        "9ce4ec5776964926a2550460d33d6b83": {
          "model_module": "@jupyter-widgets/controls",
          "model_name": "HBoxModel",
          "model_module_version": "1.5.0",
          "state": {
            "_dom_classes": [],
            "_model_module": "@jupyter-widgets/controls",
            "_model_module_version": "1.5.0",
            "_model_name": "HBoxModel",
            "_view_count": null,
            "_view_module": "@jupyter-widgets/controls",
            "_view_module_version": "1.5.0",
            "_view_name": "HBoxView",
            "box_style": "",
            "children": [
              "IPY_MODEL_ba8f6be60095462281847baa2c561e35",
              "IPY_MODEL_ff8e48dc28314809966192ec32adf5c0",
              "IPY_MODEL_579b79b027154f13ad81373e1cda42c7"
            ],
            "layout": "IPY_MODEL_fb5e26456da6453da0de7fba34ba3396"
          }
        },
        "ba8f6be60095462281847baa2c561e35": {
          "model_module": "@jupyter-widgets/controls",
          "model_name": "HTMLModel",
          "model_module_version": "1.5.0",
          "state": {
            "_dom_classes": [],
            "_model_module": "@jupyter-widgets/controls",
            "_model_module_version": "1.5.0",
            "_model_name": "HTMLModel",
            "_view_count": null,
            "_view_module": "@jupyter-widgets/controls",
            "_view_module_version": "1.5.0",
            "_view_name": "HTMLView",
            "description": "",
            "description_tooltip": null,
            "layout": "IPY_MODEL_1a875776007844508ab13a4f3aeed7bc",
            "placeholder": "​",
            "style": "IPY_MODEL_d6efee82927e4312bf64ea7b0dd69f0a",
            "value": ""
          }
        },
        "ff8e48dc28314809966192ec32adf5c0": {
          "model_module": "@jupyter-widgets/controls",
          "model_name": "FloatProgressModel",
          "model_module_version": "1.5.0",
          "state": {
            "_dom_classes": [],
            "_model_module": "@jupyter-widgets/controls",
            "_model_module_version": "1.5.0",
            "_model_name": "FloatProgressModel",
            "_view_count": null,
            "_view_module": "@jupyter-widgets/controls",
            "_view_module_version": "1.5.0",
            "_view_name": "ProgressView",
            "bar_style": "info",
            "description": "",
            "description_tooltip": null,
            "layout": "IPY_MODEL_393845f85e444afb887c9ca508c4d597",
            "max": 1,
            "min": 0,
            "orientation": "horizontal",
            "style": "IPY_MODEL_98f44f5c92e6437f952775dd9596a285",
            "value": 1
          }
        },
        "579b79b027154f13ad81373e1cda42c7": {
          "model_module": "@jupyter-widgets/controls",
          "model_name": "HTMLModel",
          "model_module_version": "1.5.0",
          "state": {
            "_dom_classes": [],
            "_model_module": "@jupyter-widgets/controls",
            "_model_module_version": "1.5.0",
            "_model_name": "HTMLModel",
            "_view_count": null,
            "_view_module": "@jupyter-widgets/controls",
            "_view_module_version": "1.5.0",
            "_view_name": "HTMLView",
            "description": "",
            "description_tooltip": null,
            "layout": "IPY_MODEL_0ccac3ffe9ed4ae0bfd67cd2c835d76d",
            "placeholder": "​",
            "style": "IPY_MODEL_ff313b0e7e38432cae79cb88f8db09c5",
            "value": " 73/? [00:02&lt;00:00, 27.09it/s]"
          }
        },
        "fb5e26456da6453da0de7fba34ba3396": {
          "model_module": "@jupyter-widgets/base",
          "model_name": "LayoutModel",
          "model_module_version": "1.2.0",
          "state": {
            "_model_module": "@jupyter-widgets/base",
            "_model_module_version": "1.2.0",
            "_model_name": "LayoutModel",
            "_view_count": null,
            "_view_module": "@jupyter-widgets/base",
            "_view_module_version": "1.2.0",
            "_view_name": "LayoutView",
            "align_content": null,
            "align_items": null,
            "align_self": null,
            "border": null,
            "bottom": null,
            "display": null,
            "flex": null,
            "flex_flow": null,
            "grid_area": null,
            "grid_auto_columns": null,
            "grid_auto_flow": null,
            "grid_auto_rows": null,
            "grid_column": null,
            "grid_gap": null,
            "grid_row": null,
            "grid_template_areas": null,
            "grid_template_columns": null,
            "grid_template_rows": null,
            "height": null,
            "justify_content": null,
            "justify_items": null,
            "left": null,
            "margin": null,
            "max_height": null,
            "max_width": null,
            "min_height": null,
            "min_width": null,
            "object_fit": null,
            "object_position": null,
            "order": null,
            "overflow": null,
            "overflow_x": null,
            "overflow_y": null,
            "padding": null,
            "right": null,
            "top": null,
            "visibility": "hidden",
            "width": null
          }
        },
        "1a875776007844508ab13a4f3aeed7bc": {
          "model_module": "@jupyter-widgets/base",
          "model_name": "LayoutModel",
          "model_module_version": "1.2.0",
          "state": {
            "_model_module": "@jupyter-widgets/base",
            "_model_module_version": "1.2.0",
            "_model_name": "LayoutModel",
            "_view_count": null,
            "_view_module": "@jupyter-widgets/base",
            "_view_module_version": "1.2.0",
            "_view_name": "LayoutView",
            "align_content": null,
            "align_items": null,
            "align_self": null,
            "border": null,
            "bottom": null,
            "display": null,
            "flex": null,
            "flex_flow": null,
            "grid_area": null,
            "grid_auto_columns": null,
            "grid_auto_flow": null,
            "grid_auto_rows": null,
            "grid_column": null,
            "grid_gap": null,
            "grid_row": null,
            "grid_template_areas": null,
            "grid_template_columns": null,
            "grid_template_rows": null,
            "height": null,
            "justify_content": null,
            "justify_items": null,
            "left": null,
            "margin": null,
            "max_height": null,
            "max_width": null,
            "min_height": null,
            "min_width": null,
            "object_fit": null,
            "object_position": null,
            "order": null,
            "overflow": null,
            "overflow_x": null,
            "overflow_y": null,
            "padding": null,
            "right": null,
            "top": null,
            "visibility": null,
            "width": null
          }
        },
        "d6efee82927e4312bf64ea7b0dd69f0a": {
          "model_module": "@jupyter-widgets/controls",
          "model_name": "DescriptionStyleModel",
          "model_module_version": "1.5.0",
          "state": {
            "_model_module": "@jupyter-widgets/controls",
            "_model_module_version": "1.5.0",
            "_model_name": "DescriptionStyleModel",
            "_view_count": null,
            "_view_module": "@jupyter-widgets/base",
            "_view_module_version": "1.2.0",
            "_view_name": "StyleView",
            "description_width": ""
          }
        },
        "393845f85e444afb887c9ca508c4d597": {
          "model_module": "@jupyter-widgets/base",
          "model_name": "LayoutModel",
          "model_module_version": "1.2.0",
          "state": {
            "_model_module": "@jupyter-widgets/base",
            "_model_module_version": "1.2.0",
            "_model_name": "LayoutModel",
            "_view_count": null,
            "_view_module": "@jupyter-widgets/base",
            "_view_module_version": "1.2.0",
            "_view_name": "LayoutView",
            "align_content": null,
            "align_items": null,
            "align_self": null,
            "border": null,
            "bottom": null,
            "display": null,
            "flex": null,
            "flex_flow": null,
            "grid_area": null,
            "grid_auto_columns": null,
            "grid_auto_flow": null,
            "grid_auto_rows": null,
            "grid_column": null,
            "grid_gap": null,
            "grid_row": null,
            "grid_template_areas": null,
            "grid_template_columns": null,
            "grid_template_rows": null,
            "height": null,
            "justify_content": null,
            "justify_items": null,
            "left": null,
            "margin": null,
            "max_height": null,
            "max_width": null,
            "min_height": null,
            "min_width": null,
            "object_fit": null,
            "object_position": null,
            "order": null,
            "overflow": null,
            "overflow_x": null,
            "overflow_y": null,
            "padding": null,
            "right": null,
            "top": null,
            "visibility": null,
            "width": "20px"
          }
        },
        "98f44f5c92e6437f952775dd9596a285": {
          "model_module": "@jupyter-widgets/controls",
          "model_name": "ProgressStyleModel",
          "model_module_version": "1.5.0",
          "state": {
            "_model_module": "@jupyter-widgets/controls",
            "_model_module_version": "1.5.0",
            "_model_name": "ProgressStyleModel",
            "_view_count": null,
            "_view_module": "@jupyter-widgets/base",
            "_view_module_version": "1.2.0",
            "_view_name": "StyleView",
            "bar_color": null,
            "description_width": ""
          }
        },
        "0ccac3ffe9ed4ae0bfd67cd2c835d76d": {
          "model_module": "@jupyter-widgets/base",
          "model_name": "LayoutModel",
          "model_module_version": "1.2.0",
          "state": {
            "_model_module": "@jupyter-widgets/base",
            "_model_module_version": "1.2.0",
            "_model_name": "LayoutModel",
            "_view_count": null,
            "_view_module": "@jupyter-widgets/base",
            "_view_module_version": "1.2.0",
            "_view_name": "LayoutView",
            "align_content": null,
            "align_items": null,
            "align_self": null,
            "border": null,
            "bottom": null,
            "display": null,
            "flex": null,
            "flex_flow": null,
            "grid_area": null,
            "grid_auto_columns": null,
            "grid_auto_flow": null,
            "grid_auto_rows": null,
            "grid_column": null,
            "grid_gap": null,
            "grid_row": null,
            "grid_template_areas": null,
            "grid_template_columns": null,
            "grid_template_rows": null,
            "height": null,
            "justify_content": null,
            "justify_items": null,
            "left": null,
            "margin": null,
            "max_height": null,
            "max_width": null,
            "min_height": null,
            "min_width": null,
            "object_fit": null,
            "object_position": null,
            "order": null,
            "overflow": null,
            "overflow_x": null,
            "overflow_y": null,
            "padding": null,
            "right": null,
            "top": null,
            "visibility": null,
            "width": null
          }
        },
        "ff313b0e7e38432cae79cb88f8db09c5": {
          "model_module": "@jupyter-widgets/controls",
          "model_name": "DescriptionStyleModel",
          "model_module_version": "1.5.0",
          "state": {
            "_model_module": "@jupyter-widgets/controls",
            "_model_module_version": "1.5.0",
            "_model_name": "DescriptionStyleModel",
            "_view_count": null,
            "_view_module": "@jupyter-widgets/base",
            "_view_module_version": "1.2.0",
            "_view_name": "StyleView",
            "description_width": ""
          }
        },
        "18c3f53b5648441db342b75182978c93": {
          "model_module": "@jupyter-widgets/controls",
          "model_name": "HBoxModel",
          "model_module_version": "1.5.0",
          "state": {
            "_dom_classes": [],
            "_model_module": "@jupyter-widgets/controls",
            "_model_module_version": "1.5.0",
            "_model_name": "HBoxModel",
            "_view_count": null,
            "_view_module": "@jupyter-widgets/controls",
            "_view_module_version": "1.5.0",
            "_view_name": "HBoxView",
            "box_style": "",
            "children": [
              "IPY_MODEL_002f576caafe4546b6fb156e540228dc",
              "IPY_MODEL_dc1cc97aea2e4567b55aee7b2c649d1c",
              "IPY_MODEL_5e84847a766940cf9a5570c320746717"
            ],
            "layout": "IPY_MODEL_00ae20331a104b99b091bf4ddf4d84ce"
          }
        },
        "002f576caafe4546b6fb156e540228dc": {
          "model_module": "@jupyter-widgets/controls",
          "model_name": "HTMLModel",
          "model_module_version": "1.5.0",
          "state": {
            "_dom_classes": [],
            "_model_module": "@jupyter-widgets/controls",
            "_model_module_version": "1.5.0",
            "_model_name": "HTMLModel",
            "_view_count": null,
            "_view_module": "@jupyter-widgets/controls",
            "_view_module_version": "1.5.0",
            "_view_name": "HTMLView",
            "description": "",
            "description_tooltip": null,
            "layout": "IPY_MODEL_0bcf1154d3794a8b9ddc7c9704c7ad25",
            "placeholder": "​",
            "style": "IPY_MODEL_03d740ce18934d2b82cb9304d6fd19e4",
            "value": ""
          }
        },
        "dc1cc97aea2e4567b55aee7b2c649d1c": {
          "model_module": "@jupyter-widgets/controls",
          "model_name": "FloatProgressModel",
          "model_module_version": "1.5.0",
          "state": {
            "_dom_classes": [],
            "_model_module": "@jupyter-widgets/controls",
            "_model_module_version": "1.5.0",
            "_model_name": "FloatProgressModel",
            "_view_count": null,
            "_view_module": "@jupyter-widgets/controls",
            "_view_module_version": "1.5.0",
            "_view_name": "ProgressView",
            "bar_style": "info",
            "description": "",
            "description_tooltip": null,
            "layout": "IPY_MODEL_a9956c35cb454ce981cf2d513e682a7b",
            "max": 1,
            "min": 0,
            "orientation": "horizontal",
            "style": "IPY_MODEL_8e1f98c8ec374548b714bdc6b292161a",
            "value": 1
          }
        },
        "5e84847a766940cf9a5570c320746717": {
          "model_module": "@jupyter-widgets/controls",
          "model_name": "HTMLModel",
          "model_module_version": "1.5.0",
          "state": {
            "_dom_classes": [],
            "_model_module": "@jupyter-widgets/controls",
            "_model_module_version": "1.5.0",
            "_model_name": "HTMLModel",
            "_view_count": null,
            "_view_module": "@jupyter-widgets/controls",
            "_view_module_version": "1.5.0",
            "_view_name": "HTMLView",
            "description": "",
            "description_tooltip": null,
            "layout": "IPY_MODEL_0fa52db587f94cf399a06d87d9ec8e67",
            "placeholder": "​",
            "style": "IPY_MODEL_c2d71c64e05e415f904210d4c9f013fa",
            "value": " 73/? [00:02&lt;00:00, 26.06it/s]"
          }
        },
        "00ae20331a104b99b091bf4ddf4d84ce": {
          "model_module": "@jupyter-widgets/base",
          "model_name": "LayoutModel",
          "model_module_version": "1.2.0",
          "state": {
            "_model_module": "@jupyter-widgets/base",
            "_model_module_version": "1.2.0",
            "_model_name": "LayoutModel",
            "_view_count": null,
            "_view_module": "@jupyter-widgets/base",
            "_view_module_version": "1.2.0",
            "_view_name": "LayoutView",
            "align_content": null,
            "align_items": null,
            "align_self": null,
            "border": null,
            "bottom": null,
            "display": null,
            "flex": null,
            "flex_flow": null,
            "grid_area": null,
            "grid_auto_columns": null,
            "grid_auto_flow": null,
            "grid_auto_rows": null,
            "grid_column": null,
            "grid_gap": null,
            "grid_row": null,
            "grid_template_areas": null,
            "grid_template_columns": null,
            "grid_template_rows": null,
            "height": null,
            "justify_content": null,
            "justify_items": null,
            "left": null,
            "margin": null,
            "max_height": null,
            "max_width": null,
            "min_height": null,
            "min_width": null,
            "object_fit": null,
            "object_position": null,
            "order": null,
            "overflow": null,
            "overflow_x": null,
            "overflow_y": null,
            "padding": null,
            "right": null,
            "top": null,
            "visibility": "hidden",
            "width": null
          }
        },
        "0bcf1154d3794a8b9ddc7c9704c7ad25": {
          "model_module": "@jupyter-widgets/base",
          "model_name": "LayoutModel",
          "model_module_version": "1.2.0",
          "state": {
            "_model_module": "@jupyter-widgets/base",
            "_model_module_version": "1.2.0",
            "_model_name": "LayoutModel",
            "_view_count": null,
            "_view_module": "@jupyter-widgets/base",
            "_view_module_version": "1.2.0",
            "_view_name": "LayoutView",
            "align_content": null,
            "align_items": null,
            "align_self": null,
            "border": null,
            "bottom": null,
            "display": null,
            "flex": null,
            "flex_flow": null,
            "grid_area": null,
            "grid_auto_columns": null,
            "grid_auto_flow": null,
            "grid_auto_rows": null,
            "grid_column": null,
            "grid_gap": null,
            "grid_row": null,
            "grid_template_areas": null,
            "grid_template_columns": null,
            "grid_template_rows": null,
            "height": null,
            "justify_content": null,
            "justify_items": null,
            "left": null,
            "margin": null,
            "max_height": null,
            "max_width": null,
            "min_height": null,
            "min_width": null,
            "object_fit": null,
            "object_position": null,
            "order": null,
            "overflow": null,
            "overflow_x": null,
            "overflow_y": null,
            "padding": null,
            "right": null,
            "top": null,
            "visibility": null,
            "width": null
          }
        },
        "03d740ce18934d2b82cb9304d6fd19e4": {
          "model_module": "@jupyter-widgets/controls",
          "model_name": "DescriptionStyleModel",
          "model_module_version": "1.5.0",
          "state": {
            "_model_module": "@jupyter-widgets/controls",
            "_model_module_version": "1.5.0",
            "_model_name": "DescriptionStyleModel",
            "_view_count": null,
            "_view_module": "@jupyter-widgets/base",
            "_view_module_version": "1.2.0",
            "_view_name": "StyleView",
            "description_width": ""
          }
        },
        "a9956c35cb454ce981cf2d513e682a7b": {
          "model_module": "@jupyter-widgets/base",
          "model_name": "LayoutModel",
          "model_module_version": "1.2.0",
          "state": {
            "_model_module": "@jupyter-widgets/base",
            "_model_module_version": "1.2.0",
            "_model_name": "LayoutModel",
            "_view_count": null,
            "_view_module": "@jupyter-widgets/base",
            "_view_module_version": "1.2.0",
            "_view_name": "LayoutView",
            "align_content": null,
            "align_items": null,
            "align_self": null,
            "border": null,
            "bottom": null,
            "display": null,
            "flex": null,
            "flex_flow": null,
            "grid_area": null,
            "grid_auto_columns": null,
            "grid_auto_flow": null,
            "grid_auto_rows": null,
            "grid_column": null,
            "grid_gap": null,
            "grid_row": null,
            "grid_template_areas": null,
            "grid_template_columns": null,
            "grid_template_rows": null,
            "height": null,
            "justify_content": null,
            "justify_items": null,
            "left": null,
            "margin": null,
            "max_height": null,
            "max_width": null,
            "min_height": null,
            "min_width": null,
            "object_fit": null,
            "object_position": null,
            "order": null,
            "overflow": null,
            "overflow_x": null,
            "overflow_y": null,
            "padding": null,
            "right": null,
            "top": null,
            "visibility": null,
            "width": "20px"
          }
        },
        "8e1f98c8ec374548b714bdc6b292161a": {
          "model_module": "@jupyter-widgets/controls",
          "model_name": "ProgressStyleModel",
          "model_module_version": "1.5.0",
          "state": {
            "_model_module": "@jupyter-widgets/controls",
            "_model_module_version": "1.5.0",
            "_model_name": "ProgressStyleModel",
            "_view_count": null,
            "_view_module": "@jupyter-widgets/base",
            "_view_module_version": "1.2.0",
            "_view_name": "StyleView",
            "bar_color": null,
            "description_width": ""
          }
        },
        "0fa52db587f94cf399a06d87d9ec8e67": {
          "model_module": "@jupyter-widgets/base",
          "model_name": "LayoutModel",
          "model_module_version": "1.2.0",
          "state": {
            "_model_module": "@jupyter-widgets/base",
            "_model_module_version": "1.2.0",
            "_model_name": "LayoutModel",
            "_view_count": null,
            "_view_module": "@jupyter-widgets/base",
            "_view_module_version": "1.2.0",
            "_view_name": "LayoutView",
            "align_content": null,
            "align_items": null,
            "align_self": null,
            "border": null,
            "bottom": null,
            "display": null,
            "flex": null,
            "flex_flow": null,
            "grid_area": null,
            "grid_auto_columns": null,
            "grid_auto_flow": null,
            "grid_auto_rows": null,
            "grid_column": null,
            "grid_gap": null,
            "grid_row": null,
            "grid_template_areas": null,
            "grid_template_columns": null,
            "grid_template_rows": null,
            "height": null,
            "justify_content": null,
            "justify_items": null,
            "left": null,
            "margin": null,
            "max_height": null,
            "max_width": null,
            "min_height": null,
            "min_width": null,
            "object_fit": null,
            "object_position": null,
            "order": null,
            "overflow": null,
            "overflow_x": null,
            "overflow_y": null,
            "padding": null,
            "right": null,
            "top": null,
            "visibility": null,
            "width": null
          }
        },
        "c2d71c64e05e415f904210d4c9f013fa": {
          "model_module": "@jupyter-widgets/controls",
          "model_name": "DescriptionStyleModel",
          "model_module_version": "1.5.0",
          "state": {
            "_model_module": "@jupyter-widgets/controls",
            "_model_module_version": "1.5.0",
            "_model_name": "DescriptionStyleModel",
            "_view_count": null,
            "_view_module": "@jupyter-widgets/base",
            "_view_module_version": "1.2.0",
            "_view_name": "StyleView",
            "description_width": ""
          }
        },
        "06fc003335254218a1a96ba37be00c61": {
          "model_module": "@jupyter-widgets/controls",
          "model_name": "HBoxModel",
          "model_module_version": "1.5.0",
          "state": {
            "_dom_classes": [],
            "_model_module": "@jupyter-widgets/controls",
            "_model_module_version": "1.5.0",
            "_model_name": "HBoxModel",
            "_view_count": null,
            "_view_module": "@jupyter-widgets/controls",
            "_view_module_version": "1.5.0",
            "_view_name": "HBoxView",
            "box_style": "",
            "children": [
              "IPY_MODEL_7abe349c33c4474da77127e7f9222159",
              "IPY_MODEL_8efb8222aa2a4d5d9a2c9eb966305104",
              "IPY_MODEL_0c1b1e786e6b4bbdab1c8c22d1e00ea4"
            ],
            "layout": "IPY_MODEL_25116e8814d547e5beafed2141d30dd4"
          }
        },
        "7abe349c33c4474da77127e7f9222159": {
          "model_module": "@jupyter-widgets/controls",
          "model_name": "HTMLModel",
          "model_module_version": "1.5.0",
          "state": {
            "_dom_classes": [],
            "_model_module": "@jupyter-widgets/controls",
            "_model_module_version": "1.5.0",
            "_model_name": "HTMLModel",
            "_view_count": null,
            "_view_module": "@jupyter-widgets/controls",
            "_view_module_version": "1.5.0",
            "_view_name": "HTMLView",
            "description": "",
            "description_tooltip": null,
            "layout": "IPY_MODEL_6fe99e0f67114222882fbbc7e07d9f63",
            "placeholder": "​",
            "style": "IPY_MODEL_9b386e43484046a89a2008ea322f9330",
            "value": ""
          }
        },
        "8efb8222aa2a4d5d9a2c9eb966305104": {
          "model_module": "@jupyter-widgets/controls",
          "model_name": "FloatProgressModel",
          "model_module_version": "1.5.0",
          "state": {
            "_dom_classes": [],
            "_model_module": "@jupyter-widgets/controls",
            "_model_module_version": "1.5.0",
            "_model_name": "FloatProgressModel",
            "_view_count": null,
            "_view_module": "@jupyter-widgets/controls",
            "_view_module_version": "1.5.0",
            "_view_name": "ProgressView",
            "bar_style": "info",
            "description": "",
            "description_tooltip": null,
            "layout": "IPY_MODEL_315ffcb7a82e426794eab365545df642",
            "max": 1,
            "min": 0,
            "orientation": "horizontal",
            "style": "IPY_MODEL_a49a275a6d45472f8ee2c2a7b6cc89ec",
            "value": 1
          }
        },
        "0c1b1e786e6b4bbdab1c8c22d1e00ea4": {
          "model_module": "@jupyter-widgets/controls",
          "model_name": "HTMLModel",
          "model_module_version": "1.5.0",
          "state": {
            "_dom_classes": [],
            "_model_module": "@jupyter-widgets/controls",
            "_model_module_version": "1.5.0",
            "_model_name": "HTMLModel",
            "_view_count": null,
            "_view_module": "@jupyter-widgets/controls",
            "_view_module_version": "1.5.0",
            "_view_name": "HTMLView",
            "description": "",
            "description_tooltip": null,
            "layout": "IPY_MODEL_04b6be3158484bb4a927ef36ad2ca65e",
            "placeholder": "​",
            "style": "IPY_MODEL_cfc4b231526f4bf1afc36526c2d9c2ad",
            "value": " 73/? [00:03&lt;00:00, 18.13it/s]"
          }
        },
        "25116e8814d547e5beafed2141d30dd4": {
          "model_module": "@jupyter-widgets/base",
          "model_name": "LayoutModel",
          "model_module_version": "1.2.0",
          "state": {
            "_model_module": "@jupyter-widgets/base",
            "_model_module_version": "1.2.0",
            "_model_name": "LayoutModel",
            "_view_count": null,
            "_view_module": "@jupyter-widgets/base",
            "_view_module_version": "1.2.0",
            "_view_name": "LayoutView",
            "align_content": null,
            "align_items": null,
            "align_self": null,
            "border": null,
            "bottom": null,
            "display": null,
            "flex": null,
            "flex_flow": null,
            "grid_area": null,
            "grid_auto_columns": null,
            "grid_auto_flow": null,
            "grid_auto_rows": null,
            "grid_column": null,
            "grid_gap": null,
            "grid_row": null,
            "grid_template_areas": null,
            "grid_template_columns": null,
            "grid_template_rows": null,
            "height": null,
            "justify_content": null,
            "justify_items": null,
            "left": null,
            "margin": null,
            "max_height": null,
            "max_width": null,
            "min_height": null,
            "min_width": null,
            "object_fit": null,
            "object_position": null,
            "order": null,
            "overflow": null,
            "overflow_x": null,
            "overflow_y": null,
            "padding": null,
            "right": null,
            "top": null,
            "visibility": "hidden",
            "width": null
          }
        },
        "6fe99e0f67114222882fbbc7e07d9f63": {
          "model_module": "@jupyter-widgets/base",
          "model_name": "LayoutModel",
          "model_module_version": "1.2.0",
          "state": {
            "_model_module": "@jupyter-widgets/base",
            "_model_module_version": "1.2.0",
            "_model_name": "LayoutModel",
            "_view_count": null,
            "_view_module": "@jupyter-widgets/base",
            "_view_module_version": "1.2.0",
            "_view_name": "LayoutView",
            "align_content": null,
            "align_items": null,
            "align_self": null,
            "border": null,
            "bottom": null,
            "display": null,
            "flex": null,
            "flex_flow": null,
            "grid_area": null,
            "grid_auto_columns": null,
            "grid_auto_flow": null,
            "grid_auto_rows": null,
            "grid_column": null,
            "grid_gap": null,
            "grid_row": null,
            "grid_template_areas": null,
            "grid_template_columns": null,
            "grid_template_rows": null,
            "height": null,
            "justify_content": null,
            "justify_items": null,
            "left": null,
            "margin": null,
            "max_height": null,
            "max_width": null,
            "min_height": null,
            "min_width": null,
            "object_fit": null,
            "object_position": null,
            "order": null,
            "overflow": null,
            "overflow_x": null,
            "overflow_y": null,
            "padding": null,
            "right": null,
            "top": null,
            "visibility": null,
            "width": null
          }
        },
        "9b386e43484046a89a2008ea322f9330": {
          "model_module": "@jupyter-widgets/controls",
          "model_name": "DescriptionStyleModel",
          "model_module_version": "1.5.0",
          "state": {
            "_model_module": "@jupyter-widgets/controls",
            "_model_module_version": "1.5.0",
            "_model_name": "DescriptionStyleModel",
            "_view_count": null,
            "_view_module": "@jupyter-widgets/base",
            "_view_module_version": "1.2.0",
            "_view_name": "StyleView",
            "description_width": ""
          }
        },
        "315ffcb7a82e426794eab365545df642": {
          "model_module": "@jupyter-widgets/base",
          "model_name": "LayoutModel",
          "model_module_version": "1.2.0",
          "state": {
            "_model_module": "@jupyter-widgets/base",
            "_model_module_version": "1.2.0",
            "_model_name": "LayoutModel",
            "_view_count": null,
            "_view_module": "@jupyter-widgets/base",
            "_view_module_version": "1.2.0",
            "_view_name": "LayoutView",
            "align_content": null,
            "align_items": null,
            "align_self": null,
            "border": null,
            "bottom": null,
            "display": null,
            "flex": null,
            "flex_flow": null,
            "grid_area": null,
            "grid_auto_columns": null,
            "grid_auto_flow": null,
            "grid_auto_rows": null,
            "grid_column": null,
            "grid_gap": null,
            "grid_row": null,
            "grid_template_areas": null,
            "grid_template_columns": null,
            "grid_template_rows": null,
            "height": null,
            "justify_content": null,
            "justify_items": null,
            "left": null,
            "margin": null,
            "max_height": null,
            "max_width": null,
            "min_height": null,
            "min_width": null,
            "object_fit": null,
            "object_position": null,
            "order": null,
            "overflow": null,
            "overflow_x": null,
            "overflow_y": null,
            "padding": null,
            "right": null,
            "top": null,
            "visibility": null,
            "width": "20px"
          }
        },
        "a49a275a6d45472f8ee2c2a7b6cc89ec": {
          "model_module": "@jupyter-widgets/controls",
          "model_name": "ProgressStyleModel",
          "model_module_version": "1.5.0",
          "state": {
            "_model_module": "@jupyter-widgets/controls",
            "_model_module_version": "1.5.0",
            "_model_name": "ProgressStyleModel",
            "_view_count": null,
            "_view_module": "@jupyter-widgets/base",
            "_view_module_version": "1.2.0",
            "_view_name": "StyleView",
            "bar_color": null,
            "description_width": ""
          }
        },
        "04b6be3158484bb4a927ef36ad2ca65e": {
          "model_module": "@jupyter-widgets/base",
          "model_name": "LayoutModel",
          "model_module_version": "1.2.0",
          "state": {
            "_model_module": "@jupyter-widgets/base",
            "_model_module_version": "1.2.0",
            "_model_name": "LayoutModel",
            "_view_count": null,
            "_view_module": "@jupyter-widgets/base",
            "_view_module_version": "1.2.0",
            "_view_name": "LayoutView",
            "align_content": null,
            "align_items": null,
            "align_self": null,
            "border": null,
            "bottom": null,
            "display": null,
            "flex": null,
            "flex_flow": null,
            "grid_area": null,
            "grid_auto_columns": null,
            "grid_auto_flow": null,
            "grid_auto_rows": null,
            "grid_column": null,
            "grid_gap": null,
            "grid_row": null,
            "grid_template_areas": null,
            "grid_template_columns": null,
            "grid_template_rows": null,
            "height": null,
            "justify_content": null,
            "justify_items": null,
            "left": null,
            "margin": null,
            "max_height": null,
            "max_width": null,
            "min_height": null,
            "min_width": null,
            "object_fit": null,
            "object_position": null,
            "order": null,
            "overflow": null,
            "overflow_x": null,
            "overflow_y": null,
            "padding": null,
            "right": null,
            "top": null,
            "visibility": null,
            "width": null
          }
        },
        "cfc4b231526f4bf1afc36526c2d9c2ad": {
          "model_module": "@jupyter-widgets/controls",
          "model_name": "DescriptionStyleModel",
          "model_module_version": "1.5.0",
          "state": {
            "_model_module": "@jupyter-widgets/controls",
            "_model_module_version": "1.5.0",
            "_model_name": "DescriptionStyleModel",
            "_view_count": null,
            "_view_module": "@jupyter-widgets/base",
            "_view_module_version": "1.2.0",
            "_view_name": "StyleView",
            "description_width": ""
          }
        },
        "ff74461bd4084ec8a9a7cf7f4b37ee17": {
          "model_module": "@jupyter-widgets/controls",
          "model_name": "HBoxModel",
          "model_module_version": "1.5.0",
          "state": {
            "_dom_classes": [],
            "_model_module": "@jupyter-widgets/controls",
            "_model_module_version": "1.5.0",
            "_model_name": "HBoxModel",
            "_view_count": null,
            "_view_module": "@jupyter-widgets/controls",
            "_view_module_version": "1.5.0",
            "_view_name": "HBoxView",
            "box_style": "",
            "children": [
              "IPY_MODEL_059d0beaf96d4a63841f5080a0ea93c5",
              "IPY_MODEL_28aa1ee9d6cb4f138e019ead4a3628bf",
              "IPY_MODEL_36b4b5e0eb224851bef737e50eca32af"
            ],
            "layout": "IPY_MODEL_576d60a61ca44cbea7954dc6011b65a6"
          }
        },
        "059d0beaf96d4a63841f5080a0ea93c5": {
          "model_module": "@jupyter-widgets/controls",
          "model_name": "HTMLModel",
          "model_module_version": "1.5.0",
          "state": {
            "_dom_classes": [],
            "_model_module": "@jupyter-widgets/controls",
            "_model_module_version": "1.5.0",
            "_model_name": "HTMLModel",
            "_view_count": null,
            "_view_module": "@jupyter-widgets/controls",
            "_view_module_version": "1.5.0",
            "_view_name": "HTMLView",
            "description": "",
            "description_tooltip": null,
            "layout": "IPY_MODEL_eb3fe6cde7404a38b78c67696a0f80fc",
            "placeholder": "​",
            "style": "IPY_MODEL_35efa86b99af476a95619bfc4537af57",
            "value": ""
          }
        },
        "28aa1ee9d6cb4f138e019ead4a3628bf": {
          "model_module": "@jupyter-widgets/controls",
          "model_name": "FloatProgressModel",
          "model_module_version": "1.5.0",
          "state": {
            "_dom_classes": [],
            "_model_module": "@jupyter-widgets/controls",
            "_model_module_version": "1.5.0",
            "_model_name": "FloatProgressModel",
            "_view_count": null,
            "_view_module": "@jupyter-widgets/controls",
            "_view_module_version": "1.5.0",
            "_view_name": "ProgressView",
            "bar_style": "info",
            "description": "",
            "description_tooltip": null,
            "layout": "IPY_MODEL_4738ff8589714f2590c4ac8f5ad3e4dd",
            "max": 1,
            "min": 0,
            "orientation": "horizontal",
            "style": "IPY_MODEL_70c18200edd446aabcebfa3a3482b10a",
            "value": 1
          }
        },
        "36b4b5e0eb224851bef737e50eca32af": {
          "model_module": "@jupyter-widgets/controls",
          "model_name": "HTMLModel",
          "model_module_version": "1.5.0",
          "state": {
            "_dom_classes": [],
            "_model_module": "@jupyter-widgets/controls",
            "_model_module_version": "1.5.0",
            "_model_name": "HTMLModel",
            "_view_count": null,
            "_view_module": "@jupyter-widgets/controls",
            "_view_module_version": "1.5.0",
            "_view_name": "HTMLView",
            "description": "",
            "description_tooltip": null,
            "layout": "IPY_MODEL_a175be77a5ed4725acfef138f8c6dfa6",
            "placeholder": "​",
            "style": "IPY_MODEL_77f230c1043a41d780dd3f306e2bac4b",
            "value": " 74/? [00:04&lt;00:00, 19.05it/s]"
          }
        },
        "576d60a61ca44cbea7954dc6011b65a6": {
          "model_module": "@jupyter-widgets/base",
          "model_name": "LayoutModel",
          "model_module_version": "1.2.0",
          "state": {
            "_model_module": "@jupyter-widgets/base",
            "_model_module_version": "1.2.0",
            "_model_name": "LayoutModel",
            "_view_count": null,
            "_view_module": "@jupyter-widgets/base",
            "_view_module_version": "1.2.0",
            "_view_name": "LayoutView",
            "align_content": null,
            "align_items": null,
            "align_self": null,
            "border": null,
            "bottom": null,
            "display": null,
            "flex": null,
            "flex_flow": null,
            "grid_area": null,
            "grid_auto_columns": null,
            "grid_auto_flow": null,
            "grid_auto_rows": null,
            "grid_column": null,
            "grid_gap": null,
            "grid_row": null,
            "grid_template_areas": null,
            "grid_template_columns": null,
            "grid_template_rows": null,
            "height": null,
            "justify_content": null,
            "justify_items": null,
            "left": null,
            "margin": null,
            "max_height": null,
            "max_width": null,
            "min_height": null,
            "min_width": null,
            "object_fit": null,
            "object_position": null,
            "order": null,
            "overflow": null,
            "overflow_x": null,
            "overflow_y": null,
            "padding": null,
            "right": null,
            "top": null,
            "visibility": "hidden",
            "width": null
          }
        },
        "eb3fe6cde7404a38b78c67696a0f80fc": {
          "model_module": "@jupyter-widgets/base",
          "model_name": "LayoutModel",
          "model_module_version": "1.2.0",
          "state": {
            "_model_module": "@jupyter-widgets/base",
            "_model_module_version": "1.2.0",
            "_model_name": "LayoutModel",
            "_view_count": null,
            "_view_module": "@jupyter-widgets/base",
            "_view_module_version": "1.2.0",
            "_view_name": "LayoutView",
            "align_content": null,
            "align_items": null,
            "align_self": null,
            "border": null,
            "bottom": null,
            "display": null,
            "flex": null,
            "flex_flow": null,
            "grid_area": null,
            "grid_auto_columns": null,
            "grid_auto_flow": null,
            "grid_auto_rows": null,
            "grid_column": null,
            "grid_gap": null,
            "grid_row": null,
            "grid_template_areas": null,
            "grid_template_columns": null,
            "grid_template_rows": null,
            "height": null,
            "justify_content": null,
            "justify_items": null,
            "left": null,
            "margin": null,
            "max_height": null,
            "max_width": null,
            "min_height": null,
            "min_width": null,
            "object_fit": null,
            "object_position": null,
            "order": null,
            "overflow": null,
            "overflow_x": null,
            "overflow_y": null,
            "padding": null,
            "right": null,
            "top": null,
            "visibility": null,
            "width": null
          }
        },
        "35efa86b99af476a95619bfc4537af57": {
          "model_module": "@jupyter-widgets/controls",
          "model_name": "DescriptionStyleModel",
          "model_module_version": "1.5.0",
          "state": {
            "_model_module": "@jupyter-widgets/controls",
            "_model_module_version": "1.5.0",
            "_model_name": "DescriptionStyleModel",
            "_view_count": null,
            "_view_module": "@jupyter-widgets/base",
            "_view_module_version": "1.2.0",
            "_view_name": "StyleView",
            "description_width": ""
          }
        },
        "4738ff8589714f2590c4ac8f5ad3e4dd": {
          "model_module": "@jupyter-widgets/base",
          "model_name": "LayoutModel",
          "model_module_version": "1.2.0",
          "state": {
            "_model_module": "@jupyter-widgets/base",
            "_model_module_version": "1.2.0",
            "_model_name": "LayoutModel",
            "_view_count": null,
            "_view_module": "@jupyter-widgets/base",
            "_view_module_version": "1.2.0",
            "_view_name": "LayoutView",
            "align_content": null,
            "align_items": null,
            "align_self": null,
            "border": null,
            "bottom": null,
            "display": null,
            "flex": null,
            "flex_flow": null,
            "grid_area": null,
            "grid_auto_columns": null,
            "grid_auto_flow": null,
            "grid_auto_rows": null,
            "grid_column": null,
            "grid_gap": null,
            "grid_row": null,
            "grid_template_areas": null,
            "grid_template_columns": null,
            "grid_template_rows": null,
            "height": null,
            "justify_content": null,
            "justify_items": null,
            "left": null,
            "margin": null,
            "max_height": null,
            "max_width": null,
            "min_height": null,
            "min_width": null,
            "object_fit": null,
            "object_position": null,
            "order": null,
            "overflow": null,
            "overflow_x": null,
            "overflow_y": null,
            "padding": null,
            "right": null,
            "top": null,
            "visibility": null,
            "width": "20px"
          }
        },
        "70c18200edd446aabcebfa3a3482b10a": {
          "model_module": "@jupyter-widgets/controls",
          "model_name": "ProgressStyleModel",
          "model_module_version": "1.5.0",
          "state": {
            "_model_module": "@jupyter-widgets/controls",
            "_model_module_version": "1.5.0",
            "_model_name": "ProgressStyleModel",
            "_view_count": null,
            "_view_module": "@jupyter-widgets/base",
            "_view_module_version": "1.2.0",
            "_view_name": "StyleView",
            "bar_color": null,
            "description_width": ""
          }
        },
        "a175be77a5ed4725acfef138f8c6dfa6": {
          "model_module": "@jupyter-widgets/base",
          "model_name": "LayoutModel",
          "model_module_version": "1.2.0",
          "state": {
            "_model_module": "@jupyter-widgets/base",
            "_model_module_version": "1.2.0",
            "_model_name": "LayoutModel",
            "_view_count": null,
            "_view_module": "@jupyter-widgets/base",
            "_view_module_version": "1.2.0",
            "_view_name": "LayoutView",
            "align_content": null,
            "align_items": null,
            "align_self": null,
            "border": null,
            "bottom": null,
            "display": null,
            "flex": null,
            "flex_flow": null,
            "grid_area": null,
            "grid_auto_columns": null,
            "grid_auto_flow": null,
            "grid_auto_rows": null,
            "grid_column": null,
            "grid_gap": null,
            "grid_row": null,
            "grid_template_areas": null,
            "grid_template_columns": null,
            "grid_template_rows": null,
            "height": null,
            "justify_content": null,
            "justify_items": null,
            "left": null,
            "margin": null,
            "max_height": null,
            "max_width": null,
            "min_height": null,
            "min_width": null,
            "object_fit": null,
            "object_position": null,
            "order": null,
            "overflow": null,
            "overflow_x": null,
            "overflow_y": null,
            "padding": null,
            "right": null,
            "top": null,
            "visibility": null,
            "width": null
          }
        },
        "77f230c1043a41d780dd3f306e2bac4b": {
          "model_module": "@jupyter-widgets/controls",
          "model_name": "DescriptionStyleModel",
          "model_module_version": "1.5.0",
          "state": {
            "_model_module": "@jupyter-widgets/controls",
            "_model_module_version": "1.5.0",
            "_model_name": "DescriptionStyleModel",
            "_view_count": null,
            "_view_module": "@jupyter-widgets/base",
            "_view_module_version": "1.2.0",
            "_view_name": "StyleView",
            "description_width": ""
          }
        },
        "17520fa27f49496e978256a25981d9c9": {
          "model_module": "@jupyter-widgets/controls",
          "model_name": "HBoxModel",
          "model_module_version": "1.5.0",
          "state": {
            "_dom_classes": [],
            "_model_module": "@jupyter-widgets/controls",
            "_model_module_version": "1.5.0",
            "_model_name": "HBoxModel",
            "_view_count": null,
            "_view_module": "@jupyter-widgets/controls",
            "_view_module_version": "1.5.0",
            "_view_name": "HBoxView",
            "box_style": "",
            "children": [
              "IPY_MODEL_5bc916660e9d4e03b5525ff5367303a7",
              "IPY_MODEL_a6e38a7a7baa4de7be7e90d73a54cd84",
              "IPY_MODEL_334f363f9fda45c2835297c1dc9f4058"
            ],
            "layout": "IPY_MODEL_1245f118e5a743ce934cde996b1ecfdc"
          }
        },
        "5bc916660e9d4e03b5525ff5367303a7": {
          "model_module": "@jupyter-widgets/controls",
          "model_name": "HTMLModel",
          "model_module_version": "1.5.0",
          "state": {
            "_dom_classes": [],
            "_model_module": "@jupyter-widgets/controls",
            "_model_module_version": "1.5.0",
            "_model_name": "HTMLModel",
            "_view_count": null,
            "_view_module": "@jupyter-widgets/controls",
            "_view_module_version": "1.5.0",
            "_view_name": "HTMLView",
            "description": "",
            "description_tooltip": null,
            "layout": "IPY_MODEL_0ea8a71ee3c644ff9ae30e0ffc6a6508",
            "placeholder": "​",
            "style": "IPY_MODEL_e20130e318d44a0e91946ac926173deb",
            "value": ""
          }
        },
        "a6e38a7a7baa4de7be7e90d73a54cd84": {
          "model_module": "@jupyter-widgets/controls",
          "model_name": "FloatProgressModel",
          "model_module_version": "1.5.0",
          "state": {
            "_dom_classes": [],
            "_model_module": "@jupyter-widgets/controls",
            "_model_module_version": "1.5.0",
            "_model_name": "FloatProgressModel",
            "_view_count": null,
            "_view_module": "@jupyter-widgets/controls",
            "_view_module_version": "1.5.0",
            "_view_name": "ProgressView",
            "bar_style": "info",
            "description": "",
            "description_tooltip": null,
            "layout": "IPY_MODEL_54ae5d2af2bd468487419e989ea9ae87",
            "max": 1,
            "min": 0,
            "orientation": "horizontal",
            "style": "IPY_MODEL_c910f2077fab434698130c26b3ec515a",
            "value": 1
          }
        },
        "334f363f9fda45c2835297c1dc9f4058": {
          "model_module": "@jupyter-widgets/controls",
          "model_name": "HTMLModel",
          "model_module_version": "1.5.0",
          "state": {
            "_dom_classes": [],
            "_model_module": "@jupyter-widgets/controls",
            "_model_module_version": "1.5.0",
            "_model_name": "HTMLModel",
            "_view_count": null,
            "_view_module": "@jupyter-widgets/controls",
            "_view_module_version": "1.5.0",
            "_view_name": "HTMLView",
            "description": "",
            "description_tooltip": null,
            "layout": "IPY_MODEL_21446accd3af49dc86d2ab845017224e",
            "placeholder": "​",
            "style": "IPY_MODEL_4ab9cc8125a7406da89e6ccc49d3caf1",
            "value": " 73/? [00:02&lt;00:00, 26.51it/s]"
          }
        },
        "1245f118e5a743ce934cde996b1ecfdc": {
          "model_module": "@jupyter-widgets/base",
          "model_name": "LayoutModel",
          "model_module_version": "1.2.0",
          "state": {
            "_model_module": "@jupyter-widgets/base",
            "_model_module_version": "1.2.0",
            "_model_name": "LayoutModel",
            "_view_count": null,
            "_view_module": "@jupyter-widgets/base",
            "_view_module_version": "1.2.0",
            "_view_name": "LayoutView",
            "align_content": null,
            "align_items": null,
            "align_self": null,
            "border": null,
            "bottom": null,
            "display": null,
            "flex": null,
            "flex_flow": null,
            "grid_area": null,
            "grid_auto_columns": null,
            "grid_auto_flow": null,
            "grid_auto_rows": null,
            "grid_column": null,
            "grid_gap": null,
            "grid_row": null,
            "grid_template_areas": null,
            "grid_template_columns": null,
            "grid_template_rows": null,
            "height": null,
            "justify_content": null,
            "justify_items": null,
            "left": null,
            "margin": null,
            "max_height": null,
            "max_width": null,
            "min_height": null,
            "min_width": null,
            "object_fit": null,
            "object_position": null,
            "order": null,
            "overflow": null,
            "overflow_x": null,
            "overflow_y": null,
            "padding": null,
            "right": null,
            "top": null,
            "visibility": "hidden",
            "width": null
          }
        },
        "0ea8a71ee3c644ff9ae30e0ffc6a6508": {
          "model_module": "@jupyter-widgets/base",
          "model_name": "LayoutModel",
          "model_module_version": "1.2.0",
          "state": {
            "_model_module": "@jupyter-widgets/base",
            "_model_module_version": "1.2.0",
            "_model_name": "LayoutModel",
            "_view_count": null,
            "_view_module": "@jupyter-widgets/base",
            "_view_module_version": "1.2.0",
            "_view_name": "LayoutView",
            "align_content": null,
            "align_items": null,
            "align_self": null,
            "border": null,
            "bottom": null,
            "display": null,
            "flex": null,
            "flex_flow": null,
            "grid_area": null,
            "grid_auto_columns": null,
            "grid_auto_flow": null,
            "grid_auto_rows": null,
            "grid_column": null,
            "grid_gap": null,
            "grid_row": null,
            "grid_template_areas": null,
            "grid_template_columns": null,
            "grid_template_rows": null,
            "height": null,
            "justify_content": null,
            "justify_items": null,
            "left": null,
            "margin": null,
            "max_height": null,
            "max_width": null,
            "min_height": null,
            "min_width": null,
            "object_fit": null,
            "object_position": null,
            "order": null,
            "overflow": null,
            "overflow_x": null,
            "overflow_y": null,
            "padding": null,
            "right": null,
            "top": null,
            "visibility": null,
            "width": null
          }
        },
        "e20130e318d44a0e91946ac926173deb": {
          "model_module": "@jupyter-widgets/controls",
          "model_name": "DescriptionStyleModel",
          "model_module_version": "1.5.0",
          "state": {
            "_model_module": "@jupyter-widgets/controls",
            "_model_module_version": "1.5.0",
            "_model_name": "DescriptionStyleModel",
            "_view_count": null,
            "_view_module": "@jupyter-widgets/base",
            "_view_module_version": "1.2.0",
            "_view_name": "StyleView",
            "description_width": ""
          }
        },
        "54ae5d2af2bd468487419e989ea9ae87": {
          "model_module": "@jupyter-widgets/base",
          "model_name": "LayoutModel",
          "model_module_version": "1.2.0",
          "state": {
            "_model_module": "@jupyter-widgets/base",
            "_model_module_version": "1.2.0",
            "_model_name": "LayoutModel",
            "_view_count": null,
            "_view_module": "@jupyter-widgets/base",
            "_view_module_version": "1.2.0",
            "_view_name": "LayoutView",
            "align_content": null,
            "align_items": null,
            "align_self": null,
            "border": null,
            "bottom": null,
            "display": null,
            "flex": null,
            "flex_flow": null,
            "grid_area": null,
            "grid_auto_columns": null,
            "grid_auto_flow": null,
            "grid_auto_rows": null,
            "grid_column": null,
            "grid_gap": null,
            "grid_row": null,
            "grid_template_areas": null,
            "grid_template_columns": null,
            "grid_template_rows": null,
            "height": null,
            "justify_content": null,
            "justify_items": null,
            "left": null,
            "margin": null,
            "max_height": null,
            "max_width": null,
            "min_height": null,
            "min_width": null,
            "object_fit": null,
            "object_position": null,
            "order": null,
            "overflow": null,
            "overflow_x": null,
            "overflow_y": null,
            "padding": null,
            "right": null,
            "top": null,
            "visibility": null,
            "width": "20px"
          }
        },
        "c910f2077fab434698130c26b3ec515a": {
          "model_module": "@jupyter-widgets/controls",
          "model_name": "ProgressStyleModel",
          "model_module_version": "1.5.0",
          "state": {
            "_model_module": "@jupyter-widgets/controls",
            "_model_module_version": "1.5.0",
            "_model_name": "ProgressStyleModel",
            "_view_count": null,
            "_view_module": "@jupyter-widgets/base",
            "_view_module_version": "1.2.0",
            "_view_name": "StyleView",
            "bar_color": null,
            "description_width": ""
          }
        },
        "21446accd3af49dc86d2ab845017224e": {
          "model_module": "@jupyter-widgets/base",
          "model_name": "LayoutModel",
          "model_module_version": "1.2.0",
          "state": {
            "_model_module": "@jupyter-widgets/base",
            "_model_module_version": "1.2.0",
            "_model_name": "LayoutModel",
            "_view_count": null,
            "_view_module": "@jupyter-widgets/base",
            "_view_module_version": "1.2.0",
            "_view_name": "LayoutView",
            "align_content": null,
            "align_items": null,
            "align_self": null,
            "border": null,
            "bottom": null,
            "display": null,
            "flex": null,
            "flex_flow": null,
            "grid_area": null,
            "grid_auto_columns": null,
            "grid_auto_flow": null,
            "grid_auto_rows": null,
            "grid_column": null,
            "grid_gap": null,
            "grid_row": null,
            "grid_template_areas": null,
            "grid_template_columns": null,
            "grid_template_rows": null,
            "height": null,
            "justify_content": null,
            "justify_items": null,
            "left": null,
            "margin": null,
            "max_height": null,
            "max_width": null,
            "min_height": null,
            "min_width": null,
            "object_fit": null,
            "object_position": null,
            "order": null,
            "overflow": null,
            "overflow_x": null,
            "overflow_y": null,
            "padding": null,
            "right": null,
            "top": null,
            "visibility": null,
            "width": null
          }
        },
        "4ab9cc8125a7406da89e6ccc49d3caf1": {
          "model_module": "@jupyter-widgets/controls",
          "model_name": "DescriptionStyleModel",
          "model_module_version": "1.5.0",
          "state": {
            "_model_module": "@jupyter-widgets/controls",
            "_model_module_version": "1.5.0",
            "_model_name": "DescriptionStyleModel",
            "_view_count": null,
            "_view_module": "@jupyter-widgets/base",
            "_view_module_version": "1.2.0",
            "_view_name": "StyleView",
            "description_width": ""
          }
        }
      }
    }
  },
  "cells": [
    {
      "cell_type": "markdown",
      "source": [
        "### Data Loaders"
      ],
      "metadata": {
        "id": "KoBq9YhT8FaO"
      }
    },
    {
      "cell_type": "code",
      "execution_count": 2,
      "metadata": {
        "colab": {
          "base_uri": "https://localhost:8080/"
        },
        "id": "svNktDknHAY-",
        "outputId": "ec03b8ec-2f01-4c3b-89bd-580cd024292c"
      },
      "outputs": [
        {
          "output_type": "stream",
          "name": "stdout",
          "text": [
            "Downloading https://www.cs.toronto.edu/~kriz/cifar-10-python.tar.gz to ./data/cifar-10-python.tar.gz\n"
          ]
        },
        {
          "output_type": "stream",
          "name": "stderr",
          "text": [
            "100%|██████████| 170498071/170498071 [00:01<00:00, 103174785.68it/s]\n"
          ]
        },
        {
          "output_type": "stream",
          "name": "stdout",
          "text": [
            "Extracting ./data/cifar-10-python.tar.gz to ./data\n",
            "Files already downloaded and verified\n"
          ]
        }
      ],
      "source": [
        "import torch\n",
        "from torchvision import datasets, transforms\n",
        "from torchvision.models import resnet18\n",
        "from torch.utils.data import Subset, DataLoader\n",
        "import torch.nn.functional as F\n",
        "import numpy as np\n",
        "import copy\n",
        "\n",
        "np.random.seed(42)\n",
        "# Define transformation\n",
        "transform = transforms.Compose([\n",
        "    transforms.ToTensor(),\n",
        "    transforms.Normalize((0.5, 0.5, 0.5), (0.5, 0.5, 0.5))  # Normalize images\n",
        "])\n",
        "\n",
        "# Load CIFAR-10 dataset\n",
        "train_data = datasets.CIFAR10(root='./data', train=True, download=True, transform=transform)\n",
        "test_data = datasets.CIFAR10(root='./data', train=False, download=True, transform=transform)\n",
        "\n",
        "# Create lists to store indices for each class\n",
        "indices_per_class_train = [[] for _ in range(10)]\n",
        "indices_per_class_test = [[] for _ in range(10)]\n",
        "\n",
        "# Group indices by class label\n",
        "for idx, (_, label) in enumerate(train_data):\n",
        "    indices_per_class_train[label].append(idx)\n",
        "\n",
        "for idx, (_, label) in enumerate(test_data):\n",
        "    indices_per_class_test[label].append(idx)\n",
        "\n",
        "# Sample 10% of indices from each class\n",
        "subset_indices_train = []\n",
        "subset_indices_test = []\n",
        "for class_indices_train, class_indices_test in zip(indices_per_class_train, indices_per_class_test):\n",
        "    subset_indices_train.extend(np.random.choice(class_indices_train, int(0.1 * len(class_indices_train)), replace=False))\n",
        "    subset_indices_test.extend(np.random.choice(class_indices_test, int(0.1 * len(class_indices_test)), replace=False))\n",
        "\n",
        "# Create subsets using Subset class from torch.utils.data\n",
        "small_train_data = Subset(train_data, subset_indices_train)\n",
        "small_test_data = Subset(test_data, subset_indices_test)\n",
        "\n",
        "# Create DataLoader for small datasets\n",
        "batch_size = 64  # Adjust batch size as needed\n",
        "small_train_loader = DataLoader(small_train_data, batch_size=batch_size, shuffle=True)\n",
        "small_test_loader = DataLoader(small_test_data, batch_size=batch_size, shuffle=False)\n"
      ]
    },
    {
      "cell_type": "code",
      "source": [
        "device = torch.device(\"cuda\" if torch.cuda.is_available() else \"cpu\")"
      ],
      "metadata": {
        "id": "F2zHtBhSnB-c"
      },
      "execution_count": 3,
      "outputs": []
    },
    {
      "cell_type": "code",
      "source": [
        "import torch\n",
        "import matplotlib.pyplot as plt\n",
        "\n",
        "image=small_train_data[0][0]\n",
        "# Convert the tensor to a NumPy array\n",
        "np_image = image.numpy()\n",
        "\n",
        "# Reshape the NumPy array for display\n",
        "reshaped_image = np.transpose(np_image, (1, 2, 0))  # Transpose dimensions to match HxWxC\n",
        "\n",
        "# Display the image using matplotlib\n",
        "plt.imshow(reshaped_image)\n",
        "plt.axis('off')  # Hide axis labels and ticks\n",
        "plt.show()"
      ],
      "metadata": {
        "colab": {
          "base_uri": "https://localhost:8080/",
          "height": 423
        },
        "id": "QZbUdfGFILZE",
        "outputId": "58bb7e62-f0d1-4785-e4b0-a0055d29180a"
      },
      "execution_count": 4,
      "outputs": [
        {
          "output_type": "stream",
          "name": "stderr",
          "text": [
            "WARNING:matplotlib.image:Clipping input data to the valid range for imshow with RGB data ([0..1] for floats or [0..255] for integers).\n"
          ]
        },
        {
          "output_type": "display_data",
          "data": {
            "text/plain": [
              "<Figure size 640x480 with 1 Axes>"
            ],
            "image/png": "[encoded data removed]"
          },
          "metadata": {}
        }
      ]
    },
    {
      "cell_type": "code",
      "source": [
        "import pickle\n",
        "with open('small_cifar_train.pkl', 'wb') as f_train:\n",
        "    pickle.dump(small_train_data, f_train)\n",
        "\n",
        "with open('small_cifar_test.pkl', 'wb') as f_test:\n",
        "    pickle.dump(small_test_data, f_test)"
      ],
      "metadata": {
        "id": "xzUH0AZBI_Jg"
      },
      "execution_count": 5,
      "outputs": []
    },
    {
      "cell_type": "code",
      "source": [
        "total_samples = len(small_train_data)\n",
        "forget_samples = int(0.05 * total_samples)\n",
        "\n",
        "# Generate random indices for the forget set\n",
        "forget_indices = np.random.choice(total_samples, forget_samples, replace=False)\n",
        "retain_indices = [idx for idx in range(total_samples) if idx not in forget_indices]\n",
        "\n",
        "# Create forget and retain sets\n",
        "forget_set = torch.utils.data.Subset(small_train_data, forget_indices)\n",
        "retain_set = torch.utils.data.Subset(small_train_data, retain_indices)"
      ],
      "metadata": {
        "id": "uaYrHdwcJCIv"
      },
      "execution_count": 6,
      "outputs": []
    },
    {
      "cell_type": "code",
      "source": [
        "import torch\n",
        "import matplotlib.pyplot as plt\n",
        "\n",
        "image=forget_set[0][0]\n",
        "# Convert the tensor to a NumPy array\n",
        "np_image = image.numpy()\n",
        "\n",
        "# Reshape the NumPy array for display\n",
        "reshaped_image = np.transpose(np_image, (1, 2, 0))  # Transpose dimensions to match HxWxC\n",
        "\n",
        "# Display the image using matplotlib\n",
        "plt.imshow(reshaped_image)\n",
        "plt.axis('off')  # Hide axis labels and ticks\n",
        "plt.show()"
      ],
      "metadata": {
        "colab": {
          "base_uri": "https://localhost:8080/",
          "height": 423
        },
        "id": "7eDu_-6sO0xM",
        "outputId": "4551ec57-ba2c-4d7e-aee0-93dc2832f247"
      },
      "execution_count": 7,
      "outputs": [
        {
          "output_type": "stream",
          "name": "stderr",
          "text": [
            "WARNING:matplotlib.image:Clipping input data to the valid range for imshow with RGB data ([0..1] for floats or [0..255] for integers).\n"
          ]
        },
        {
          "output_type": "display_data",
          "data": {
            "text/plain": [
              "<Figure size 640x480 with 1 Axes>"
            ],
            "image/png": "[encoded data removed]"
          },
          "metadata": {}
        }
      ]
    },
    {
      "cell_type": "markdown",
      "source": [
        "Pickle to data loader"
      ],
      "metadata": {
        "id": "Uq9cYYsmazd0"
      }
    },
    {
      "cell_type": "code",
      "source": [
        "with open('forget_set.pkl', 'wb') as f_train:\n",
        "    pickle.dump(forget_set, f_train)\n",
        "\n",
        "with open('retain_set.pkl', 'wb') as f_test:\n",
        "    pickle.dump(retain_set, f_test)"
      ],
      "metadata": {
        "id": "F6ew-Ml8O30n"
      },
      "execution_count": 8,
      "outputs": []
    },
    {
      "cell_type": "code",
      "source": [
        "from torch.utils.data import Dataset\n",
        "# Define your custom dataset class inheriting from torch.utils.data.Dataset\n",
        "class CustomDataset(Dataset):\n",
        "    def __init__(self, data):\n",
        "        self.data = data\n",
        "\n",
        "    def __len__(self):\n",
        "        return len(self.data)\n",
        "\n",
        "    def __getitem__(self, index):\n",
        "        sample, label = self.data[index]\n",
        "        return sample, label\n",
        "\n",
        "# Load the dataset from the pickle file\n",
        "with open('forget_set.pkl', 'rb') as f:\n",
        "    data_list = pickle.load(f)\n",
        "forget_set1 = CustomDataset(data_list)\n",
        "\n",
        "\n",
        "with open('retain_set.pkl', 'rb') as f:\n",
        "    data_list = pickle.load(f)\n",
        "retain_set1 = CustomDataset(data_list)\n",
        "\n",
        "retain_loader=DataLoader(retain_set1, batch_size=64, shuffle=True)\n",
        "forget_loader=DataLoader(forget_set1, batch_size=64, shuffle=True)"
      ],
      "metadata": {
        "id": "QIdpWahHsPQP"
      },
      "execution_count": 9,
      "outputs": []
    },
    {
      "cell_type": "code",
      "source": [
        "import torch\n",
        "import matplotlib.pyplot as plt\n",
        "\n",
        "\n",
        "image=forget_set1[0][0]\n",
        "# Convert the tensor to a NumPy array\n",
        "np_image = image.numpy()\n",
        "\n",
        "# Reshape the NumPy array for display\n",
        "reshaped_image = np.transpose(np_image, (1, 2, 0))  # Transpose dimensions to match HxWxC\n",
        "\n",
        "# Display the image using matplotlib\n",
        "plt.imshow(reshaped_image)\n",
        "plt.axis('off')  # Hide axis labels and ticks\n",
        "plt.show()"
      ],
      "metadata": {
        "colab": {
          "base_uri": "https://localhost:8080/",
          "height": 423
        },
        "id": "Yepc1c_ysrUA",
        "outputId": "9cb692aa-aa0f-4bd0-add7-eb6da9fafa3b"
      },
      "execution_count": 10,
      "outputs": [
        {
          "output_type": "stream",
          "name": "stderr",
          "text": [
            "WARNING:matplotlib.image:Clipping input data to the valid range for imshow with RGB data ([0..1] for floats or [0..255] for integers).\n"
          ]
        },
        {
          "output_type": "display_data",
          "data": {
            "text/plain": [
              "<Figure size 640x480 with 1 Axes>"
            ],
            "image/png": "[encoded data removed]"
          },
          "metadata": {}
        }
      ]
    },
    {
      "cell_type": "markdown",
      "source": [
        "Train original"
      ],
      "metadata": {
        "id": "nbjO3IYxxoYu"
      }
    },
    {
      "cell_type": "code",
      "source": [
        "import torch\n",
        "import torch.nn as nn\n",
        "import torch.optim as optim\n",
        "from torchvision import models, datasets, transforms\n",
        "from torch.utils.data import DataLoader\n",
        "\n",
        "# Function to train the model\n",
        "def train_model(model, criterion, optimizer, train_loader, num_epochs=10):\n",
        "    device = torch.device(\"cuda\" if torch.cuda.is_available() else \"cpu\")\n",
        "    model.to(device)\n",
        "\n",
        "    for epoch in range(num_epochs):\n",
        "        model.train()\n",
        "        running_loss = 0.0\n",
        "\n",
        "        for inputs, labels in train_loader:\n",
        "            inputs, labels = inputs.to(device), labels.to(device)\n",
        "            optimizer.zero_grad()\n",
        "\n",
        "            outputs = model(inputs)\n",
        "            loss = criterion(outputs, labels)\n",
        "\n",
        "            # L2 regularization\n",
        "            l2_reg = None\n",
        "            for param in model.parameters():\n",
        "                if l2_reg is None:\n",
        "                    l2_reg = param.norm(2)\n",
        "                else:\n",
        "                    l2_reg = l2_reg + param.norm(2)\n",
        "\n",
        "            loss = loss + weight_decay * l2_reg  # Add L2 regularization to the loss\n",
        "\n",
        "            loss.backward()\n",
        "            optimizer.step()\n",
        "\n",
        "            running_loss += loss.item() * inputs.size(0)\n",
        "\n",
        "        epoch_loss = running_loss / len(train_loader.dataset)\n",
        "\n",
        "        print(f\"Epoch [{epoch + 1}/{num_epochs}] | Loss: {epoch_loss:.4f}\")\n",
        "\n",
        "# Evaluation function\n",
        "def evaluate_model(model, test_loader):\n",
        "    correct = 0\n",
        "    total = 0\n",
        "    model.eval()\n",
        "    device = torch.device(\"cuda\" if torch.cuda.is_available() else \"cpu\")\n",
        "    with torch.no_grad():\n",
        "        for images, labels in test_loader:\n",
        "            images, labels = images.to(device), labels.to(device)\n",
        "            outputs = model(images)\n",
        "            _, predicted = torch.max(outputs, 1)\n",
        "            total += labels.size(0)\n",
        "            correct += (predicted == labels).sum().item()\n",
        "\n",
        "    accuracy = (correct / total) * 100\n",
        "    return accuracy"
      ],
      "metadata": {
        "id": "Ep_sXWP9URiy"
      },
      "execution_count": 11,
      "outputs": []
    },
    {
      "cell_type": "code",
      "source": [
        "train_loader = DataLoader(small_train_data, batch_size=64, shuffle=True)\n",
        "test_loader= DataLoader(small_test_data, batch_size=64, shuffle=True)\n",
        "\n",
        "# Define the model architecture for 10 classes\n",
        "model_train = models.resnet18(pretrained=True)\n",
        "num_ftrs = model_train.fc.in_features\n",
        "model_train.fc = nn.Linear(num_ftrs, 10)  # Output layer for 10 classes\n",
        "model_train=model_train.to(device)\n",
        "# L2 regularization\n",
        "weight_decay = 0  # Adjust this value if needed\n",
        "\n",
        "# Define optimizer (Adam is commonly used)\n",
        "optimizer = optim.Adam(model_train.parameters(), lr=0.001, weight_decay=0.0001)  # Adjust lr if needed\n",
        "\n",
        "# Define loss function (cross-entropy for classification)\n",
        "criterion = nn.CrossEntropyLoss()\n",
        "\n",
        "# Train the model on the entire retain set\n",
        "train_model(model_train, criterion, optimizer, train_loader, num_epochs=10)"
      ],
      "metadata": {
        "id": "zbEUypF3YLCU",
        "colab": {
          "base_uri": "https://localhost:8080/"
        },
        "outputId": "6a2826c7-4ddf-467b-b072-4a66ed01c601"
      },
      "execution_count": 12,
      "outputs": [
        {
          "output_type": "stream",
          "name": "stderr",
          "text": [
            "/usr/local/lib/python3.10/dist-packages/torchvision/models/_utils.py:208: UserWarning: The parameter 'pretrained' is deprecated since 0.13 and may be removed in the future, please use 'weights' instead.\n",
            "  warnings.warn(\n",
            "/usr/local/lib/python3.10/dist-packages/torchvision/models/_utils.py:223: UserWarning: Arguments other than a weight enum or `None` for 'weights' are deprecated since 0.13 and may be removed in the future. The current behavior is equivalent to passing `weights=ResNet18_Weights.IMAGENET1K_V1`. You can also use `weights=ResNet18_Weights.DEFAULT` to get the most up-to-date weights.\n",
            "  warnings.warn(msg)\n",
            "Downloading: \"https://download.pytorch.org/models/resnet18-f37072fd.pth\" to /root/.cache/torch/hub/checkpoints/resnet18-f37072fd.pth\n",
            "100%|██████████| 44.7M/44.7M [00:00<00:00, 133MB/s]\n"
          ]
        },
        {
          "output_type": "stream",
          "name": "stdout",
          "text": [
            "Epoch [1/10] | Loss: 1.4948\n",
            "Epoch [2/10] | Loss: 1.0835\n",
            "Epoch [3/10] | Loss: 0.9053\n",
            "Epoch [4/10] | Loss: 0.6402\n",
            "Epoch [5/10] | Loss: 0.5408\n",
            "Epoch [6/10] | Loss: 0.4685\n",
            "Epoch [7/10] | Loss: 0.4234\n",
            "Epoch [8/10] | Loss: 0.3881\n",
            "Epoch [9/10] | Loss: 0.2710\n",
            "Epoch [10/10] | Loss: 0.2446\n"
          ]
        }
      ]
    },
    {
      "cell_type": "code",
      "source": [
        "# Calculate accuracy on the test dataset\n",
        "test_accuracy = evaluate_model(model_train, test_loader)\n",
        "print(f\"Accuracy on the test dataset: {test_accuracy:.2f}%\")"
      ],
      "metadata": {
        "colab": {
          "base_uri": "https://localhost:8080/"
        },
        "id": "esetpanYvSxa",
        "outputId": "e9208671-a61f-4c97-abcb-46c020840a90"
      },
      "execution_count": 13,
      "outputs": [
        {
          "output_type": "stream",
          "name": "stdout",
          "text": [
            "Accuracy on the test dataset: 70.70%\n"
          ]
        }
      ]
    },
    {
      "cell_type": "markdown",
      "source": [
        "### Retrain Forgetting(resnet18)"
      ],
      "metadata": {
        "id": "fu8EhivARUNF"
      }
    },
    {
      "cell_type": "code",
      "source": [
        "retain_loader = DataLoader(retain_set, batch_size=64, shuffle=True)\n",
        "\n",
        "# Define the model architecture for 10 classes\n",
        "model_retrain = models.resnet18(pretrained=True)\n",
        "model_retrain.to(device)  # Move model to GPU if available\n",
        "num_ftrs = model_retrain.fc.in_features\n",
        "model_retrain.fc = nn.Linear(num_ftrs, 10)  # Output layer for 10 classes\n",
        "\n",
        "# L2 regularization\n",
        "weight_decay = 0  # Adjust this value if needed\n",
        "\n",
        "# Define optimizer (Adam is commonly used)\n",
        "optimizer = optim.Adam(model_retrain.parameters(), lr=0.001, weight_decay=0.0001)  # Adjust lr if needed\n",
        "\n",
        "# Define loss function (cross-entropy for classification)\n",
        "criterion = nn.CrossEntropyLoss()\n",
        "\n",
        "# Train the model on the entire retain set\n",
        "train_model(model_retrain, criterion, optimizer, retain_loader, num_epochs=10)"
      ],
      "metadata": {
        "colab": {
          "base_uri": "https://localhost:8080/"
        },
        "id": "0dHQjqmiPCxI",
        "outputId": "17aa7ba7-0617-4670-cead-cda591614d48"
      },
      "execution_count": 14,
      "outputs": [
        {
          "output_type": "stream",
          "name": "stdout",
          "text": [
            "Epoch [1/10] | Loss: 1.5449\n",
            "Epoch [2/10] | Loss: 1.0286\n",
            "Epoch [3/10] | Loss: 0.7492\n",
            "Epoch [4/10] | Loss: 0.5754\n",
            "Epoch [5/10] | Loss: 0.4863\n",
            "Epoch [6/10] | Loss: 0.4091\n",
            "Epoch [7/10] | Loss: 0.3249\n",
            "Epoch [8/10] | Loss: 0.3375\n",
            "Epoch [9/10] | Loss: 0.2224\n",
            "Epoch [10/10] | Loss: 0.1593\n"
          ]
        }
      ]
    },
    {
      "cell_type": "code",
      "source": [
        "# Calculate accuracy on the test dataset\n",
        "test_accuracy = evaluate_model(model_retrain, test_loader)\n",
        "print(f\"Accuracy on the test dataset: {test_accuracy:.2f}%\")"
      ],
      "metadata": {
        "colab": {
          "base_uri": "https://localhost:8080/"
        },
        "id": "_S8h-KUrXxCo",
        "outputId": "332ddb8d-0a7e-422e-ff66-bf23df7e16b3"
      },
      "execution_count": 15,
      "outputs": [
        {
          "output_type": "stream",
          "name": "stdout",
          "text": [
            "Accuracy on the test dataset: 64.90%\n"
          ]
        }
      ]
    },
    {
      "cell_type": "code",
      "source": [
        "# Calculate accuracy on the test dataset\n",
        "test_accuracy = evaluate_model(model_retrain, retain_loader)\n",
        "print(f\"Accuracy on the retain dataset: {test_accuracy:.2f}%\")"
      ],
      "metadata": {
        "colab": {
          "base_uri": "https://localhost:8080/"
        },
        "id": "86kBpxbriQvr",
        "outputId": "74bdcf69-e047-425d-c2e0-094a13dd8302"
      },
      "execution_count": 16,
      "outputs": [
        {
          "output_type": "stream",
          "name": "stdout",
          "text": [
            "Accuracy on the retain dataset: 94.57%\n"
          ]
        }
      ]
    },
    {
      "cell_type": "code",
      "source": [
        "# Calculate accuracy on the test dataset\n",
        "test_accuracy = evaluate_model(model_retrain, forget_loader)\n",
        "print(f\"Accuracy on the forget dataset: {test_accuracy:.2f}%\")"
      ],
      "metadata": {
        "colab": {
          "base_uri": "https://localhost:8080/"
        },
        "id": "1_GOv_wTiak0",
        "outputId": "97fb2675-12a0-494a-ca4a-858d4e133af4"
      },
      "execution_count": 17,
      "outputs": [
        {
          "output_type": "stream",
          "name": "stdout",
          "text": [
            "Accuracy on the forget dataset: 67.20%\n"
          ]
        }
      ]
    },
    {
      "cell_type": "markdown",
      "source": [
        "### Scrub Unlearning"
      ],
      "metadata": {
        "id": "Hywpg_vc3cVO"
      }
    },
    {
      "cell_type": "markdown",
      "source": [
        "##### Helper Functions\n"
      ],
      "metadata": {
        "id": "gMSp9LKqc8gS"
      }
    },
    {
      "cell_type": "code",
      "source": [
        "def param_dist(model, swa_model, p):\n",
        "    #This is from https://github.com/ojus1/SmoothedGradientDescentAscent/blob/main/SGDA.py\n",
        "    dist = 0.\n",
        "    for p1, p2 in zip(model.parameters(), swa_model.parameters()):\n",
        "        dist += torch.norm(p1 - p2, p='fro')\n",
        "    return p * dist\n",
        "\n",
        "class DistillKL(nn.Module):\n",
        "    \"\"\"Distilling the Knowledge in a Neural Network\"\"\"\n",
        "    def __init__(self, T):\n",
        "        super(DistillKL, self).__init__()\n",
        "        self.T = T\n",
        "\n",
        "    def forward(self, y_s, y_t):\n",
        "        p_s = F.log_softmax(y_s/self.T, dim=1)\n",
        "        p_t = F.softmax(y_t/self.T, dim=1)\n",
        "        loss = F.kl_div(p_s, p_t, size_average=False) * (self.T**2) / y_s.shape[0]\n",
        "        return loss\n",
        "\n",
        "class AverageMeter(object):\n",
        "    \"\"\"Computes and stores the average and current value\"\"\"\n",
        "    def __init__(self):\n",
        "        self.reset()\n",
        "\n",
        "    def reset(self):\n",
        "        self.val = 0\n",
        "        self.avg = 0\n",
        "        self.sum = 0\n",
        "        self.count = 0\n",
        "\n",
        "    def update(self, val, n=1):\n",
        "        self.val = val\n",
        "        self.sum += val * n\n",
        "        self.count += n\n",
        "        self.avg = self.sum / self.count\n",
        "\n",
        "def adjust_learning_rate(epoch,sgda_learning_rate,lr_decay_epochs,lr_decay_rate, optimizer):\n",
        "    \"\"\"Sets the learning rate to the initial LR decayed by decay rate every steep step\"\"\"\n",
        "    steps = np.sum(epoch > np.asarray(lr_decay_epochs))\n",
        "    new_lr = sgda_learning_rate\n",
        "    if steps > 0:\n",
        "        new_lr = sgda_learning_rate * (lr_decay_rate ** steps)\n",
        "        for param_group in optimizer.param_groups:\n",
        "            param_group['lr'] = new_lr\n",
        "    return new_lr\n",
        "\n",
        "def validate(val_loader, model, criterion, opt, quiet=False):\n",
        "    \"\"\"validation\"\"\"\n",
        "#     batch_time = AverageMeter()\n",
        "    losses = AverageMeter()\n",
        "#     top1 = AverageMeter()\n",
        "#     top5 = AverageMeter()\n",
        "\n",
        "    # switch to evaluate mode\n",
        "    model.eval()\n",
        "\n",
        "    with torch.no_grad():\n",
        "#         end = time.time()\n",
        "        for idx, (input, target) in enumerate(val_loader):\n",
        "\n",
        "            input = input.float()\n",
        "            if torch.cuda.is_available():\n",
        "                input = input.cuda()\n",
        "                target = target.cuda()\n",
        "\n",
        "            # compute output\n",
        "            output = model(input)\n",
        "            loss = criterion(output, target)\n",
        "\n",
        "            # measure accuracy and record loss\n",
        "#             acc1, acc5 = accuracy(output, target, topk=(1, 5))\n",
        "            losses.update(loss.item(), input.size(0))\n",
        "#             top1.update(acc1[0], input.size(0))\n",
        "#             top5.update(acc5[0], input.size(0))\n",
        "\n",
        "            # measure elapsed time\n",
        "#             batch_time.update(time.time() - end)\n",
        "#             end = time.time()\n",
        "\n",
        "#             if not quiet:\n",
        "#                 if idx % opt.print_freq == 0:\n",
        "#                     print('Test: [{0}/{1}]\\t'\n",
        "#                           'Time {batch_time.val:.3f} ({batch_time.avg:.3f})\\t'\n",
        "#                           'Loss {loss.val:.4f} ({loss.avg:.4f})\\t'\n",
        "#                           'Acc@1 {top1.val:.3f} ({top1.avg:.3f})\\t'\n",
        "#                           'Acc@5 {top5.val:.3f} ({top5.avg:.3f})'.format(\n",
        "#                            idx, len(val_loader), batch_time=batch_time, loss=losses,\n",
        "#                            top1=top1, top5=top5))\n",
        "#         if not quiet:\n",
        "#             print(' * Acc@1 {top1.avg:.3f} Acc@5 {top5.avg:.3f}'\n",
        "#                   .format(top1=top1, top5=top5))\n",
        "\n",
        "    return  losses.avg\n",
        "\n",
        "def train_distill(epoch, train_loader, module_list, swa_model, criterion_list, optimizer, opt, split, quiet=False):\n",
        "    \"\"\"One epoch distillation\"\"\"\n",
        "    # set modules as train()\n",
        "    for module in module_list:\n",
        "        module.train()\n",
        "    # set teacher as eval()\n",
        "    module_list[-1].eval()\n",
        "\n",
        "\n",
        "    criterion_cls = criterion_list[0]\n",
        "    criterion_div = criterion_list[1]\n",
        "    criterion_kd = criterion_list[2]\n",
        "\n",
        "    model_s = module_list[0]\n",
        "    model_t = module_list[-1]\n",
        "\n",
        "    # batch_time = AverageMeter()\n",
        "    # data_time = AverageMeter()\n",
        "    losses = AverageMeter()\n",
        "    kd_losses = AverageMeter()\n",
        "    # top1 = AverageMeter()\n",
        "\n",
        "\n",
        "    # end = time.time()\n",
        "    for idx, data in enumerate(train_loader):\n",
        "        input, target = data\n",
        "        input = input.float()\n",
        "        if torch.cuda.is_available():\n",
        "            input = input.cuda()\n",
        "            target = target.cuda()\n",
        "\n",
        "        # ===================forward=====================\n",
        "        #feat_s, logit_s = model_s(input, is_feat=True, preact=False)\n",
        "        logit_s = model_s(input)\n",
        "        with torch.no_grad():\n",
        "            #feat_t, logit_t = model_t(input, is_feat=True, preact=preact)\n",
        "            #feat_t = [f.detach() for f in feat_t]\n",
        "            logit_t = model_t(input)\n",
        "        loss_kd=0\n",
        "\n",
        "        # cls + kl div\n",
        "        loss_cls = criterion_cls(logit_s, target)\n",
        "        loss_div = criterion_div(logit_s, logit_t)\n",
        "\n",
        "        # # other kd beyond KL divergence\n",
        "        # if opt.distill == 'kd':\n",
        "        #     loss_kd = 0\n",
        "        # elif opt.distill == 'hint':\n",
        "        #     f_s = module_list[1](feat_s[opt.hint_layer])\n",
        "        #     f_t = feat_t[opt.hint_layer]\n",
        "        #     loss_kd = criterion_kd(f_s, f_t)\n",
        "        # elif opt.distill == 'crd':\n",
        "        #     f_s = feat_s[-1]\n",
        "        #     f_t = feat_t[-1]\n",
        "        #     loss_kd = criterion_kd(f_s, f_t, index, contrast_idx)\n",
        "        # elif opt.distill == 'attention':\n",
        "        #     g_s = feat_s[1:-1]\n",
        "        #     g_t = feat_t[1:-1]\n",
        "        #     loss_group = criterion_kd(g_s, g_t)\n",
        "        #     loss_kd = sum(loss_group)\n",
        "        # elif opt.distill == 'nst':\n",
        "        #     g_s = feat_s[1:-1]\n",
        "        #     g_t = feat_t[1:-1]\n",
        "        #     loss_group = criterion_kd(g_s, g_t)\n",
        "        #     loss_kd = sum(loss_group)\n",
        "        # elif opt.distill == 'similarity':\n",
        "        #     g_s = [feat_s[-2]]\n",
        "        #     g_t = [feat_t[-2]]\n",
        "        #     loss_group = criterion_kd(g_s, g_t)\n",
        "        #     loss_kd = sum(loss_group)\n",
        "        # elif opt.distill == 'rkd':\n",
        "        #     f_s = feat_s[-1]\n",
        "        #     f_t = feat_t[-1]\n",
        "        #     loss_kd = criterion_kd(f_s, f_t)\n",
        "        # elif opt.distill == 'pkt':\n",
        "        #     f_s = feat_s[-1]\n",
        "        #     f_t = feat_t[-1]\n",
        "        #     loss_kd = criterion_kd(f_s, f_t)\n",
        "        # elif opt.distill == 'kdsvd':\n",
        "        #     g_s = feat_s[1:-1]\n",
        "        #     g_t = feat_t[1:-1]\n",
        "        #     loss_group = criterion_kd(g_s, g_t)\n",
        "        #     loss_kd = sum(loss_group)\n",
        "        # elif opt.distill == 'correlation':\n",
        "        #     f_s = module_list[1](feat_s[-1])\n",
        "        #     f_t = module_list[2](feat_t[-1])\n",
        "        #     loss_kd = criterion_kd(f_s, f_t)\n",
        "        # elif opt.distill == 'vid':\n",
        "        #     g_s = feat_s[1:-1]\n",
        "        #     g_t = feat_t[1:-1]\n",
        "        #     loss_group = [c(f_s, f_t) for f_s, f_t, c in zip(g_s, g_t, criterion_kd)]\n",
        "        #     loss_kd = sum(loss_group)\n",
        "\n",
        "        # else:\n",
        "        #     raise NotImplementedError(opt.distill)\n",
        "\n",
        "        if split == \"minimize\":\n",
        "            loss = opt.gamma * loss_cls + opt.alpha * loss_div + opt.beta * loss_kd\n",
        "        elif split == \"maximize\":\n",
        "            loss = -loss_div\n",
        "\n",
        "        loss = loss + param_dist(model_s, swa_model, 0.5)\n",
        "\n",
        "        if split == \"minimize\" and not quiet:\n",
        "            # acc1, _ = accuracy(logit_s, target, topk=(1,1))\n",
        "            losses.update(loss.item(), input.size(0))\n",
        "            # top1.update(acc1[0], input.size(0))\n",
        "        elif split == \"maximize\" and not quiet:\n",
        "            kd_losses.update(loss.item(), input.size(0))\n",
        "        # elif split == \"linear\" and not quiet:\n",
        "        #     acc1, _ = accuracy(logit_s, target, topk=(1, 1))\n",
        "        #     losses.update(loss.item(), input.size(0))\n",
        "        #     top1.update(acc1[0], input.size(0))\n",
        "        #     kd_losses.update(loss.item(), input.size(0))\n",
        "\n",
        "\n",
        "        # ===================backward=====================\n",
        "        optimizer.zero_grad()\n",
        "        loss.backward()\n",
        "        #nn.utils.clip_grad_value_(model_s.parameters(), clip)\n",
        "        optimizer.step()\n",
        "\n",
        "        # ===================meters=====================\n",
        "        # batch_time.update(time.time() - end)\n",
        "        # end = time.time()\n",
        "\n",
        "        # if not quiet:\n",
        "        #     if split == \"mainimize\":\n",
        "        #         if idx % opt.print_freq == 0:\n",
        "        #             print('Epoch: [{0}][{1}/{2}]\\t'\n",
        "        #                   'Time {batch_time.val:.3f} ({batch_time.avg:.3f})\\t'\n",
        "        #                   'Data {data_time.val:.3f} ({data_time.avg:.3f})\\t'\n",
        "        #                   'Loss {loss.val:.4f} ({loss.avg:.4f})\\t'\n",
        "        #                   'Acc@1 {top1.val:.3f} ({top1.avg:.3f})'.format(\n",
        "        #                 epoch, idx, len(train_loader), batch_time=batch_time,\n",
        "        #                 data_time=data_time, loss=losses, top1=top1))\n",
        "        #             sys.stdout.flush()\n",
        "\n",
        "\n",
        "    if split == \"minimize\":\n",
        "        # if not quiet:\n",
        "        #     print(' * Acc@1 {top1.avg:.3f} '\n",
        "        #           .format(top1=top1))\n",
        "\n",
        "        return losses.avg\n",
        "    else:\n",
        "        return kd_losses.avg\n",
        "\n",
        "def compute_normalized_mse_loss(list1, list2):\n",
        "    total_loss = 0.0\n",
        "    total_tensors = len(list1)\n",
        "    num_images = list1[0].size(0)  # Assuming each tensor has 64 images\n",
        "\n",
        "    for i in range(total_tensors):\n",
        "        tensor1 = list1[i]\n",
        "        tensor2 = list2[i]\n",
        "\n",
        "        # Normalize tensors\n",
        "        norm_tensor1 = F.normalize(tensor1, p=2, dim=(1, 2, 3))  # Normalize along dimensions 1, 2, 3\n",
        "        norm_tensor2 = F.normalize(tensor2, p=2, dim=(1, 2, 3))\n",
        "\n",
        "        # Calculate MSE loss for each element (each collection of 64 tensors)\n",
        "        mse_loss = F.mse_loss(norm_tensor1, norm_tensor2, reduction='none').view(num_images, -1).mean(dim=1)\n",
        "\n",
        "        # Sum the MSE loss for each element\n",
        "        total_loss += mse_loss.sum().item()\n",
        "\n",
        "    # Calculate average loss considering each element as a collection of 64 tensors\n",
        "    average_loss = total_loss / (total_tensors * num_images)\n",
        "    return average_loss\n",
        "\n",
        "class IntermediateResNet(nn.Module):\n",
        "    def __init__(self, original_model, layers):\n",
        "        super(IntermediateResNet, self).__init__()\n",
        "        self.features = nn.ModuleList([\n",
        "            nn.Sequential(*list(original_model.children())[:layer_idx])  # Access layers up to the desired layer\n",
        "            for layer_idx in layers\n",
        "        ])\n",
        "\n",
        "    def forward(self, x):\n",
        "        feats = [model(x) for model in self.features]\n",
        "        return feats"
      ],
      "metadata": {
        "id": "ALVMVVAc3i7b"
      },
      "execution_count": 18,
      "outputs": []
    },
    {
      "cell_type": "code",
      "source": [
        "model_t = copy.deepcopy(model_train)\n",
        "model_s = copy.deepcopy(model_train)"
      ],
      "metadata": {
        "id": "SVfA_h5J3in0"
      },
      "execution_count": 19,
      "outputs": []
    },
    {
      "cell_type": "code",
      "source": [
        "#this is from https://github.com/ojus1/SmoothedGradientDescentAscent/blob/main/SGDA.py\n",
        "#For SGDA smoothing\n",
        "beta = 0.1\n",
        "def avg_fn(averaged_model_parameter, model_parameter, num_averaged): return (\n",
        "    1 - beta) * averaged_model_parameter + beta * model_parameter\n",
        "swa_model = torch.optim.swa_utils.AveragedModel(\n",
        "    model_s, avg_fn=avg_fn)"
      ],
      "metadata": {
        "id": "8roO9WKS6ndX"
      },
      "execution_count": 20,
      "outputs": []
    },
    {
      "cell_type": "code",
      "source": [
        "class arguments():\n",
        "    def __init__(self,alpha,beta,gamma):\n",
        "        self.alpha=alpha\n",
        "        self.beta=beta\n",
        "        self.gamma=gamma\n",
        "args=arguments(0.5,0.5,1)\n",
        "\n",
        "sgda_learning_rate = 0.0005\n",
        "lr_decay_epochs = [5,8,9]\n",
        "lr_decay_rate = 0.1\n",
        "\n",
        "module_list = nn.ModuleList([])\n",
        "module_list.append(model_s)\n",
        "module_list.append(model_t)\n",
        "\n",
        "criterion_cls = nn.CrossEntropyLoss()\n",
        "criterion_div = DistillKL(2)\n",
        "criterion_kd = DistillKL(2)\n",
        "\n",
        "\n",
        "criterion_list = nn.ModuleList([])\n",
        "criterion_list.append(criterion_cls)    # classification loss\n",
        "criterion_list.append(criterion_div)    # KL divergence loss, original knowledge distillation\n",
        "criterion_list.append(criterion_kd)     # other knowledge distillation loss"
      ],
      "metadata": {
        "colab": {
          "base_uri": "https://localhost:8080/"
        },
        "id": "eC0knVVc6tQA",
        "outputId": "db991156-fe12-4b35-a23f-c7ee52a7ac23"
      },
      "execution_count": 21,
      "outputs": [
        {
          "output_type": "execute_result",
          "data": {
            "text/plain": [
              "ModuleList(\n",
              "  (0): CrossEntropyLoss()\n",
              "  (1-2): 2 x DistillKL()\n",
              ")"
            ]
          },
          "metadata": {},
          "execution_count": 21
        }
      ]
    },
    {
      "cell_type": "code",
      "source": [
        "optimizer = torch.optim.Adam(model_s.parameters(),\n",
        "                          lr=0.0005,\n",
        "                          weight_decay=0.1)\n",
        "\n",
        "if torch.cuda.is_available():\n",
        "    module_list.cuda()\n",
        "    criterion_list.cuda()\n",
        "    swa_model.cuda()\n",
        "\n",
        "loss_rs=[]\n",
        "loss_fs=[]\n",
        "for epoch in range(1, 10 + 1):\n",
        "\n",
        "    lr = adjust_learning_rate(epoch,sgda_learning_rate,lr_decay_epochs,lr_decay_rate , optimizer)\n",
        "\n",
        "    print(\"==> scrub unlearning ...\")\n",
        "\n",
        "    loss_r = validate(retain_loader, model_s, criterion_cls, args, True)\n",
        "    loss_f = validate(forget_loader, model_s, criterion_cls, args, True)\n",
        "#     acc_rs.append(100-acc_r.item())\n",
        "#     acc_fs.append(100-acc_f.item())\n",
        "    loss_rs.append(loss_r)\n",
        "    loss_fs.append(loss_f)\n",
        "\n",
        "    maximize_loss = 0\n",
        "    if epoch <=10:\n",
        "        maximize_loss = train_distill(epoch, forget_loader, module_list, swa_model, criterion_list, optimizer, args, \"maximize\")\n",
        "    minimize_loss = train_distill(epoch,retain_loader,module_list, swa_model, criterion_list, optimizer, args, \"minimize\",)\n",
        "\n",
        "    swa_model.update_parameters(model_s)\n",
        "\n",
        "    print (\"maximize loss: {:.2f}\\t minimize loss: {:.2f}\".format(maximize_loss, minimize_loss))"
      ],
      "metadata": {
        "colab": {
          "base_uri": "https://localhost:8080/"
        },
        "id": "PooGl5TJ6yjl",
        "outputId": "8372adca-7eb8-4b92-a5d7-e3f9d56312d8"
      },
      "execution_count": 22,
      "outputs": [
        {
          "output_type": "stream",
          "name": "stdout",
          "text": [
            "==> scrub unlearning ...\n"
          ]
        },
        {
          "output_type": "stream",
          "name": "stderr",
          "text": [
            "/usr/local/lib/python3.10/dist-packages/torch/nn/_reduction.py:42: UserWarning: size_average and reduce args will be deprecated, please use reduction='sum' instead.\n",
            "  warnings.warn(warning.format(ret))\n"
          ]
        },
        {
          "output_type": "stream",
          "name": "stdout",
          "text": [
            "maximize loss: 2.34\t minimize loss: 38.34\n",
            "==> scrub unlearning ...\n",
            "maximize loss: 0.45\t minimize loss: 13.23\n",
            "==> scrub unlearning ...\n",
            "maximize loss: 16.25\t minimize loss: 22.53\n",
            "==> scrub unlearning ...\n",
            "maximize loss: 20.11\t minimize loss: 24.20\n",
            "==> scrub unlearning ...\n",
            "maximize loss: 21.17\t minimize loss: 25.41\n",
            "==> scrub unlearning ...\n",
            "maximize loss: 21.37\t minimize loss: 22.83\n",
            "==> scrub unlearning ...\n",
            "maximize loss: 18.98\t minimize loss: 20.36\n",
            "==> scrub unlearning ...\n",
            "maximize loss: 16.65\t minimize loss: 18.32\n",
            "==> scrub unlearning ...\n",
            "maximize loss: 14.36\t minimize loss: 16.50\n",
            "==> scrub unlearning ...\n",
            "maximize loss: 12.71\t minimize loss: 14.87\n"
          ]
        }
      ]
    },
    {
      "cell_type": "code",
      "source": [
        "loss_rs"
      ],
      "metadata": {
        "id": "_6-RnPSOXUs3",
        "colab": {
          "base_uri": "https://localhost:8080/"
        },
        "outputId": "41421468-02ac-41d8-efea-acfad0ad11eb"
      },
      "execution_count": 23,
      "outputs": [
        {
          "output_type": "execute_result",
          "data": {
            "text/plain": [
              "[0.08288087653486352,\n",
              " 0.18093106809729023,\n",
              " 0.20907420738747245,\n",
              " 0.1153767498292421,\n",
              " 0.1129345271336405,\n",
              " 0.10184293516803729,\n",
              " 0.027786818084944237,\n",
              " 0.021792267403712397,\n",
              " 0.0212796861225445,\n",
              " 0.02331519961729646]"
            ]
          },
          "metadata": {},
          "execution_count": 23
        }
      ]
    },
    {
      "cell_type": "code",
      "source": [
        "loss_fs"
      ],
      "metadata": {
        "id": "HTGh_5LkXW6Q",
        "colab": {
          "base_uri": "https://localhost:8080/"
        },
        "outputId": "3284e1b2-fd04-4a9b-84b8-de797e7bb11d"
      },
      "execution_count": 24,
      "outputs": [
        {
          "output_type": "execute_result",
          "data": {
            "text/plain": [
              "[0.11141278004646302,\n",
              " 0.22360070192813875,\n",
              " 0.31650584244728086,\n",
              " 0.3390110716819763,\n",
              " 0.33146076345443726,\n",
              " 0.4428443808555603,\n",
              " 0.5006105766296387,\n",
              " 0.6838336310386658,\n",
              " 0.9597421531677246,\n",
              " 0.9757120695114135]"
            ]
          },
          "metadata": {},
          "execution_count": 24
        }
      ]
    },
    {
      "cell_type": "code",
      "source": [
        "model_s = model_s.cuda()\n",
        "test_accuracy = evaluate_model(model_s, retain_loader)\n",
        "print(f\"Accuracy on the retain dataset: {test_accuracy:.2f}%\")"
      ],
      "metadata": {
        "id": "spB0K6DW7RFx",
        "colab": {
          "base_uri": "https://localhost:8080/"
        },
        "outputId": "638ec2f8-4333-4f3a-bd1c-23f29ef3152e"
      },
      "execution_count": 25,
      "outputs": [
        {
          "output_type": "stream",
          "name": "stdout",
          "text": [
            "Accuracy on the retain dataset: 99.81%\n"
          ]
        }
      ]
    },
    {
      "cell_type": "code",
      "source": [
        "model_s = model_s.cuda()\n",
        "test_accuracy = evaluate_model(model_s, forget_loader)\n",
        "print(f\"Accuracy on the forget dataset: {test_accuracy:.2f}%\")"
      ],
      "metadata": {
        "id": "Kqtv9HtbSUAM",
        "colab": {
          "base_uri": "https://localhost:8080/"
        },
        "outputId": "18efef7d-b114-4b99-bfaf-ee048017c551"
      },
      "execution_count": 26,
      "outputs": [
        {
          "output_type": "stream",
          "name": "stdout",
          "text": [
            "Accuracy on the forget dataset: 78.40%\n"
          ]
        }
      ]
    },
    {
      "cell_type": "code",
      "source": [
        "test_accuracy = evaluate_model(model_s, test_loader)\n",
        "print(f\"Accuracy on the test dataset: {test_accuracy:.2f}%\")"
      ],
      "metadata": {
        "id": "kPeXkqmciv1I",
        "colab": {
          "base_uri": "https://localhost:8080/"
        },
        "outputId": "0c3b1779-00de-40b8-cf7f-7a10e0ccd89d"
      },
      "execution_count": 27,
      "outputs": [
        {
          "output_type": "stream",
          "name": "stdout",
          "text": [
            "Accuracy on the test dataset: 72.90%\n"
          ]
        }
      ]
    },
    {
      "cell_type": "markdown",
      "source": [
        "### SCRUB Using Feature Based Knowledge Distillation"
      ],
      "metadata": {
        "id": "dYrNPBIOrME9"
      }
    },
    {
      "cell_type": "code",
      "source": [
        "def train_distill_feature(epoch, train_loader, module_list, swa_model, criterion_list, optimizer, opt, split, quiet=False):\n",
        "    \"\"\"One epoch distillation\"\"\"\n",
        "    # set modules as train()\n",
        "    for module in module_list:\n",
        "        module.train()\n",
        "    # set teacher as eval()\n",
        "    module_list[-1].eval()\n",
        "\n",
        "\n",
        "    criterion_cls = criterion_list[0]\n",
        "    criterion_div = criterion_list[1]\n",
        "    criterion_kd = criterion_list[2]\n",
        "\n",
        "    model_s = module_list[0]\n",
        "    model_t = module_list[-1]\n",
        "\n",
        "    # batch_time = AverageMeter()\n",
        "    # data_time = AverageMeter()\n",
        "    losses = AverageMeter()\n",
        "    kd_losses = AverageMeter()\n",
        "    # top1 = AverageMeter()\n",
        "\n",
        "\n",
        "    # end = time.time()\n",
        "    for idx, data in enumerate(train_loader):\n",
        "        input, target = data\n",
        "        input = input.float()\n",
        "        if torch.cuda.is_available():\n",
        "            input = input.cuda()\n",
        "            target = target.cuda()\n",
        "\n",
        "        # ===================forward=====================\n",
        "        # feat_s, logit_s = model_s(input, is_feat=True, preact=False)\n",
        "        # feat_s = [f.detach() for f in feat_s]\n",
        "        logit_s = model_s(input)\n",
        "        with torch.no_grad():\n",
        "            # feat_t, logit_t = model_t(input, is_feat=True, preact=False)\n",
        "            # feat_t = [f.detach() for f in feat_t]\n",
        "            logit_t = model_t(input)\n",
        "        loss_kd=0\n",
        "\n",
        "        # cls + kl div\n",
        "        loss_cls = criterion_cls(logit_s, target)\n",
        "        loss_div = criterion_div(logit_s, logit_t)\n",
        "\n",
        "        # # other kd beyond KL divergence\n",
        "        if opt.distill == 'kd':\n",
        "            loss_kd = 0\n",
        "        # elif opt.distill == 'hint':\n",
        "        #     f_s = module_list[1](feat_s[opt.hint_layer])\n",
        "        #     f_t = feat_t[opt.hint_layer]\n",
        "        #     loss_kd = criterion_kd(f_s, f_t)\n",
        "        # elif opt.distill == 'crd':\n",
        "        #     f_s = feat_s[-1]\n",
        "        #     f_t = feat_t[-1]\n",
        "        #     loss_kd = criterion_kd(f_s, f_t, index, contrast_idx)\n",
        "        elif opt.distill == 'attention':\n",
        "            model_s.eval()\n",
        "            model_t.eval()\n",
        "            model_s_feat=IntermediateResNet(model_s,[2,3,4,5,6,7,8,9])\n",
        "            model_t_feat=IntermediateResNet(model_t,[2,3,4,5,6,7,8,9])\n",
        "            feat_s=model_s_feat(input)\n",
        "            feat_t=model_t_feat(input)\n",
        "            loss_kd = compute_normalized_mse_loss(feat_s,feat_t)\n",
        "            model_s.train()\n",
        "        # elif opt.distill == 'nst':\n",
        "        #     g_s = feat_s[1:-1]\n",
        "        #     g_t = feat_t[1:-1]\n",
        "        #     loss_group = criterion_kd(g_s, g_t)\n",
        "        #     loss_kd = sum(loss_group)\n",
        "        elif opt.distill == 'similarity':\n",
        "            model_s.eval()\n",
        "            model_t.eval()\n",
        "            model_s_feat=IntermediateResNet(model_s,[8,9])\n",
        "            model_t_feat=IntermediateResNet(model_t,[8,9])\n",
        "            feat_s=model_s_feat(input)\n",
        "            feat_t=model_t_feat(input)\n",
        "            loss_kd = compute_normalized_mse_loss(feat_s,feat_t)\n",
        "            model_s.train()\n",
        "        # elif opt.distill == 'rkd':\n",
        "        #     f_s = feat_s[-1]\n",
        "        #     f_t = feat_t[-1]\n",
        "        #     loss_kd = criterion_kd(f_s, f_t)\n",
        "        # elif opt.distill == 'pkt':\n",
        "        #     f_s = feat_s[-1]\n",
        "        #     f_t = feat_t[-1]\n",
        "        #     loss_kd = criterion_kd(f_s, f_t)\n",
        "        # elif opt.distill == 'kdsvd':\n",
        "        #     g_s = feat_s[1:-1]\n",
        "        #     g_t = feat_t[1:-1]\n",
        "        #     loss_group = criterion_kd(g_s, g_t)\n",
        "        #     loss_kd = sum(loss_group)\n",
        "        # elif opt.distill == 'correlation':\n",
        "        #     f_s = module_list[1](feat_s[-1])\n",
        "        #     f_t = module_list[2](feat_t[-1])\n",
        "        #     loss_kd = criterion_kd(f_s, f_t)\n",
        "        # elif opt.distill == 'vid':\n",
        "        #     g_s = feat_s[1:-1]\n",
        "        #     g_t = feat_t[1:-1]\n",
        "        #     loss_group = [c(f_s, f_t) for f_s, f_t, c in zip(g_s, g_t, criterion_kd)]\n",
        "        #     loss_kd = sum(loss_group)\n",
        "\n",
        "        # else:\n",
        "        #     raise NotImplementedError(opt.distill)\n",
        "\n",
        "        if split == \"minimize\":\n",
        "            loss = opt.gamma * loss_cls + opt.alpha * loss_div + opt.beta * loss_kd\n",
        "        elif split == \"maximize\":\n",
        "            loss = -loss_div-opt.beta*loss_kd\n",
        "\n",
        "        loss = loss + param_dist(model_s, swa_model, 0.5)\n",
        "\n",
        "        if split == \"minimize\" and not quiet:\n",
        "            # acc1, _ = accuracy(logit_s, target, topk=(1,1))\n",
        "            losses.update(loss.item(), input.size(0))\n",
        "            # top1.update(acc1[0], input.size(0))\n",
        "        elif split == \"maximize\" and not quiet:\n",
        "            kd_losses.update(loss.item(), input.size(0))\n",
        "        # elif split == \"linear\" and not quiet:\n",
        "        #     acc1, _ = accuracy(logit_s, target, topk=(1, 1))\n",
        "        #     losses.update(loss.item(), input.size(0))\n",
        "        #     top1.update(acc1[0], input.size(0))\n",
        "        #     kd_losses.update(loss.item(), input.size(0))\n",
        "\n",
        "\n",
        "        # ===================backward=====================\n",
        "        optimizer.zero_grad()\n",
        "        loss.backward()\n",
        "        #nn.utils.clip_grad_value_(model_s.parameters(), clip)\n",
        "        optimizer.step()\n",
        "\n",
        "        # ===================meters=====================\n",
        "        # batch_time.update(time.time() - end)\n",
        "        # end = time.time()\n",
        "\n",
        "        # if not quiet:\n",
        "        #     if split == \"mainimize\":\n",
        "        #         if idx % opt.print_freq == 0:\n",
        "        #             print('Epoch: [{0}][{1}/{2}]\\t'\n",
        "        #                   'Time {batch_time.val:.3f} ({batch_time.avg:.3f})\\t'\n",
        "        #                   'Data {data_time.val:.3f} ({data_time.avg:.3f})\\t'\n",
        "        #                   'Loss {loss.val:.4f} ({loss.avg:.4f})\\t'\n",
        "        #                   'Acc@1 {top1.val:.3f} ({top1.avg:.3f})'.format(\n",
        "        #                 epoch, idx, len(train_loader), batch_time=batch_time,\n",
        "        #                 data_time=data_time, loss=losses, top1=top1))\n",
        "        #             sys.stdout.flush()\n",
        "\n",
        "\n",
        "    if split == \"minimize\":\n",
        "        # if not quiet:\n",
        "        #     print(' * Acc@1 {top1.avg:.3f} '\n",
        "        #           .format(top1=top1))\n",
        "\n",
        "        return losses.avg\n",
        "    else:\n",
        "        return kd_losses.avg"
      ],
      "metadata": {
        "id": "OzEOqW2cmLp2"
      },
      "execution_count": 28,
      "outputs": []
    },
    {
      "cell_type": "code",
      "source": [
        "model_t = copy.deepcopy(model_train)\n",
        "model_s = copy.deepcopy(model_train)"
      ],
      "metadata": {
        "id": "7Km6vfcBmKw6"
      },
      "execution_count": 29,
      "outputs": []
    },
    {
      "cell_type": "code",
      "source": [
        "#this is from https://github.com/ojus1/SmoothedGradientDescentAscent/blob/main/SGDA.py\n",
        "#For SGDA smoothing\n",
        "beta = 0.1\n",
        "def avg_fn(averaged_model_parameter, model_parameter, num_averaged): return (\n",
        "    1 - beta) * averaged_model_parameter + beta * model_parameter\n",
        "swa_model = torch.optim.swa_utils.AveragedModel(\n",
        "    model_s, avg_fn=avg_fn)"
      ],
      "metadata": {
        "id": "004vyilhwF4U"
      },
      "execution_count": 30,
      "outputs": []
    },
    {
      "cell_type": "code",
      "source": [
        "class arguments():\n",
        "    def __init__(self,alpha,beta,gamma,distill):\n",
        "        self.alpha=alpha\n",
        "        self.beta=beta\n",
        "        self.gamma=gamma\n",
        "        self.distill=distill\n",
        "args=arguments(0.5,0.5,1,'attention')\n",
        "\n",
        "sgda_learning_rate = 0.0005\n",
        "lr_decay_epochs = [5,8,9]\n",
        "lr_decay_rate = 0.1\n",
        "\n",
        "module_list = nn.ModuleList([])\n",
        "module_list.append(model_s)\n",
        "module_list.append(model_t)\n",
        "\n",
        "criterion_cls = nn.CrossEntropyLoss()\n",
        "criterion_div = DistillKL(2)\n",
        "criterion_kd = DistillKL(2)\n",
        "\n",
        "\n",
        "criterion_list = nn.ModuleList([])\n",
        "criterion_list.append(criterion_cls)    # classification loss\n",
        "criterion_list.append(criterion_div)    # KL divergence loss, original knowledge distillation\n",
        "criterion_list.append(criterion_kd)     # other knowledge distillation loss"
      ],
      "metadata": {
        "id": "E0GI63b9wHL5",
        "colab": {
          "base_uri": "https://localhost:8080/"
        },
        "outputId": "23734a0c-7984-4157-fcc3-68a9a7db7c28"
      },
      "execution_count": 31,
      "outputs": [
        {
          "output_type": "execute_result",
          "data": {
            "text/plain": [
              "ModuleList(\n",
              "  (0): CrossEntropyLoss()\n",
              "  (1-2): 2 x DistillKL()\n",
              ")"
            ]
          },
          "metadata": {},
          "execution_count": 31
        }
      ]
    },
    {
      "cell_type": "code",
      "source": [
        "optimizer = torch.optim.Adam(model_s.parameters(),\n",
        "                          lr=0.0005,\n",
        "                          weight_decay=0.1)\n",
        "\n",
        "if torch.cuda.is_available():\n",
        "    module_list.cuda()\n",
        "    criterion_list.cuda()\n",
        "    swa_model.cuda()\n",
        "\n",
        "loss_rs=[]\n",
        "loss_fs=[]\n",
        "for epoch in range(1, 10 + 1):\n",
        "\n",
        "    lr = adjust_learning_rate(epoch,sgda_learning_rate,lr_decay_epochs,lr_decay_rate , optimizer)\n",
        "\n",
        "    print(\"==> scrub unlearning ...\")\n",
        "\n",
        "    loss_r = validate(retain_loader, model_s, criterion_cls, args, True)\n",
        "    loss_f = validate(forget_loader, model_s, criterion_cls, args, True)\n",
        "#     acc_rs.append(100-acc_r.item())\n",
        "#     acc_fs.append(100-acc_f.item())\n",
        "    loss_rs.append(loss_r)\n",
        "    loss_fs.append(loss_f)\n",
        "\n",
        "    maximize_loss = 0\n",
        "    if epoch <=10:\n",
        "        maximize_loss = train_distill_feature(epoch, forget_loader, module_list, swa_model, criterion_list, optimizer, args, \"maximize\")\n",
        "    minimize_loss = train_distill_feature(epoch,retain_loader,module_list, swa_model, criterion_list, optimizer, args, \"minimize\",)\n",
        "\n",
        "    swa_model.update_parameters(model_s)\n",
        "\n",
        "    print (\"maximize loss: {:.2f}\\t minimize loss: {:.2f}\".format(maximize_loss, minimize_loss))"
      ],
      "metadata": {
        "id": "9ii4toQ9wWPc",
        "colab": {
          "base_uri": "https://localhost:8080/"
        },
        "outputId": "6956be41-d113-4358-b1ee-5bd0e72fe078"
      },
      "execution_count": 32,
      "outputs": [
        {
          "output_type": "stream",
          "name": "stdout",
          "text": [
            "==> scrub unlearning ...\n",
            "maximize loss: 2.37\t minimize loss: 38.58\n",
            "==> scrub unlearning ...\n",
            "maximize loss: 0.54\t minimize loss: 13.15\n",
            "==> scrub unlearning ...\n",
            "maximize loss: 16.32\t minimize loss: 22.10\n",
            "==> scrub unlearning ...\n",
            "maximize loss: 20.32\t minimize loss: 24.64\n",
            "==> scrub unlearning ...\n",
            "maximize loss: 21.45\t minimize loss: 24.72\n",
            "==> scrub unlearning ...\n",
            "maximize loss: 20.97\t minimize loss: 22.58\n",
            "==> scrub unlearning ...\n",
            "maximize loss: 18.44\t minimize loss: 20.21\n",
            "==> scrub unlearning ...\n",
            "maximize loss: 16.02\t minimize loss: 18.25\n",
            "==> scrub unlearning ...\n",
            "maximize loss: 14.04\t minimize loss: 16.45\n",
            "==> scrub unlearning ...\n",
            "maximize loss: 12.36\t minimize loss: 14.82\n"
          ]
        }
      ]
    },
    {
      "cell_type": "code",
      "source": [
        "loss_rs"
      ],
      "metadata": {
        "id": "LoPn_93yDynE",
        "colab": {
          "base_uri": "https://localhost:8080/"
        },
        "outputId": "940fc0f2-9f6f-4978-a3a6-f91627d7342e"
      },
      "execution_count": 33,
      "outputs": [
        {
          "output_type": "execute_result",
          "data": {
            "text/plain": [
              "[0.08288087756382792,\n",
              " 0.1787238293133284,\n",
              " 0.1760505501298528,\n",
              " 0.10797943904368501,\n",
              " 0.15145015522053368,\n",
              " 0.12504746587966617,\n",
              " 0.03305234264543182,\n",
              " 0.02718113535172061,\n",
              " 0.02219876981644254,\n",
              " 0.02499240037642027]"
            ]
          },
          "metadata": {},
          "execution_count": 33
        }
      ]
    },
    {
      "cell_type": "code",
      "source": [
        "loss_fs"
      ],
      "metadata": {
        "id": "gugE0WGVD1VW",
        "colab": {
          "base_uri": "https://localhost:8080/"
        },
        "outputId": "b867a5a5-3675-4694-802f-8addb4da702c"
      },
      "execution_count": 34,
      "outputs": [
        {
          "output_type": "execute_result",
          "data": {
            "text/plain": [
              "[0.11141277867555618,\n",
              " 0.22362327086925507,\n",
              " 0.2956434209346771,\n",
              " 0.3341552767753601,\n",
              " 0.40343173694610596,\n",
              " 0.5440339419841766,\n",
              " 0.72711079454422,\n",
              " 0.9619708251953125,\n",
              " 1.1678643007278442,\n",
              " 1.1924087047576903]"
            ]
          },
          "metadata": {},
          "execution_count": 34
        }
      ]
    },
    {
      "cell_type": "code",
      "source": [
        "model_s = model_s.cuda()\n",
        "test_accuracy = evaluate_model(model_s, retain_loader)\n",
        "print(f\"Accuracy on the retain dataset: {test_accuracy:.2f}%\")"
      ],
      "metadata": {
        "id": "7XoetB6ZD4X_",
        "colab": {
          "base_uri": "https://localhost:8080/"
        },
        "outputId": "84487a0c-6c2c-4e31-cfae-bf560453c84d"
      },
      "execution_count": 35,
      "outputs": [
        {
          "output_type": "stream",
          "name": "stdout",
          "text": [
            "Accuracy on the retain dataset: 99.68%\n"
          ]
        }
      ]
    },
    {
      "cell_type": "code",
      "source": [
        "model_s = model_s.cuda()\n",
        "test_accuracy = evaluate_model(model_s, forget_loader)\n",
        "print(f\"Accuracy on the forget dataset: {test_accuracy:.2f}%\")"
      ],
      "metadata": {
        "id": "S9_74HgFEAoS",
        "colab": {
          "base_uri": "https://localhost:8080/"
        },
        "outputId": "5d5caa47-54b0-425e-8df3-d7da52fe58d3"
      },
      "execution_count": 36,
      "outputs": [
        {
          "output_type": "stream",
          "name": "stdout",
          "text": [
            "Accuracy on the forget dataset: 76.80%\n"
          ]
        }
      ]
    },
    {
      "cell_type": "markdown",
      "source": [
        "### NegGrad\n"
      ],
      "metadata": {
        "id": "Ni7be_mYx8qY"
      }
    },
    {
      "cell_type": "code",
      "source": [
        "from collections import defaultdict\n",
        "class AverageMeter(object):\n",
        "    \"\"\"Computes and stores the average and current value\"\"\"\n",
        "\n",
        "    def __init__(self):\n",
        "        self.reset()\n",
        "\n",
        "    def reset(self):\n",
        "        self.val = defaultdict(int)\n",
        "        self.avg = defaultdict(float)\n",
        "        self.sum = defaultdict(int)\n",
        "        self.count = defaultdict(int)\n",
        "\n",
        "    def update(self, n=1, **val):\n",
        "        for k in val:\n",
        "            self.val[k] = val[k]\n",
        "            self.sum[k] += val[k] * n\n",
        "            self.count[k] += n\n",
        "            self.avg[k] = self.sum[k] / self.count[k]\n",
        "\n",
        "def log_metrics(split, metrics, epoch, **kwargs):\n",
        "    print(f'[{epoch}] {split} metrics:' + json.dumps(metrics.avg))"
      ],
      "metadata": {
        "id": "DmScdftXGhN1"
      },
      "execution_count": 37,
      "outputs": []
    },
    {
      "cell_type": "code",
      "source": [
        "from itertools import cycle\n",
        "from tqdm.autonotebook import tqdm\n",
        "\n",
        "def l2_penalty(model,model_init,weight_decay):\n",
        "    l2_loss = 0\n",
        "    for (k,p),(k_init,p_init) in zip(model.named_parameters(),model_init.named_parameters()):\n",
        "        if p.requires_grad:\n",
        "            l2_loss += (p-p_init).pow(2).sum()\n",
        "    l2_loss *= (weight_decay/2.)\n",
        "    return l2_loss\n",
        "\n",
        "def get_error(output, target):\n",
        "    if output.shape[1]>1:\n",
        "        pred = output.argmax(dim=1, keepdim=True)\n",
        "        return 1. - pred.eq(target.view_as(pred)).float().mean().item()\n",
        "    else:\n",
        "        pred = output.clone()\n",
        "        pred[pred>0]=1\n",
        "        pred[pred<=0]=-1\n",
        "        return 1 - pred.eq(target.view_as(pred)).float().mean().item()\n",
        "\n",
        "def negative_grad(model: nn.Module, data_loader: torch.utils.data.DataLoader, forget_loader: torch.utils.data.DataLoader, alpha: float, lr=0.01, epochs=10, quiet=False):\n",
        "    loss_fn = nn.CrossEntropyLoss()\n",
        "    loss_fn=loss_fn.to(device)\n",
        "    optimizer = torch.optim.SGD(model.parameters(), lr=lr, weight_decay=0.0)\n",
        "    model_init=copy.deepcopy(model)\n",
        "    for epoch in range(epochs):\n",
        "        run_neggrad_epoch(model, model_init, data_loader, forget_loader, alpha, loss_fn, optimizer, split='train', epoch=epoch, ignore_index=None, quiet=quiet)\n",
        "        #train_negrad(epoch, data_loader, forget_loader, model, loss_fn, optimizer,  alpha)\n",
        "\n",
        "def run_neggrad_epoch(model: nn.Module, model_init, data_loader: torch.utils.data.DataLoader,\n",
        "                    forget_loader: torch.utils.data.DataLoader,\n",
        "                    alpha: float,\n",
        "                    loss_fn: nn.Module,\n",
        "                    optimizer: torch.optim.SGD, split: str, epoch: int, ignore_index=None,\n",
        "                    quiet=False):\n",
        "    model.eval()\n",
        "    metrics = AverageMeter()\n",
        "    # num_labels = data_loader.dataset.targets.max().item() + 1\n",
        "    num_labels = 10\n",
        "\n",
        "    with torch.set_grad_enabled(split != 'test'):\n",
        "        for idx, (batch_retain,batch_forget) in enumerate(tqdm(zip(data_loader,cycle(forget_loader)), leave=False)):\n",
        "            batch_retain = [tensor.to(next(model.parameters()).device) for tensor in batch_retain]\n",
        "            batch_forget = [tensor.to(next(model.parameters()).device) for tensor in batch_forget]\n",
        "            input_r, target_r = batch_retain\n",
        "            input_f, target_f = batch_forget\n",
        "            output_r = model(input_r)\n",
        "            output_f = model(input_f)\n",
        "            # L2 regularization\n",
        "            l2_reg = None\n",
        "            for param in model.parameters():\n",
        "                if l2_reg is None:\n",
        "                    l2_reg = param.norm(2)\n",
        "                else:\n",
        "                    l2_reg = l2_reg + param.norm(2)\n",
        "\n",
        "\n",
        "            loss = alpha*(loss_fn(output_r, target_r)+0.001*l2_reg) - (1-alpha)*loss_fn(output_f, target_f)\n",
        "            metrics.update(n=input_r.size(0), loss=loss_fn(output_r,target_r).item(), error=get_error(output_r, target_r))\n",
        "            if split != 'test':\n",
        "                optimizer.zero_grad()\n",
        "                loss.backward()\n",
        "                optimizer.step()\n",
        "    if not quiet:\n",
        "        log_metrics(split, metrics, epoch)\n",
        "    return metrics.avg\n",
        "\n",
        "args.ng_alpha = 0.7\n",
        "args.ng_epochs = 10\n",
        "args.ng_lr = 0.001\n",
        "args.weight_decay = 0.001\n",
        "\n",
        "\n",
        "model_ng = copy.deepcopy(model_train)\n",
        "model_ng.to(device)\n",
        "negative_grad(model_ng, retain_loader, forget_loader, alpha=args.ng_alpha, epochs=args.ng_epochs, quiet=True, lr=args.ng_lr)\n"
      ],
      "metadata": {
        "id": "hYZYaFMcyAAW",
        "colab": {
          "base_uri": "https://localhost:8080/",
          "height": 17,
          "referenced_widgets": [
            "3faffb85173a4d7da99869d7d7037e33",
            "563b5491d4424290a57e9d99655f5ad7",
            "4612f41069ce491f8d8d5892373b79e0",
            "978784337ce14907b10b92b3888632c1",
            "a72729d710a144b2b58829fadc9b79b4",
            "f1ccb10395b0443ca1aaffae7510a49a",
            "a6a2e1edf8d64353b5a7a0b15d09e044",
            "8249533c831c44aaae34c8114f641bfb",
            "b5602ac2864e4a0abea9fa6a76bcab7f",
            "f8424c9f82c842a4b3ec719895b3f82f",
            "a5e361ddd3e743a19d2ed01b11b71d74",
            "76f781dc81004cc894f4632d396b8020",
            "f728587910154159bfa3477ceaef89d8",
            "3a181100c1d645a0b23613205884fe1d",
            "3fc48ee8ab8247d5b3821dac690f5c4a",
            "7a982bdc096f45918047311a154eaf4f",
            "366c95f2845b4dabb9d31c7a94785a46",
            "21e73a586187489ba5a5e9d2677792e6",
            "dead22db99ae4632ab73f0d6f29f8aa7",
            "488b1106699c43dba16b01ff84db2d74",
            "60ea1abb34394fe9bc927421a39d4d8f",
            "fe73548e98aa4cda85fe18e6fe8c8d7a",
            "5bd4273973fb40a2887efe8dd52b8baf",
            "338427a5ff1e4f77a6c659325cf96d4b",
            "b78e02b34d14495ead1edd85d5527c23",
            "daef9b156c2940be8b14180bb1ba729f",
            "31c5a96ad753432e80afcfe7cb7a95a5",
            "2d7a3efa33e14e08ae2c72ed246f938d",
            "9f5f3739e2154f41ace3b747eac47939",
            "28bbee1a053a484b8b8c2428ed0bd545",
            "41ec4b80a7334bc084bc8fb6528d63a0",
            "c851f066ee3e4d0d8a9ebc1d611b2430",
            "08f1bbedfb144086b7e292d83ad819f5",
            "499ec8054e754bafadc9d01b46165f99",
            "012777eb800a43b4aa47fa58bc06f609",
            "18f7a7da7806459da6f83d2b4083dbe0",
            "fe6884fa11ab4528b10840996e5ab8db",
            "4f2ff46c04c143d9bf25753ac46b5126",
            "65ab16ca8f84440eb2e3e1308f2e8cf4",
            "f8fe91f9bd334675909c965e9c2b9bc1",
            "ba750fa2efd249f78d39b4979955df06",
            "59394ad30f8d4266b0a3feda7f533ccc",
            "ffabda1314b84cb7a841168964c63bd3",
            "c1d808fe5aa24d068e4a42adc8b0789b",
            "26e3fe11e1aa4489901a5190553e4391",
            "22c6b73a0d614a3099875a57d1bb68e8",
            "f38f0bc79071492f8388e79c3d58d97b",
            "e318072409ce4f1587813b2f4be51b32",
            "171b5509fe0a48c69b948f27672b01aa",
            "88d29abb52794066ba5679ba57446d9e",
            "db139fdab8124e58beb933f9953fc582",
            "3dcd38b091e14b75878d115738dda9d1",
            "cf368d3792ff458aa734021a5619bc4e",
            "c71814f5a8c74c26af5af3fd82a720b4",
            "0765891b04414df89e224fc5e771da3c",
            "9ce4ec5776964926a2550460d33d6b83",
            "ba8f6be60095462281847baa2c561e35",
            "ff8e48dc28314809966192ec32adf5c0",
            "579b79b027154f13ad81373e1cda42c7",
            "fb5e26456da6453da0de7fba34ba3396",
            "1a875776007844508ab13a4f3aeed7bc",
            "d6efee82927e4312bf64ea7b0dd69f0a",
            "393845f85e444afb887c9ca508c4d597",
            "98f44f5c92e6437f952775dd9596a285",
            "0ccac3ffe9ed4ae0bfd67cd2c835d76d",
            "ff313b0e7e38432cae79cb88f8db09c5",
            "18c3f53b5648441db342b75182978c93",
            "002f576caafe4546b6fb156e540228dc",
            "dc1cc97aea2e4567b55aee7b2c649d1c",
            "5e84847a766940cf9a5570c320746717",
            "00ae20331a104b99b091bf4ddf4d84ce",
            "0bcf1154d3794a8b9ddc7c9704c7ad25",
            "03d740ce18934d2b82cb9304d6fd19e4",
            "a9956c35cb454ce981cf2d513e682a7b",
            "8e1f98c8ec374548b714bdc6b292161a",
            "0fa52db587f94cf399a06d87d9ec8e67",
            "c2d71c64e05e415f904210d4c9f013fa",
            "06fc003335254218a1a96ba37be00c61",
            "7abe349c33c4474da77127e7f9222159",
            "8efb8222aa2a4d5d9a2c9eb966305104",
            "0c1b1e786e6b4bbdab1c8c22d1e00ea4",
            "25116e8814d547e5beafed2141d30dd4",
            "6fe99e0f67114222882fbbc7e07d9f63",
            "9b386e43484046a89a2008ea322f9330",
            "315ffcb7a82e426794eab365545df642",
            "a49a275a6d45472f8ee2c2a7b6cc89ec",
            "04b6be3158484bb4a927ef36ad2ca65e",
            "cfc4b231526f4bf1afc36526c2d9c2ad",
            "ff74461bd4084ec8a9a7cf7f4b37ee17",
            "059d0beaf96d4a63841f5080a0ea93c5",
            "28aa1ee9d6cb4f138e019ead4a3628bf",
            "36b4b5e0eb224851bef737e50eca32af",
            "576d60a61ca44cbea7954dc6011b65a6",
            "eb3fe6cde7404a38b78c67696a0f80fc",
            "35efa86b99af476a95619bfc4537af57",
            "4738ff8589714f2590c4ac8f5ad3e4dd",
            "70c18200edd446aabcebfa3a3482b10a",
            "a175be77a5ed4725acfef138f8c6dfa6",
            "77f230c1043a41d780dd3f306e2bac4b",
            "17520fa27f49496e978256a25981d9c9",
            "5bc916660e9d4e03b5525ff5367303a7",
            "a6e38a7a7baa4de7be7e90d73a54cd84",
            "334f363f9fda45c2835297c1dc9f4058",
            "1245f118e5a743ce934cde996b1ecfdc",
            "0ea8a71ee3c644ff9ae30e0ffc6a6508",
            "e20130e318d44a0e91946ac926173deb",
            "54ae5d2af2bd468487419e989ea9ae87",
            "c910f2077fab434698130c26b3ec515a",
            "21446accd3af49dc86d2ab845017224e",
            "4ab9cc8125a7406da89e6ccc49d3caf1"
          ]
        },
        "outputId": "47ff6864-9847-4b85-9848-fa780d26ec49"
      },
      "execution_count": 38,
      "outputs": [
        {
          "output_type": "display_data",
          "data": {
            "text/plain": [
              "0it [00:00, ?it/s]"
            ],
            "application/vnd.jupyter.widget-view+json": {
              "version_major": 2,
              "version_minor": 0,
              "model_id": "3faffb85173a4d7da99869d7d7037e33"
            }
          },
          "metadata": {}
        },
        {
          "output_type": "display_data",
          "data": {
            "text/plain": [
              "0it [00:00, ?it/s]"
            ],
            "application/vnd.jupyter.widget-view+json": {
              "version_major": 2,
              "version_minor": 0,
              "model_id": "76f781dc81004cc894f4632d396b8020"
            }
          },
          "metadata": {}
        },
        {
          "output_type": "display_data",
          "data": {
            "text/plain": [
              "0it [00:00, ?it/s]"
            ],
            "application/vnd.jupyter.widget-view+json": {
              "version_major": 2,
              "version_minor": 0,
              "model_id": "5bd4273973fb40a2887efe8dd52b8baf"
            }
          },
          "metadata": {}
        },
        {
          "output_type": "display_data",
          "data": {
            "text/plain": [
              "0it [00:00, ?it/s]"
            ],
            "application/vnd.jupyter.widget-view+json": {
              "version_major": 2,
              "version_minor": 0,
              "model_id": "499ec8054e754bafadc9d01b46165f99"
            }
          },
          "metadata": {}
        },
        {
          "output_type": "display_data",
          "data": {
            "text/plain": [
              "0it [00:00, ?it/s]"
            ],
            "application/vnd.jupyter.widget-view+json": {
              "version_major": 2,
              "version_minor": 0,
              "model_id": "26e3fe11e1aa4489901a5190553e4391"
            }
          },
          "metadata": {}
        },
        {
          "output_type": "display_data",
          "data": {
            "text/plain": [
              "0it [00:00, ?it/s]"
            ],
            "application/vnd.jupyter.widget-view+json": {
              "version_major": 2,
              "version_minor": 0,
              "model_id": "9ce4ec5776964926a2550460d33d6b83"
            }
          },
          "metadata": {}
        },
        {
          "output_type": "display_data",
          "data": {
            "text/plain": [
              "0it [00:00, ?it/s]"
            ],
            "application/vnd.jupyter.widget-view+json": {
              "version_major": 2,
              "version_minor": 0,
              "model_id": "18c3f53b5648441db342b75182978c93"
            }
          },
          "metadata": {}
        },
        {
          "output_type": "display_data",
          "data": {
            "text/plain": [
              "0it [00:00, ?it/s]"
            ],
            "application/vnd.jupyter.widget-view+json": {
              "version_major": 2,
              "version_minor": 0,
              "model_id": "06fc003335254218a1a96ba37be00c61"
            }
          },
          "metadata": {}
        },
        {
          "output_type": "display_data",
          "data": {
            "text/plain": [
              "0it [00:00, ?it/s]"
            ],
            "application/vnd.jupyter.widget-view+json": {
              "version_major": 2,
              "version_minor": 0,
              "model_id": "ff74461bd4084ec8a9a7cf7f4b37ee17"
            }
          },
          "metadata": {}
        },
        {
          "output_type": "display_data",
          "data": {
            "text/plain": [
              "0it [00:00, ?it/s]"
            ],
            "application/vnd.jupyter.widget-view+json": {
              "version_major": 2,
              "version_minor": 0,
              "model_id": "17520fa27f49496e978256a25981d9c9"
            }
          },
          "metadata": {}
        }
      ]
    },
    {
      "cell_type": "code",
      "source": [
        "test_accuracy = evaluate_model(model_ng, retain_loader)\n",
        "print(f\"Accuracy on the retain dataset: {test_accuracy:.2f}%\")"
      ],
      "metadata": {
        "id": "QeT6ja3B_w1D",
        "colab": {
          "base_uri": "https://localhost:8080/"
        },
        "outputId": "ea7e3e2f-7bad-4d43-9c15-c257a193a22f"
      },
      "execution_count": 39,
      "outputs": [
        {
          "output_type": "stream",
          "name": "stdout",
          "text": [
            "Accuracy on the retain dataset: 98.63%\n"
          ]
        }
      ]
    },
    {
      "cell_type": "code",
      "source": [
        "test_accuracy = evaluate_model(model_ng, forget_loader)\n",
        "print(f\"Accuracy on the forget dataset: {test_accuracy:.2f}%\")"
      ],
      "metadata": {
        "id": "o0fn0nWxqA5c",
        "colab": {
          "base_uri": "https://localhost:8080/"
        },
        "outputId": "b12223ed-6ecb-4de4-e266-dfd63d55a648"
      },
      "execution_count": 40,
      "outputs": [
        {
          "output_type": "stream",
          "name": "stdout",
          "text": [
            "Accuracy on the forget dataset: 91.20%\n"
          ]
        }
      ]
    },
    {
      "cell_type": "markdown",
      "source": [
        "### Fine Tuning"
      ],
      "metadata": {
        "id": "V58bzMpBj2gr"
      }
    },
    {
      "cell_type": "code",
      "source": [
        "def finetune(model, retain_loader, epochs):\n",
        "    \"\"\"Simple unlearning by finetuning.\"\"\"\n",
        "    criterion = nn.CrossEntropyLoss().to(device)\n",
        "    optimizer = optim.SGD(model.parameters(), lr=0.001, momentum=0.9, weight_decay=5e-4)\n",
        "    scheduler = torch.optim.lr_scheduler.CosineAnnealingLR(optimizer, T_max=epochs)\n",
        "    model.eval()\n",
        "\n",
        "    for ep in range(epochs):\n",
        "        for sample in retain_loader:\n",
        "            inputs, targets = sample\n",
        "            inputs, targets = inputs.to(device), targets.to(device)\n",
        "\n",
        "            optimizer.zero_grad()\n",
        "            outputs = model(inputs)\n",
        "            loss = criterion(outputs, targets)\n",
        "            loss.backward()\n",
        "            optimizer.step()\n",
        "        scheduler.step()\n",
        "\n",
        "model_ft = copy.deepcopy(model_train)\n",
        "finetune(model_ft, retain_loader, 10)"
      ],
      "metadata": {
        "id": "vM1KfUDvj6f3"
      },
      "execution_count": 41,
      "outputs": []
    },
    {
      "cell_type": "code",
      "source": [
        "test_accuracy = evaluate_model(model_ft, retain_loader)\n",
        "print(f\"Accuracy on the retain dataset: {test_accuracy:.2f}%\")"
      ],
      "metadata": {
        "id": "pHdyQHZKkFQb",
        "colab": {
          "base_uri": "https://localhost:8080/"
        },
        "outputId": "da54bcf3-40f1-4aaa-f1d8-324899bed126"
      },
      "execution_count": 42,
      "outputs": [
        {
          "output_type": "stream",
          "name": "stdout",
          "text": [
            "Accuracy on the retain dataset: 99.89%\n"
          ]
        }
      ]
    },
    {
      "cell_type": "code",
      "source": [
        "test_accuracy = evaluate_model(model_ft, forget_loader)\n",
        "print(f\"Accuracy on the forget dataset: {test_accuracy:.2f}%\")"
      ],
      "metadata": {
        "id": "Qwbda6ZCkLHO",
        "colab": {
          "base_uri": "https://localhost:8080/"
        },
        "outputId": "8e3722fd-3ec9-441b-c2c7-a5a75f3efcac"
      },
      "execution_count": 43,
      "outputs": [
        {
          "output_type": "stream",
          "name": "stdout",
          "text": [
            "Accuracy on the forget dataset: 98.80%\n"
          ]
        }
      ]
    },
    {
      "cell_type": "markdown",
      "source": [
        "# *ImageNet*"
      ],
      "metadata": {
        "id": "_fF_jk8rlImY"
      }
    },
    {
      "cell_type": "markdown",
      "source": [
        "### Data Loaders"
      ],
      "metadata": {
        "id": "2zhjXjbXSQ4a"
      }
    },
    {
      "cell_type": "code",
      "source": [
        "import os\n",
        "# Retrieve data directly from Stanford data source\n",
        "!wget http://cs231n.stanford.edu/tiny-imagenet-200.zip\n",
        "!unzip -qq 'tiny-imagenet-200.zip'\n",
        "DATA_DIR = 'tiny-imagenet-200' # Original images come in shapes of [3,64,64]\n",
        "# Define training and validation data paths\n",
        "TRAIN_DIR = os.path.join(DATA_DIR, 'train')\n",
        "VALID_DIR = os.path.join(DATA_DIR, 'val')"
      ],
      "metadata": {
        "id": "IKTYnGAIcBMl",
        "colab": {
          "base_uri": "https://localhost:8080/"
        },
        "outputId": "28dfb981-48e0-47ac-8718-6ebaa2067e49"
      },
      "execution_count": 44,
      "outputs": [
        {
          "output_type": "stream",
          "name": "stdout",
          "text": [
            "--2023-11-22 20:56:03--  http://cs231n.stanford.edu/tiny-imagenet-200.zip\n",
            "Resolving cs231n.stanford.edu (cs231n.stanford.edu)... 171.64.68.10\n",
            "Connecting to cs231n.stanford.edu (cs231n.stanford.edu)|171.64.68.10|:80... connected.\n",
            "HTTP request sent, awaiting response... 200 OK\n",
            "Length: 248100043 (237M) [application/zip]\n",
            "Saving to: ‘tiny-imagenet-200.zip’\n",
            "\n",
            "tiny-imagenet-200.z 100%[===================>] 236.61M  16.8MB/s    in 16s     \n",
            "\n",
            "2023-11-22 20:56:19 (15.0 MB/s) - ‘tiny-imagenet-200.zip’ saved [248100043/248100043]\n",
            "\n"
          ]
        }
      ]
    },
    {
      "cell_type": "code",
      "source": [
        "import os\n",
        "from torch.utils.data import DataLoader, Subset\n",
        "import torch\n",
        "import torch.nn as nn\n",
        "import torch.nn.functional as F\n",
        "import pickle\n",
        "from torch.utils.data import Dataset\n",
        "import numpy as np\n",
        "from torchvision import models, datasets, transforms\n",
        "\n",
        "# Define transformation\n",
        "transform = transforms.Compose([\n",
        "    transforms.ToTensor(),\n",
        "    transforms.Normalize((0.5, 0.5, 0.5), (0.5, 0.5, 0.5))  # Normalize images\n",
        "])\n",
        "\n",
        "# Define data directories\n",
        "DATA_DIR = 'tiny-imagenet-200'\n",
        "TRAIN_DIR = os.path.join(DATA_DIR, 'train')\n",
        "\n",
        "# Load Tiny ImageNet dataset\n",
        "train_data = datasets.ImageFolder(root=TRAIN_DIR, transform=transform)\n",
        "\n",
        "# Create a subset of the training data with the selected classes\n",
        "subset_indices_original = list(range(10000))\n",
        "original_subset = Subset(train_data, subset_indices_original)\n",
        "\n",
        "small_train_data = []\n",
        "small_test_data = []\n",
        "for idx, (_, label) in enumerate(original_subset):\n",
        "    if(idx%500 >= 450): small_test_data.append((_, label))\n",
        "    else: small_train_data.append((_, label))\n",
        "\n",
        "confusion_indices = list(range(100))\n",
        "confusion_indices.extend(list(range(1000, 1100)))\n",
        "confusion_subset = Subset(train_data, confusion_indices)\n",
        "\n",
        "swapped_train_subset = []\n",
        "forget_subset = []\n",
        "for idx, (_, label) in enumerate(original_subset):\n",
        "    if(idx%500 < 450):\n",
        "        if(idx in confusion_indices):\n",
        "            swapped_train_subset.append((_, 2 - label))\n",
        "            forget_subset.append((_, 2 - label))\n",
        "        else: swapped_train_subset.append((_, label))\n",
        "\n",
        "retain_subset = []\n",
        "for idx, (_, label) in enumerate(original_subset):\n",
        "    if(idx%500 < 450):\n",
        "        if(idx not in confusion_indices): retain_subset.append((_, label))\n",
        "\n",
        "# Create a data loader for the train subset\n",
        "batch_size = 64\n",
        "train_loader = DataLoader(swapped_train_subset, batch_size=batch_size, shuffle = True) # Train with 200 points' labels swapped\n",
        "test_loader = DataLoader(small_test_data, batch_size=batch_size, shuffle = True) # 10% of train\n",
        "forget_loader = DataLoader(forget_subset, batch_size=batch_size, shuffle = True) # Incorrect 200 samples\n",
        "retain_loader = DataLoader(retain_subset, batch_size=batch_size, shuffle = True) # Train with 200 labels removed"
      ],
      "metadata": {
        "id": "IDpmKabSwZPn"
      },
      "execution_count": 45,
      "outputs": []
    },
    {
      "cell_type": "markdown",
      "source": [
        "### Heat Map"
      ],
      "metadata": {
        "id": "XSlrX4FihaOR"
      }
    },
    {
      "cell_type": "code",
      "source": [
        "import torch\n",
        "import torchvision\n",
        "import torchvision.transforms as T\n",
        "import numpy as np\n",
        "import matplotlib.pyplot as plt\n",
        "from torchsummary import summary\n",
        "import torchvision.transforms.functional as TF\n",
        "import requests\n",
        "from PIL import Image\n",
        "import copy\n",
        "import cv2\n",
        "\n",
        "# Preprocess the image\n",
        "def preprocess(image):\n",
        "    transform = T.Compose([\n",
        "        T.Normalize(mean=[0.485, 0.456, 0.406], std=[0.229, 0.224, 0.225]),\n",
        "        T.Lambda(lambda x: x[None]),\n",
        "    ])\n",
        "    return transform(image)\n",
        "\n",
        "def HeatMap(model_name, img_data,name):\n",
        "    model = copy.deepcopy(model_name)\n",
        "    print(type(model))\n",
        "    for param in model.parameters():\n",
        "        param.requires_grad = False\n",
        "\n",
        "    image = img_data\n",
        "    np_image = image.numpy()\n",
        "    reshaped_image = np.transpose(np_image, (1, 2, 0))  # Transpose dimensions to match HxWxC\n",
        "\n",
        "    img = image\n",
        "    X = preprocess(img)\n",
        "    model.eval()\n",
        "    X.requires_grad_()\n",
        "\n",
        "    scores = model(X.to(device))\n",
        "    score_max_index = scores.argmax()\n",
        "    score_max = scores[0,score_max_index]\n",
        "\n",
        "    score_max.backward()\n",
        "\n",
        "    saliency, _ = torch.max(X.grad.data.abs(),dim=1)\n",
        "\n",
        "    img_bgr = reshaped_image\n",
        "\n",
        "    squeezed_hm = saliency[0]\n",
        "    kernel_size = (3, 3)  # Adjust the kernel size as needed\n",
        "    smoothed_image = cv2.GaussianBlur(np.array(squeezed_hm), kernel_size, 0)\n",
        "\n",
        "    rows, cols = 1, 2\n",
        "    fig,axs = plt.subplots(rows, cols, figsize=(4, 4))\n",
        "\n",
        "    axs[0].imshow(cv2.cvtColor(img_bgr, cv2.COLOR_BGR2RGB))\n",
        "    axs[0].set_title('Original')\n",
        "\n",
        "    axs[1].imshow(smoothed_image, cmap='jet')\n",
        "    axs[1].set_title(name)"
      ],
      "metadata": {
        "id": "Ps-Lc-VLhZqI"
      },
      "execution_count": 46,
      "outputs": []
    },
    {
      "cell_type": "markdown",
      "source": [
        "### Original Model"
      ],
      "metadata": {
        "id": "aT16wCS4zrAF"
      }
    },
    {
      "cell_type": "code",
      "source": [
        "# Define the model architecture for 20 classes\n",
        "model_train = models.resnet18(pretrained=True)\n",
        "num_ftrs = model_train.fc.in_features\n",
        "model_train.fc = nn.Linear(num_ftrs, 20)  # Output layer for 20 classes\n",
        "model_train=model_train.to(device)\n",
        "# L2 regularization\n",
        "weight_decay = 0 # Adjust this value if needed\n",
        "\n",
        "# Define optimizer (Adam is commonly used)\n",
        "optimizer = optim.Adam(model_train.parameters(), lr=0.001, weight_decay=0.001)  # Adjust lr if needed\n",
        "\n",
        "# Define loss function (cross-entropy for classification)\n",
        "criterion = nn.CrossEntropyLoss()\n",
        "\n",
        "# Train the model on the entire retain set\n",
        "train_model(model_train, criterion, optimizer, train_loader, num_epochs=10)"
      ],
      "metadata": {
        "id": "Kv6HKOncweaM",
        "colab": {
          "base_uri": "https://localhost:8080/"
        },
        "outputId": "ffc210e8-fe5e-4847-bd7a-d4a80cff342e"
      },
      "execution_count": 47,
      "outputs": [
        {
          "output_type": "stream",
          "name": "stdout",
          "text": [
            "Epoch [1/10] | Loss: 1.7920\n",
            "Epoch [2/10] | Loss: 1.2292\n",
            "Epoch [3/10] | Loss: 1.0019\n",
            "Epoch [4/10] | Loss: 0.8215\n",
            "Epoch [5/10] | Loss: 0.7090\n",
            "Epoch [6/10] | Loss: 0.5403\n",
            "Epoch [7/10] | Loss: 0.4715\n",
            "Epoch [8/10] | Loss: 0.4131\n",
            "Epoch [9/10] | Loss: 0.3894\n",
            "Epoch [10/10] | Loss: 0.3305\n"
          ]
        }
      ]
    },
    {
      "cell_type": "code",
      "source": [
        "test_accuracy = evaluate_model(model_train, test_loader)\n",
        "print(f\"Accuracy on the test dataset: {test_accuracy:.2f}%\")"
      ],
      "metadata": {
        "id": "wqqCXCP4wgLC",
        "colab": {
          "base_uri": "https://localhost:8080/"
        },
        "outputId": "745259fa-a2ca-4b77-d4cc-d0bfa6f6f139"
      },
      "execution_count": 48,
      "outputs": [
        {
          "output_type": "stream",
          "name": "stdout",
          "text": [
            "Accuracy on the test dataset: 51.90%\n"
          ]
        }
      ]
    },
    {
      "cell_type": "code",
      "source": [
        "test_accuracy = evaluate_model(model_train, forget_loader)\n",
        "print(f\"Accuracy on the forget dataset: {test_accuracy:.2f}%\")"
      ],
      "metadata": {
        "id": "gBz3xgDQ47Cb",
        "colab": {
          "base_uri": "https://localhost:8080/"
        },
        "outputId": "f90d3b61-81d6-4555-879c-1800ffd29747"
      },
      "execution_count": 49,
      "outputs": [
        {
          "output_type": "stream",
          "name": "stdout",
          "text": [
            "Accuracy on the forget dataset: 43.00%\n"
          ]
        }
      ]
    },
    {
      "cell_type": "code",
      "source": [
        "test_accuracy = evaluate_model(model_train, retain_loader)\n",
        "print(f\"Accuracy on the retain dataset: {test_accuracy:.2f}%\")"
      ],
      "metadata": {
        "id": "iSWckfkH5F-p",
        "colab": {
          "base_uri": "https://localhost:8080/"
        },
        "outputId": "dcf6a33a-2a2f-473e-afea-4b782135dee0"
      },
      "execution_count": 50,
      "outputs": [
        {
          "output_type": "stream",
          "name": "stdout",
          "text": [
            "Accuracy on the retain dataset: 86.82%\n"
          ]
        }
      ]
    },
    {
      "cell_type": "markdown",
      "source": [
        "### Retrain Forgetting"
      ],
      "metadata": {
        "id": "g6M3SBIT1zxx"
      }
    },
    {
      "cell_type": "code",
      "source": [
        "# Define the model architecture for 20 classes\n",
        "model_retrain = models.resnet18(pretrained=True)\n",
        "num_ftrs = model_retrain.fc.in_features\n",
        "model_retrain.fc = nn.Linear(num_ftrs, 20)  # Output layer for 20 classes\n",
        "model_retrain = model_retrain.to(device)\n",
        "\n",
        "# L2 regularization\n",
        "weight_decay = 0 # Adjust this value if needed\n",
        "\n",
        "# Define optimizer (Adam is commonly used)\n",
        "optimizer = optim.Adam(model_retrain.parameters(), lr=0.001, weight_decay=0.001)  # Adjust lr if needed\n",
        "\n",
        "# Define loss function (cross-entropy for classification)\n",
        "criterion = nn.CrossEntropyLoss()\n",
        "\n",
        "# Train the model on the entire retain set\n",
        "train_model(model_retrain, criterion, optimizer, retain_loader, num_epochs=10)"
      ],
      "metadata": {
        "id": "vkgwVwco1zCB",
        "colab": {
          "base_uri": "https://localhost:8080/"
        },
        "outputId": "fb44ccff-6fdc-422b-d6ac-b0bda593fe77"
      },
      "execution_count": 51,
      "outputs": [
        {
          "output_type": "stream",
          "name": "stdout",
          "text": [
            "Epoch [1/10] | Loss: 1.7578\n",
            "Epoch [2/10] | Loss: 1.1718\n",
            "Epoch [3/10] | Loss: 0.9463\n",
            "Epoch [4/10] | Loss: 0.7476\n",
            "Epoch [5/10] | Loss: 0.6177\n",
            "Epoch [6/10] | Loss: 0.4966\n",
            "Epoch [7/10] | Loss: 0.4278\n",
            "Epoch [8/10] | Loss: 0.3729\n",
            "Epoch [9/10] | Loss: 0.3237\n",
            "Epoch [10/10] | Loss: 0.2671\n"
          ]
        }
      ]
    },
    {
      "cell_type": "code",
      "source": [
        "test_accuracy = evaluate_model(model_retrain, test_loader)\n",
        "print(f\"Accuracy on the test dataset: {test_accuracy:.2f}%\")"
      ],
      "metadata": {
        "id": "VEqUt4c53Hrw",
        "colab": {
          "base_uri": "https://localhost:8080/"
        },
        "outputId": "82ca6f4d-ae16-405d-cd48-ef4f2b245d51"
      },
      "execution_count": 52,
      "outputs": [
        {
          "output_type": "stream",
          "name": "stdout",
          "text": [
            "Accuracy on the test dataset: 55.50%\n"
          ]
        }
      ]
    },
    {
      "cell_type": "code",
      "source": [
        "test_accuracy = evaluate_model(model_retrain, retain_loader)\n",
        "print(f\"Accuracy on the retain dataset: {test_accuracy:.2f}%\")"
      ],
      "metadata": {
        "id": "8vV6ijIf3wJz",
        "colab": {
          "base_uri": "https://localhost:8080/"
        },
        "outputId": "8aa59877-169e-46ab-9dd0-67c22104d1ce"
      },
      "execution_count": 53,
      "outputs": [
        {
          "output_type": "stream",
          "name": "stdout",
          "text": [
            "Accuracy on the retain dataset: 92.97%\n"
          ]
        }
      ]
    },
    {
      "cell_type": "code",
      "source": [
        "test_accuracy = evaluate_model(model_retrain, forget_loader)\n",
        "print(f\"Accuracy on the forget dataset: {test_accuracy:.2f}%\")"
      ],
      "metadata": {
        "id": "naUPJCZv5pkH",
        "colab": {
          "base_uri": "https://localhost:8080/"
        },
        "outputId": "ba7668ff-e65e-4c50-ea6a-cd80761775ba"
      },
      "execution_count": 54,
      "outputs": [
        {
          "output_type": "stream",
          "name": "stdout",
          "text": [
            "Accuracy on the forget dataset: 0.00%\n"
          ]
        }
      ]
    },
    {
      "cell_type": "markdown",
      "source": [
        "### SCRUBB Forgetting"
      ],
      "metadata": {
        "id": "ZfSK5woQ3nWf"
      }
    },
    {
      "cell_type": "code",
      "source": [
        "model_t1 = copy.deepcopy(model_train)\n",
        "model_s1 = copy.deepcopy(model_train)"
      ],
      "metadata": {
        "id": "V-xyUhcC7ICm"
      },
      "execution_count": 59,
      "outputs": []
    },
    {
      "cell_type": "code",
      "source": [
        "#this is from https://github.com/ojus1/SmoothedGradientDescentAscent/blob/main/SGDA.py\n",
        "#For SGDA smoothing\n",
        "beta = 0.1\n",
        "def avg_fn(averaged_model_parameter, model_parameter, num_averaged): return (\n",
        "    1 - beta) * averaged_model_parameter + beta * model_parameter\n",
        "swa_model = torch.optim.swa_utils.AveragedModel(\n",
        "    model_s1, avg_fn=avg_fn)"
      ],
      "metadata": {
        "id": "9dWhvLuU7ICm"
      },
      "execution_count": 60,
      "outputs": []
    },
    {
      "cell_type": "code",
      "source": [
        "class arguments():\n",
        "    def __init__(self,alpha,beta,gamma):\n",
        "        self.alpha=alpha\n",
        "        self.beta=beta\n",
        "        self.gamma=gamma\n",
        "args=arguments(0.5,0.5,1)\n",
        "\n",
        "sgda_learning_rate = 0.0005\n",
        "lr_decay_epochs = [5,8,9]\n",
        "lr_decay_rate = 0.1\n",
        "\n",
        "module_list = nn.ModuleList([])\n",
        "module_list.append(model_s1)\n",
        "module_list.append(model_t1)\n",
        "\n",
        "criterion_cls = nn.CrossEntropyLoss()\n",
        "criterion_div = DistillKL(2)\n",
        "criterion_kd = DistillKL(2)\n",
        "\n",
        "\n",
        "criterion_list = nn.ModuleList([])\n",
        "criterion_list.append(criterion_cls)    # classification loss\n",
        "criterion_list.append(criterion_div)    # KL divergence loss, original knowledge distillation\n",
        "criterion_list.append(criterion_kd)     # other knowledge distillation loss"
      ],
      "metadata": {
        "id": "MmeCO-mH7ICn",
        "colab": {
          "base_uri": "https://localhost:8080/"
        },
        "outputId": "e3f4a0e2-4ae5-40c7-d8aa-4581593f95ea"
      },
      "execution_count": 61,
      "outputs": [
        {
          "output_type": "execute_result",
          "data": {
            "text/plain": [
              "ModuleList(\n",
              "  (0): CrossEntropyLoss()\n",
              "  (1-2): 2 x DistillKL()\n",
              ")"
            ]
          },
          "metadata": {},
          "execution_count": 61
        }
      ]
    },
    {
      "cell_type": "code",
      "source": [
        "class AverageMeter(object):\n",
        "    \"\"\"Computes and stores the average and current value\"\"\"\n",
        "    def __init__(self):\n",
        "        self.reset()\n",
        "\n",
        "    def reset(self):\n",
        "        self.val = 0\n",
        "        self.avg = 0\n",
        "        self.sum = 0\n",
        "        self.count = 0\n",
        "\n",
        "    def update(self, val, n=1):\n",
        "        self.val = val\n",
        "        self.sum += val * n\n",
        "        self.count += n\n",
        "        self.avg = self.sum / self.count"
      ],
      "metadata": {
        "id": "032heNEo1jTt"
      },
      "execution_count": 62,
      "outputs": []
    },
    {
      "cell_type": "code",
      "source": [
        "optimizer = torch.optim.Adam(model_s1.parameters(),\n",
        "                          lr=0.0005,\n",
        "                          weight_decay=0.1)\n",
        "\n",
        "if torch.cuda.is_available():\n",
        "    module_list.cuda()\n",
        "    criterion_list.cuda()\n",
        "    swa_model.cuda()\n",
        "\n",
        "loss_rs=[]\n",
        "loss_fs=[]\n",
        "for epoch in range(1, 10 + 1):\n",
        "\n",
        "    lr = adjust_learning_rate(epoch,sgda_learning_rate,lr_decay_epochs,lr_decay_rate , optimizer)\n",
        "\n",
        "    print(\"==> scrub unlearning ...\")\n",
        "\n",
        "    loss_r = validate(retain_loader, model_s1, criterion_cls, args, True)\n",
        "    loss_f = validate(forget_loader, model_s1, criterion_cls, args, True)\n",
        "#     acc_rs.append(100-acc_r.item())\n",
        "#     acc_fs.append(100-acc_f.item())\n",
        "    loss_rs.append(loss_r)\n",
        "    loss_fs.append(loss_f)\n",
        "\n",
        "    maximize_loss = 0\n",
        "    if epoch <=10:\n",
        "        maximize_loss = train_distill(epoch, forget_loader, module_list, swa_model, criterion_list, optimizer, args, \"maximize\")\n",
        "    minimize_loss = train_distill(epoch,retain_loader,module_list, swa_model, criterion_list, optimizer, args, \"minimize\",)\n",
        "\n",
        "    swa_model.update_parameters(model_s1)\n",
        "\n",
        "    print (\"maximize loss: {:.2f}\\t minimize loss: {:.2f}\".format(maximize_loss, minimize_loss))"
      ],
      "metadata": {
        "id": "8Skzqjwx7ICn",
        "colab": {
          "base_uri": "https://localhost:8080/"
        },
        "outputId": "430d2f20-331c-4899-d7cb-1435c5cba99a"
      },
      "execution_count": 63,
      "outputs": [
        {
          "output_type": "stream",
          "name": "stdout",
          "text": [
            "==> scrub unlearning ...\n",
            "maximize loss: -6.02\t minimize loss: 33.49\n",
            "==> scrub unlearning ...\n",
            "maximize loss: -6.90\t minimize loss: 11.93\n",
            "==> scrub unlearning ...\n",
            "maximize loss: 5.16\t minimize loss: 16.31\n",
            "==> scrub unlearning ...\n",
            "maximize loss: 6.80\t minimize loss: 17.19\n",
            "==> scrub unlearning ...\n",
            "maximize loss: 6.83\t minimize loss: 15.65\n",
            "==> scrub unlearning ...\n",
            "maximize loss: 6.40\t minimize loss: 13.32\n",
            "==> scrub unlearning ...\n",
            "maximize loss: 4.18\t minimize loss: 11.63\n",
            "==> scrub unlearning ...\n",
            "maximize loss: 2.62\t minimize loss: 10.42\n",
            "==> scrub unlearning ...\n",
            "maximize loss: 1.49\t minimize loss: 9.32\n",
            "==> scrub unlearning ...\n",
            "maximize loss: 0.52\t minimize loss: 8.42\n"
          ]
        }
      ]
    },
    {
      "cell_type": "code",
      "source": [
        "loss_rs"
      ],
      "metadata": {
        "id": "JJ9YYzon7ICn",
        "colab": {
          "base_uri": "https://localhost:8080/"
        },
        "outputId": "800ffcd6-ecca-45d1-c4a1-9790ba6662cc"
      },
      "execution_count": 64,
      "outputs": [
        {
          "output_type": "execute_result",
          "data": {
            "text/plain": [
              "[0.4333962455662814,\n",
              " 0.27899685940959235,\n",
              " 0.2543661345135082,\n",
              " 0.19168768340891057,\n",
              " 0.1330400181358511,\n",
              " 0.13982780226252295,\n",
              " 0.09421994645487178,\n",
              " 0.09625999530608004,\n",
              " 0.09749834231354973,\n",
              " 0.09612990514798597]"
            ]
          },
          "metadata": {},
          "execution_count": 64
        }
      ]
    },
    {
      "cell_type": "code",
      "source": [
        "loss_fs"
      ],
      "metadata": {
        "id": "tGvtEbJ99Pia",
        "colab": {
          "base_uri": "https://localhost:8080/"
        },
        "outputId": "68bee5d5-25ad-45fd-d275-da1365c8d09e"
      },
      "execution_count": 65,
      "outputs": [
        {
          "output_type": "execute_result",
          "data": {
            "text/plain": [
              "[1.0961059904098511,\n",
              " 1.3427443051338195,\n",
              " 1.4728235292434693,\n",
              " 1.3085604619979858,\n",
              " 1.2452546215057374,\n",
              " 1.4070926809310913,\n",
              " 1.2763079166412354,\n",
              " 1.2504433441162108,\n",
              " 1.2056998062133788,\n",
              " 1.2219657802581787]"
            ]
          },
          "metadata": {},
          "execution_count": 65
        }
      ]
    },
    {
      "cell_type": "code",
      "source": [
        "model_s1 = model_s1.cuda()\n",
        "test_accuracy = evaluate_model(model_s1, retain_loader)\n",
        "print(f\"Accuracy on the retain dataset: {test_accuracy:.2f}%\")"
      ],
      "metadata": {
        "id": "8PlYohF09QrP",
        "colab": {
          "base_uri": "https://localhost:8080/"
        },
        "outputId": "a04e415b-64f2-4018-f14c-661368ab4ab1"
      },
      "execution_count": 66,
      "outputs": [
        {
          "output_type": "stream",
          "name": "stdout",
          "text": [
            "Accuracy on the retain dataset: 99.53%\n"
          ]
        }
      ]
    },
    {
      "cell_type": "code",
      "source": [
        "\n",
        "test_accuracy = evaluate_model(model_s1, forget_loader)\n",
        "print(f\"Accuracy on the forget dataset: {test_accuracy:.2f}%\")"
      ],
      "metadata": {
        "id": "iSBfR0PI9hd7",
        "colab": {
          "base_uri": "https://localhost:8080/"
        },
        "outputId": "9e532ecf-f041-47a2-f325-846c8e41411a"
      },
      "execution_count": 67,
      "outputs": [
        {
          "output_type": "stream",
          "name": "stdout",
          "text": [
            "Accuracy on the forget dataset: 21.50%\n"
          ]
        }
      ]
    },
    {
      "cell_type": "code",
      "source": [
        "test_accuracy = evaluate_model(model_s1, test_loader)\n",
        "print(f\"Accuracy on the test dataset: {test_accuracy:.2f}%\")"
      ],
      "metadata": {
        "id": "fm3XnPNWDY5X",
        "colab": {
          "base_uri": "https://localhost:8080/"
        },
        "outputId": "8a22d090-4505-4648-a589-7bd5ed321502"
      },
      "execution_count": 68,
      "outputs": [
        {
          "output_type": "stream",
          "name": "stdout",
          "text": [
            "Accuracy on the test dataset: 63.80%\n"
          ]
        }
      ]
    },
    {
      "cell_type": "code",
      "source": [
        "loss_rs_ = loss_rs\n",
        "loss_fs_ = loss_fs"
      ],
      "metadata": {
        "id": "shRFnV4LFbvF"
      },
      "execution_count": 69,
      "outputs": []
    },
    {
      "cell_type": "markdown",
      "source": [
        "### SCRUB Forgetting with attention"
      ],
      "metadata": {
        "id": "qxKq1UXQAzv-"
      }
    },
    {
      "cell_type": "code",
      "source": [
        "model_t2 = copy.deepcopy(model_train)\n",
        "model_s2 = copy.deepcopy(model_train)"
      ],
      "metadata": {
        "id": "OreSs1ROBYKg"
      },
      "execution_count": 70,
      "outputs": []
    },
    {
      "cell_type": "code",
      "source": [
        "#this is from https://github.com/ojus1/SmoothedGradientDescentAscent/blob/main/SGDA.py\n",
        "#For SGDA smoothing\n",
        "beta = 0.1\n",
        "def avg_fn(averaged_model_parameter, model_parameter, num_averaged): return (\n",
        "    1 - beta) * averaged_model_parameter + beta * model_parameter\n",
        "swa_model = torch.optim.swa_utils.AveragedModel(\n",
        "    model_s2, avg_fn=avg_fn)"
      ],
      "metadata": {
        "id": "0nhhnd1EBYKh"
      },
      "execution_count": 71,
      "outputs": []
    },
    {
      "cell_type": "code",
      "source": [
        "class arguments():\n",
        "    def __init__(self,alpha,beta,gamma,distill):\n",
        "        self.alpha=alpha\n",
        "        self.beta=beta\n",
        "        self.gamma=gamma\n",
        "        self.distill=distill\n",
        "args=arguments(0.5,0.5,1,'attention')\n",
        "\n",
        "sgda_learning_rate = 0.0005\n",
        "lr_decay_epochs = [5,8,9]\n",
        "lr_decay_rate = 0.1\n",
        "\n",
        "module_list = nn.ModuleList([])\n",
        "module_list.append(model_s2)\n",
        "module_list.append(model_t2)\n",
        "\n",
        "criterion_cls = nn.CrossEntropyLoss()\n",
        "criterion_div = DistillKL(2)\n",
        "criterion_kd = DistillKL(2)\n",
        "\n",
        "\n",
        "criterion_list = nn.ModuleList([])\n",
        "criterion_list.append(criterion_cls)    # classification loss\n",
        "criterion_list.append(criterion_div)    # KL divergence loss, original knowledge distillation\n",
        "criterion_list.append(criterion_kd)     # other knowledge distillation loss"
      ],
      "metadata": {
        "id": "5O_nMebaBYKh",
        "colab": {
          "base_uri": "https://localhost:8080/"
        },
        "outputId": "b31c69b3-8f61-46b9-fe9b-539a4cd2e4de"
      },
      "execution_count": 72,
      "outputs": [
        {
          "output_type": "execute_result",
          "data": {
            "text/plain": [
              "ModuleList(\n",
              "  (0): CrossEntropyLoss()\n",
              "  (1-2): 2 x DistillKL()\n",
              ")"
            ]
          },
          "metadata": {},
          "execution_count": 72
        }
      ]
    },
    {
      "cell_type": "code",
      "source": [
        "optimizer = torch.optim.Adam(model_s2.parameters(),\n",
        "                          lr=0.0005,\n",
        "                          weight_decay=0.1)\n",
        "\n",
        "if torch.cuda.is_available():\n",
        "    module_list.cuda()\n",
        "    criterion_list.cuda()\n",
        "    swa_model.cuda()\n",
        "\n",
        "loss_rs=[]\n",
        "loss_fs=[]\n",
        "for epoch in range(1, 10 + 1):\n",
        "\n",
        "    lr = adjust_learning_rate(epoch,sgda_learning_rate,lr_decay_epochs,lr_decay_rate , optimizer)\n",
        "\n",
        "    print(\"==> scrub unlearning ...\")\n",
        "\n",
        "    loss_r = validate(retain_loader, model_s2, criterion_cls, args, True)\n",
        "    loss_f = validate(forget_loader, model_s2, criterion_cls, args, True)\n",
        "#     acc_rs.append(100-acc_r.item())\n",
        "#     acc_fs.append(100-acc_f.item())\n",
        "    loss_rs.append(loss_r)\n",
        "    loss_fs.append(loss_f)\n",
        "\n",
        "    maximize_loss = 0\n",
        "    if epoch <=10:\n",
        "        maximize_loss = train_distill_feature(epoch, forget_loader, module_list, swa_model, criterion_list, optimizer, args, \"maximize\")\n",
        "    minimize_loss = train_distill_feature(epoch,retain_loader,module_list, swa_model, criterion_list, optimizer, args, \"minimize\",)\n",
        "\n",
        "    swa_model.update_parameters(model_s2)\n",
        "\n",
        "    print (\"maximize loss: {:.2f}\\t minimize loss: {:.2f}\".format(maximize_loss, minimize_loss))"
      ],
      "metadata": {
        "id": "EItHRpHdBYKh",
        "colab": {
          "base_uri": "https://localhost:8080/"
        },
        "outputId": "8089674c-76d5-43e2-b7b3-7e39627d1310"
      },
      "execution_count": 73,
      "outputs": [
        {
          "output_type": "stream",
          "name": "stdout",
          "text": [
            "==> scrub unlearning ...\n",
            "maximize loss: -5.93\t minimize loss: 32.90\n",
            "==> scrub unlearning ...\n",
            "maximize loss: -6.72\t minimize loss: 12.08\n",
            "==> scrub unlearning ...\n",
            "maximize loss: 5.41\t minimize loss: 16.44\n",
            "==> scrub unlearning ...\n",
            "maximize loss: 7.40\t minimize loss: 17.15\n",
            "==> scrub unlearning ...\n",
            "maximize loss: 7.69\t minimize loss: 16.24\n",
            "==> scrub unlearning ...\n",
            "maximize loss: 6.83\t minimize loss: 13.61\n",
            "==> scrub unlearning ...\n",
            "maximize loss: 4.46\t minimize loss: 11.90\n",
            "==> scrub unlearning ...\n",
            "maximize loss: 2.85\t minimize loss: 10.65\n",
            "==> scrub unlearning ...\n",
            "maximize loss: 1.66\t minimize loss: 9.51\n",
            "==> scrub unlearning ...\n",
            "maximize loss: 0.64\t minimize loss: 8.59\n"
          ]
        }
      ]
    },
    {
      "cell_type": "code",
      "source": [
        "loss_rs"
      ],
      "metadata": {
        "id": "1ra0bpTOBYKh",
        "colab": {
          "base_uri": "https://localhost:8080/"
        },
        "outputId": "66a53873-8791-4604-cb4c-ebd2c0bfd46b"
      },
      "execution_count": 74,
      "outputs": [
        {
          "output_type": "execute_result",
          "data": {
            "text/plain": [
              "[0.43339625028046697,\n",
              " 0.21566912071271377,\n",
              " 0.22584186174652793,\n",
              " 0.2273752378875559,\n",
              " 0.19832950077273628,\n",
              " 0.16739271383393894,\n",
              " 0.09756078931418333,\n",
              " 0.0948592843521725,\n",
              " 0.09611566570672121,\n",
              " 0.09278011270544746]"
            ]
          },
          "metadata": {},
          "execution_count": 74
        }
      ]
    },
    {
      "cell_type": "code",
      "source": [
        "loss_fs"
      ],
      "metadata": {
        "id": "Flmtui9UBYKh",
        "colab": {
          "base_uri": "https://localhost:8080/"
        },
        "outputId": "f0196cd6-9f9c-4698-e980-0c0b21ed664a"
      },
      "execution_count": 75,
      "outputs": [
        {
          "output_type": "execute_result",
          "data": {
            "text/plain": [
              "[1.0961061573028565,\n",
              " 1.3591387939453126,\n",
              " 1.4264052438735961,\n",
              " 1.375390305519104,\n",
              " 1.4118709802627563,\n",
              " 1.309271969795227,\n",
              " 1.23723530292511,\n",
              " 1.2127041959762572,\n",
              " 1.2283004760742187,\n",
              " 1.222686619758606]"
            ]
          },
          "metadata": {},
          "execution_count": 75
        }
      ]
    },
    {
      "cell_type": "code",
      "source": [
        "model_s2 = model_s2.cuda()\n",
        "test_accuracy = evaluate_model(model_s2, retain_loader)\n",
        "print(f\"Accuracy on the retain dataset: {test_accuracy:.2f}%\")"
      ],
      "metadata": {
        "id": "N5djdTGHBYKh",
        "colab": {
          "base_uri": "https://localhost:8080/"
        },
        "outputId": "e7691dae-9f15-4c11-8bdc-08aed413fb96"
      },
      "execution_count": 76,
      "outputs": [
        {
          "output_type": "stream",
          "name": "stdout",
          "text": [
            "Accuracy on the retain dataset: 99.65%\n"
          ]
        }
      ]
    },
    {
      "cell_type": "code",
      "source": [
        "test_accuracy = evaluate_model(model_s2, forget_loader)\n",
        "print(f\"Accuracy on the forget dataset: {test_accuracy:.2f}%\")"
      ],
      "metadata": {
        "id": "0oCHJ_XtBYKh",
        "colab": {
          "base_uri": "https://localhost:8080/"
        },
        "outputId": "87189f7c-2db7-42e6-c995-7546d24464ec"
      },
      "execution_count": 77,
      "outputs": [
        {
          "output_type": "stream",
          "name": "stdout",
          "text": [
            "Accuracy on the forget dataset: 21.00%\n"
          ]
        }
      ]
    },
    {
      "cell_type": "code",
      "source": [
        "test_accuracy = evaluate_model(model_s2, test_loader)\n",
        "print(f\"Accuracy on the forget dataset: {test_accuracy:.2f}%\")"
      ],
      "metadata": {
        "id": "TkMvVnt0DU_q",
        "colab": {
          "base_uri": "https://localhost:8080/"
        },
        "outputId": "77751f58-45b2-4340-d636-7a1902b25bc3"
      },
      "execution_count": 78,
      "outputs": [
        {
          "output_type": "stream",
          "name": "stdout",
          "text": [
            "Accuracy on the forget dataset: 63.60%\n"
          ]
        }
      ]
    },
    {
      "cell_type": "markdown",
      "source": [
        "### SCRUB with Similarity feature maps"
      ],
      "metadata": {
        "id": "xWFwM2VmCQAc"
      }
    },
    {
      "cell_type": "code",
      "source": [
        "model_t3 = copy.deepcopy(model_train)\n",
        "model_s3= copy.deepcopy(model_train)"
      ],
      "metadata": {
        "id": "flx2cii7CTwF"
      },
      "execution_count": 79,
      "outputs": []
    },
    {
      "cell_type": "code",
      "source": [
        "#this is from https://github.com/ojus1/SmoothedGradientDescentAscent/blob/main/SGDA.py\n",
        "#For SGDA smoothing\n",
        "beta = 0.1\n",
        "def avg_fn(averaged_model_parameter, model_parameter, num_averaged): return (\n",
        "    1 - beta) * averaged_model_parameter + beta * model_parameter\n",
        "swa_model = torch.optim.swa_utils.AveragedModel(\n",
        "    model_s3, avg_fn=avg_fn)"
      ],
      "metadata": {
        "id": "rK9Nccr6CTwQ"
      },
      "execution_count": 80,
      "outputs": []
    },
    {
      "cell_type": "code",
      "source": [
        "class arguments():\n",
        "    def __init__(self,alpha,beta,gamma,distill):\n",
        "        self.alpha=alpha\n",
        "        self.beta=beta\n",
        "        self.gamma=gamma\n",
        "        self.distill=distill\n",
        "args=arguments(0.5,0.5,1,'similarity')\n",
        "\n",
        "sgda_learning_rate = 0.0005\n",
        "lr_decay_epochs = [5,8,9]\n",
        "lr_decay_rate = 0.1\n",
        "\n",
        "module_list = nn.ModuleList([])\n",
        "module_list.append(model_s3)\n",
        "module_list.append(model_t3)\n",
        "\n",
        "criterion_cls = nn.CrossEntropyLoss()\n",
        "criterion_div = DistillKL(2)\n",
        "criterion_kd = DistillKL(2)\n",
        "\n",
        "\n",
        "criterion_list = nn.ModuleList([])\n",
        "criterion_list.append(criterion_cls)    # classification loss\n",
        "criterion_list.append(criterion_div)    # KL divergence loss, original knowledge distillation\n",
        "criterion_list.append(criterion_kd)     # other knowledge distillation loss"
      ],
      "metadata": {
        "id": "THOjCTKJCTwQ",
        "colab": {
          "base_uri": "https://localhost:8080/"
        },
        "outputId": "79a767a0-b868-4ae8-91c5-f01891cc0255"
      },
      "execution_count": 81,
      "outputs": [
        {
          "output_type": "execute_result",
          "data": {
            "text/plain": [
              "ModuleList(\n",
              "  (0): CrossEntropyLoss()\n",
              "  (1-2): 2 x DistillKL()\n",
              ")"
            ]
          },
          "metadata": {},
          "execution_count": 81
        }
      ]
    },
    {
      "cell_type": "code",
      "source": [
        "optimizer = torch.optim.Adam(model_s3.parameters(),\n",
        "                          lr=0.0005,\n",
        "                          weight_decay=0.1)\n",
        "\n",
        "if torch.cuda.is_available():\n",
        "    module_list.cuda()\n",
        "    criterion_list.cuda()\n",
        "    swa_model.cuda()\n",
        "\n",
        "loss_rs=[]\n",
        "loss_fs=[]\n",
        "for epoch in range(1, 10 + 1):\n",
        "\n",
        "    lr = adjust_learning_rate(epoch,sgda_learning_rate,lr_decay_epochs,lr_decay_rate , optimizer)\n",
        "\n",
        "    print(\"==> scrub unlearning ...\")\n",
        "\n",
        "    loss_r = validate(retain_loader, model_s3, criterion_cls, args, True)\n",
        "    loss_f = validate(forget_loader, model_s3, criterion_cls, args, True)\n",
        "#     acc_rs.append(100-acc_r.item())\n",
        "#     acc_fs.append(100-acc_f.item())\n",
        "    loss_rs.append(loss_r)\n",
        "    loss_fs.append(loss_f)\n",
        "\n",
        "    maximize_loss = 0\n",
        "    if epoch <=10:\n",
        "        maximize_loss = train_distill_feature(epoch, forget_loader, module_list, swa_model, criterion_list, optimizer, args, \"maximize\")\n",
        "    minimize_loss = train_distill_feature(epoch,retain_loader,module_list, swa_model, criterion_list, optimizer, args, \"minimize\",)\n",
        "\n",
        "    swa_model.update_parameters(model_s3)\n",
        "\n",
        "    print (\"maximize loss: {:.2f}\\t minimize loss: {:.2f}\".format(maximize_loss, minimize_loss))"
      ],
      "metadata": {
        "id": "KNU_kc6SCTwQ",
        "colab": {
          "base_uri": "https://localhost:8080/"
        },
        "outputId": "56e02d71-c675-40e7-d1ab-bec7681d49e6"
      },
      "execution_count": 82,
      "outputs": [
        {
          "output_type": "stream",
          "name": "stdout",
          "text": [
            "==> scrub unlearning ...\n",
            "maximize loss: -6.01\t minimize loss: 32.75\n",
            "==> scrub unlearning ...\n",
            "maximize loss: -6.94\t minimize loss: 12.24\n",
            "==> scrub unlearning ...\n",
            "maximize loss: 5.41\t minimize loss: 16.15\n",
            "==> scrub unlearning ...\n",
            "maximize loss: 6.89\t minimize loss: 17.06\n",
            "==> scrub unlearning ...\n",
            "maximize loss: 7.22\t minimize loss: 16.13\n",
            "==> scrub unlearning ...\n",
            "maximize loss: 7.10\t minimize loss: 13.78\n",
            "==> scrub unlearning ...\n",
            "maximize loss: 4.55\t minimize loss: 11.98\n",
            "==> scrub unlearning ...\n",
            "maximize loss: 2.93\t minimize loss: 10.73\n",
            "==> scrub unlearning ...\n",
            "maximize loss: 1.77\t minimize loss: 9.58\n",
            "==> scrub unlearning ...\n",
            "maximize loss: 0.79\t minimize loss: 8.63\n"
          ]
        }
      ]
    },
    {
      "cell_type": "code",
      "source": [
        "loss_rs"
      ],
      "metadata": {
        "id": "l1IasoMTCTwR",
        "colab": {
          "base_uri": "https://localhost:8080/"
        },
        "outputId": "4942095a-365c-49ad-f44a-280a3143931a"
      },
      "execution_count": 83,
      "outputs": [
        {
          "output_type": "execute_result",
          "data": {
            "text/plain": [
              "[0.43339625044302504,\n",
              " 0.25431771137497644,\n",
              " 0.31471761725165626,\n",
              " 0.22372735527428714,\n",
              " 0.20162995506416667,\n",
              " 0.17380203312093562,\n",
              " 0.08907357974485917,\n",
              " 0.09376772680065848,\n",
              " 0.09806529796936295,\n",
              " 0.09009993680498816]"
            ]
          },
          "metadata": {},
          "execution_count": 83
        }
      ]
    },
    {
      "cell_type": "code",
      "source": [
        "loss_fs"
      ],
      "metadata": {
        "id": "FKOGSOiOCTwR",
        "colab": {
          "base_uri": "https://localhost:8080/"
        },
        "outputId": "95d6d17e-987b-4822-8416-a994254d55f9"
      },
      "execution_count": 84,
      "outputs": [
        {
          "output_type": "execute_result",
          "data": {
            "text/plain": [
              "[1.0961060643196106,\n",
              " 1.4254247760772705,\n",
              " 1.3847887516021729,\n",
              " 1.5859937381744384,\n",
              " 1.3949818372726441,\n",
              " 1.233231725692749,\n",
              " 1.1973570251464845,\n",
              " 1.182216386795044,\n",
              " 1.2026622486114502,\n",
              " 1.193802695274353]"
            ]
          },
          "metadata": {},
          "execution_count": 84
        }
      ]
    },
    {
      "cell_type": "code",
      "source": [
        "model_s3 = model_s3.cuda()\n",
        "test_accuracy = evaluate_model(model_s3, retain_loader)\n",
        "print(f\"Accuracy on the retain dataset: {test_accuracy:.2f}%\")"
      ],
      "metadata": {
        "id": "ERuRgchoCTwR",
        "colab": {
          "base_uri": "https://localhost:8080/"
        },
        "outputId": "fcfe57cb-e687-41e9-9fc4-8433d429543e"
      },
      "execution_count": 85,
      "outputs": [
        {
          "output_type": "stream",
          "name": "stdout",
          "text": [
            "Accuracy on the retain dataset: 99.58%\n"
          ]
        }
      ]
    },
    {
      "cell_type": "code",
      "source": [
        "test_accuracy = evaluate_model(model_s3, forget_loader)\n",
        "print(f\"Accuracy on the forget dataset: {test_accuracy:.2f}%\")"
      ],
      "metadata": {
        "id": "bIZMD0VcCTwR",
        "colab": {
          "base_uri": "https://localhost:8080/"
        },
        "outputId": "e2ec33de-7c5f-416a-fe84-f4be082f0226"
      },
      "execution_count": 86,
      "outputs": [
        {
          "output_type": "stream",
          "name": "stdout",
          "text": [
            "Accuracy on the forget dataset: 23.50%\n"
          ]
        }
      ]
    },
    {
      "cell_type": "code",
      "source": [
        "test_accuracy = evaluate_model(model_s3, test_loader)\n",
        "print(f\"Accuracy on the forget dataset: {test_accuracy:.2f}%\")"
      ],
      "metadata": {
        "id": "c_SnU_lwDQqW",
        "colab": {
          "base_uri": "https://localhost:8080/"
        },
        "outputId": "fb078b90-92dd-49b7-c291-7d2d4d32efa6"
      },
      "execution_count": 87,
      "outputs": [
        {
          "output_type": "stream",
          "name": "stdout",
          "text": [
            "Accuracy on the forget dataset: 62.30%\n"
          ]
        }
      ]
    },
    {
      "cell_type": "markdown",
      "source": [
        "### Heat map Generation"
      ],
      "metadata": {
        "id": "K6Q1FYYP2uXV"
      }
    },
    {
      "cell_type": "code",
      "source": [
        "import torch\n",
        "import torchvision\n",
        "import torchvision.transforms as T\n",
        "import numpy as np\n",
        "import matplotlib.pyplot as plt\n",
        "from torchsummary import summary\n",
        "import torchvision.transforms.functional as TF\n",
        "import requests\n",
        "from PIL import Image\n",
        "import copy\n",
        "import cv2\n",
        "\n",
        "# Preprocess the image\n",
        "def preprocess(image):\n",
        "    transform = T.Compose([\n",
        "        T.Normalize(mean=[0.485, 0.456, 0.406], std=[0.229, 0.224, 0.225]),\n",
        "        T.Lambda(lambda x: x[None]),\n",
        "    ])\n",
        "    return transform(image)\n",
        "\n",
        "def HeatMap(images_list):\n",
        "    rows, cols = 4,1\n",
        "    fig,axs = plt.subplots(rows, cols, figsize = (15, 15))\n",
        "    j = 1\n",
        "    names = ['Trained On Mislabelled', 'Retrain Forgetting', 'SCRUB', \"Attention based SCRUB\", 'Similarity SCRUB']\n",
        "    for model_name in list([model_train, model_retrain, model_s1]):\n",
        "        model = copy.deepcopy(model_name)\n",
        "        print(type(model))\n",
        "        for param in model.parameters():\n",
        "            param.requires_grad = False\n",
        "\n",
        "        image = small_train_data[images_list][0]\n",
        "        np_image = image.numpy()\n",
        "        reshaped_image = np.transpose(np_image, (1, 2, 0))  # Transpose dimensions to match HxWxC\n",
        "\n",
        "        img = image\n",
        "        X = preprocess(img)\n",
        "        model.eval()\n",
        "        X.requires_grad_()\n",
        "\n",
        "        scores = model(X.to(device))\n",
        "        score_max_index = scores.argmax()\n",
        "        score_max = scores[0,score_max_index]\n",
        "\n",
        "        score_max.backward()\n",
        "\n",
        "        saliency, _ = torch.max(X.grad.data.abs(),dim=1)\n",
        "\n",
        "        img_bgr = reshaped_image\n",
        "\n",
        "        squeezed_hm = saliency[0]\n",
        "        kernel_size = (3, 3)  # Adjust the kernel size as needed\n",
        "        smoothed_image = cv2.GaussianBlur(np.array(squeezed_hm), kernel_size, 0)\n",
        "\n",
        "        if(j == 1):\n",
        "            axs[0].imshow(cv2.cvtColor(img_bgr, cv2.COLOR_BGR2RGB))\n",
        "            axs[0].set_title('Original')\n",
        "\n",
        "        axs[j].imshow(smoothed_image, cmap='jet')\n",
        "        axs[j].set_title(names[j-1])\n",
        "\n",
        "        j = j + 1\n",
        ""
      ],
      "metadata": {
        "id": "qE4xr-q00k7s"
      },
      "execution_count": 190,
      "outputs": []
    },
    {
      "cell_type": "code",
      "source": [
        "HeatMap(12)"
      ],
      "metadata": {
        "id": "Ik0znDq2TaC-",
        "colab": {
          "base_uri": "https://localhost:8080/",
          "height": 1000
        },
        "outputId": "dddbb6a6-1132-4499-acdb-9a120167e443"
      },
      "execution_count": 193,
      "outputs": [
        {
          "output_type": "stream",
          "name": "stderr",
          "text": [
            "WARNING:matplotlib.image:Clipping input data to the valid range for imshow with RGB data ([0..1] for floats or [0..255] for integers).\n"
          ]
        },
        {
          "output_type": "stream",
          "name": "stdout",
          "text": [
            "<class 'torchvision.models.resnet.ResNet'>\n",
            "<class 'torchvision.models.resnet.ResNet'>\n",
            "<class 'torchvision.models.resnet.ResNet'>\n"
          ]
        },
        {
          "output_type": "display_data",
          "data": {
            "text/plain": [
              "<Figure size 1500x1500 with 4 Axes>"
            ],
            "image/png": "[encoded data removed]"
          },
          "metadata": {}
        }
      ]
    },
    {
      "cell_type": "code",
      "source": [
        "a = [-6.02, -6.90, 5.16, 6.8, 6.83, 6.4, 4.18, 2.62, 1.49, 0.52]\n",
        "b = [33.49, 11.93, 16.31, 17.19, 15.65, 13.32, 11.63, 10.42, 9.32, 8.42]\n",
        "y = list(range(10))\n",
        "plt.plot(y, a, label = 'Max loss')\n",
        "plt.plot(y, b, label = 'Min loss')\n",
        "plt.xlabel('Epochs')\n",
        "plt.ylabel('Loss')\n",
        "plt.legend()\n",
        "plt.show()"
      ],
      "metadata": {
        "id": "_SwWYa3KUXvH",
        "colab": {
          "base_uri": "https://localhost:8080/",
          "height": 451
        },
        "outputId": "bc35ba89-886b-453b-9216-99adedab2302"
      },
      "execution_count": 201,
      "outputs": [
        {
          "output_type": "display_data",
          "data": {
            "text/plain": [
              "<Figure size 640x480 with 1 Axes>"
            ],
            "image/png": "[encoded data removed]"
          },
          "metadata": {}
        }
      ]
    }
  ]
}